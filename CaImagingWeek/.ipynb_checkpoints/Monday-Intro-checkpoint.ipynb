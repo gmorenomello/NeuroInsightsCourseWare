{
 "cells": [
  {
   "cell_type": "markdown",
   "id": "e894933a",
   "metadata": {},
   "source": [
    "Hello! And welcome to the first day of the Calcium Imaging Week. \n",
    "\n",
    "<br>\n",
    "This week we will learn how to create a data processing pipeline for calcium imaging data. \n",
    "### What is calcium imaging?\n",
    "you ask? Great question! Calcium imaging allows you to actually *watch* specific neurons firing away in a live, behaving animal (well, usually mouse. but not always!). This is great, because humans, as experimentors, are very visual animals (did you know over half of our brain is devoted to vision), so we like to be able to \"see\" what we're measuring.\n"
   ]
  },
  {
   "cell_type": "markdown",
   "id": "2f314f68",
   "metadata": {},
   "source": [
    "\n",
    "what you should know BEFORE the experiment\n",
    "\n",
    "An example to motivate calcium imaging - the importance of knowing what’s happening in the network, not just individual neurons\n",
    "\n",
    "\n",
    "what are the figures you can see in a paper, and how to get there. \n",
    "\n",
    "\n",
    "Or, start with a question, and how calcium imaging answered it. \n",
    "\n",
    "\n",
    "Or start with a problematic paper and teach them how to see the fault lines\n",
    "#### Biochem intro to calcium sensors\n",
    "+ Intro to 2P \n",
    "+ Concepts to take away - point spread function, image changes over depth, power changes over depth\n",
    "+ Advantages/disadvantages of ca+2 imaging\n",
    "+ Many neurons\n",
    "+ Different compartments\n",
    "+ Neuron ID (genetic ID, projection type, etc)\n",
    "+ Tracking neurons across days\n",
    "+ Proxy for neuronal activity, not direct measurement\n",
    "+ Slow timescales\n",
    "#### Anatomy of an experiment\n",
    "+ stimulus/behavior/eye camera/ etc\n",
    "+ 2P acquisition\n",
    "+ Triggers\n",
    "+ Paper trail - reinforce good documentation/ability to reconstruct the experiment goes a long way to make sure you have usable data even if something went wrong\n",
    "+ File formats SI/behavior/etc\n",
    "+ Headers\n",
    "+ Tiff files\n",
    "+ NWB - pros and cons (eg metadata and data in same file, danger of corruption, always need to have multiple copies of data)\n",
    "#### Exercises/ Skill to learn : \n",
    "You get files - what happened in this experiment?\n",
    "+ Open files\n",
    "+ Check and display header info\n",
    "+ Answer some concept questions\n",
    "\n",
    " ----alternatively------\n",
    " + start with traces and make some pretty plots a la Ohki 2004\n",
    "#### Materials:\n",
    "+ Helmchen, Denk 2005\n",
    "+ Grienberger & Konnerth 2012\n",
    "+ Goard 2016\n",
    "+ Christopher Harvey lab - tracking neurons across days\n",
    "+ Smith Hauser 2010\n",
    "+ https://www.youtube.com/watch?v=82B8x3315Ac\n"
   ]
  },
  {
   "cell_type": "markdown",
   "id": "01b8d3d8",
   "metadata": {},
   "source": [
    "Today, you will load some ophys data from the Allen Brain Observatory. In the headers you will find information describing how the data was obtained. You will then look into the data and make some plots.\n",
    "(combine data streams? eye tracking + neural traces?\n"
   ]
  },
  {
   "cell_type": "code",
   "execution_count": null,
   "id": "746dd56b",
   "metadata": {},
   "outputs": [],
   "source": [
    "import"
   ]
  }
 ],
 "metadata": {
  "kernelspec": {
   "display_name": "Python 3",
   "language": "python",
   "name": "python3"
  },
  "language_info": {
   "codemirror_mode": {
    "name": "ipython",
    "version": 3
   },
   "file_extension": ".py",
   "mimetype": "text/x-python",
   "name": "python",
   "nbconvert_exporter": "python",
   "pygments_lexer": "ipython3",
   "version": "3.9.5"
  }
 },
 "nbformat": 4,
 "nbformat_minor": 5
}
