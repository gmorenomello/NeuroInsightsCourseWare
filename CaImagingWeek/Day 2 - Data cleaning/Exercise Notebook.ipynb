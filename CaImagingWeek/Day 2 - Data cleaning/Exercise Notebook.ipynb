{
 "cells": [
  {
   "cell_type": "markdown",
   "id": "e2c917bf",
   "metadata": {},
   "source": [
    "### Drawing ROIs"
   ]
  },
  {
   "cell_type": "markdown",
   "id": "1613fc0f",
   "metadata": {},
   "source": [
    "+ Show an image. \n",
    "+ Show a mask. \n",
    "+ Show what happens when you multiply. \n",
    "+ get the average\n",
    "+ Discuss how to store the mask values and convert to 2D/1D. (ravel, get shape and make plots to make sure you do it right)\n",
    "+ Have them build a for loop over ROIs, and then a for loop over frames"
   ]
  },
  {
   "cell_type": "markdown",
   "id": "f85ca746",
   "metadata": {},
   "source": [
    "### Calculating dF/F\n",
    "+  make a widget showing F trace, F0 and how change window size/ F0 percentile can affect it\n",
    "+  how to get F0 for each point\n",
    "+ subtract and divide to get dF/F"
   ]
  },
  {
   "cell_type": "markdown",
   "id": "a34c9aa2",
   "metadata": {},
   "source": [
    "### Background subtraction\n",
    "when should you subtract, before or after calculating F0? Answer: before"
   ]
  },
  {
   "cell_type": "markdown",
   "id": "87e60bbf",
   "metadata": {},
   "source": [
    "### Deconvolution\n",
    "+ widget/video to show convolution\n",
    "+ \"deconvolution\" on fake data to give them an intuition"
   ]
  },
  {
   "cell_type": "code",
   "execution_count": null,
   "id": "e5c6f7ad",
   "metadata": {},
   "outputs": [],
   "source": []
  }
 ],
 "metadata": {
  "kernelspec": {
   "display_name": "Python 3",
   "language": "python",
   "name": "python3"
  },
  "language_info": {
   "codemirror_mode": {
    "name": "ipython",
    "version": 3
   },
   "file_extension": ".py",
   "mimetype": "text/x-python",
   "name": "python",
   "nbconvert_exporter": "python",
   "pygments_lexer": "ipython3",
   "version": "3.9.5"
  }
 },
 "nbformat": 4,
 "nbformat_minor": 5
}
