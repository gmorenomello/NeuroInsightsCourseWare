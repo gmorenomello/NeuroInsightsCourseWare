{
 "cells": [
  {
   "cell_type": "markdown",
   "id": "c0cdbcee",
   "metadata": {},
   "source": [
    "### Drawing ROIs"
   ]
  },
  {
   "cell_type": "markdown",
   "id": "03924e39",
   "metadata": {},
   "source": [
    "Show an image. Show a mask. Show what happens when you multiply. Make them "
   ]
  },
  {
   "cell_type": "code",
   "execution_count": null,
   "id": "ae0db5b3",
   "metadata": {},
   "outputs": [],
   "source": []
  }
 ],
 "metadata": {
  "kernelspec": {
   "display_name": "Python 3",
   "language": "python",
   "name": "python3"
  },
  "language_info": {
   "codemirror_mode": {
    "name": "ipython",
    "version": 3
   },
   "file_extension": ".py",
   "mimetype": "text/x-python",
   "name": "python",
   "nbconvert_exporter": "python",
   "pygments_lexer": "ipython3",
   "version": "3.9.5"
  }
 },
 "nbformat": 4,
 "nbformat_minor": 5
}
