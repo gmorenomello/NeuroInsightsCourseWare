{
 "cells": [
  {
   "cell_type": "markdown",
   "id": "702e4f00",
   "metadata": {},
   "source": [
    "### How to go from neural traces to insights about the brain\n",
    "Neuroscience is still very much a field of trying to understand which neurons care about what. The idea of a \"receptive field\" or the ideal stimulus of a neuron. This concept has evolved from when it was first introduced by Sherrington, where it was conceived as a primarily static, perceptual thing _was it really? check_ Now it can be more complex and involve behavrior or cognitive components, but the structure is basically the same\n",
    "+ Do neurons respond to a particular stimulus? \n",
    "+ Do neurons respond to the absence of a predictive stimulus? Keller, Scanziani 2020.\n",
    "+ Do neurons respond to a particular part of space? Dombeck 2010\n",
    "+ Do neurons respond to a certain combination of speed and visual flow? Roth, Hofer. 2016\n",
    "+ Do neurons respond to a certain movement? Li Svoboda 2015 \"A motor cortex circuit for motor planning and movement\" Fig 4\n",
    "\n",
    "These methods all look at basically a **correlation*** between the environment and neural activity.\n",
    "\n",
    "*Does not have to be linear\n",
    "\n",
    "Do you see a pattern between the figures in the papers we saw at the beginning?\n",
    "+ What kind of data do they show?\n",
    "+ How do they build the story?\n",
    "\n",
    "Generally data is described in an inverted funnel...from the most zoomed in to the most zoomed out (single trials -> single neurons -> population). The levels of this analysis may change with the technique (eg in fMRI, perhaps this goes from one brain area to many brain areas to many brains). The steps of data analysis follow this kind of story telling too!\n",
    "\n",
    "Our first approach to this problem will be **Data Visualization**. In fact, no matter what problem you are trying to solve with data... this will almost always be the step after data cleaning. It's crucial to understand your data, and the fastest way to get there is to look at it.\n",
    "\n",
    "So, in order to see how our neural traces correlate with variables in the environment, we will:\n",
    "1. we align our signals in time and across trials to conditions we think are meaningful. \n",
    "2. we take the average in the different conditions\n",
    "3. we look to see if the averages are different\n",
    "4. we do statistics to see if visually detectable differences are meaningful\n",
    "\n",
    "#### Align traces, calculate average and standard deviation\n",
    "Whenever you align to a certain timepoint in your trial, which can be eg the beginning of a stimulus or the animal's movement, you are essentially making a hypothesis about what the neuron is doing. Your hypothesis is that the timepoint marks some change that is important for that neuron. The goal of averaging is to _denoise_ your signals by amplifying consistent changes while minimizing the effect of random fluctuations. This is because the mean of random fluctuations up and down will go to zero, while any consistent change will be reflected in the mean.\n",
    "\n",
    "In addition to the mean, you always want to have a measure of confidence in your data. That's why you should always plot an estimate of error. This can be standard error or confidence intervals in the case of the mean, or interquartile range in the case of a median.\n",
    "\n",
    "When you're looking at a single neuron, usually you are averaging over trials. It can be useful to visualize both the per trial data, in addition to the averages. Means are sensitive to outliers, meaning that a large outlier will have a big effect on your mean. (Intuition: if your data points are coins on a ruler the mean is the point where you can put a support and the ruler will be balanced. If you add a coin far away from the others, your support will have to move a lot to compensate and keep the balance).\n",
    "\n",
    "#### Look at your data! Check all the neurons, maybe save plots to folder\n",
    "A good way to look at all your  neurons is to build a library of plots, one for each neuron, to see what kind of behavior they exhibit. If you see that indeed your neurons' activity is changing with your manipulation, maybe you want to quantify it. How do we do that?\n",
    "\n",
    "#### Make an index\n",
    "An index is a way of condensing the most important information in your visualization to 1 number. Say you care about how a neuron's activity changes when an animal is running. You can create a running modulation index. Or say you are recording visual neurons and you want to quantify how much a neuron is modulated by edges moving in its preferred or anti-preferred direction. You can calculate a direction selectivity index. \n",
    "\n",
    "Very often these take the form : (difference between conditions)/(sum of conditions). For example\n",
    "\n",
    "$$\\frac{response_{preferred} - response_{anti-preferred}}{response_{preferred} + response_{anti-preferred}}$$\n",
    "this is useful because you can see how much the neuron's activity changed, normalized by the total activity, so you are not biased to only see large responses. \n",
    "#### Population statistics\n",
    "#### Clustering"
   ]
  },
  {
   "cell_type": "code",
   "execution_count": null,
   "id": "45367325",
   "metadata": {},
   "outputs": [],
   "source": []
  },
  {
   "cell_type": "code",
   "execution_count": null,
   "id": "696d4bc0",
   "metadata": {},
   "outputs": [],
   "source": []
  }
 ],
 "metadata": {
  "kernelspec": {
   "display_name": "Python 3 (ipykernel)",
   "language": "python",
   "name": "python3"
  },
  "language_info": {
   "codemirror_mode": {
    "name": "ipython",
    "version": 3
   },
   "file_extension": ".py",
   "mimetype": "text/x-python",
   "name": "python",
   "nbconvert_exporter": "python",
   "pygments_lexer": "ipython3",
   "version": "3.8.0"
  }
 },
 "nbformat": 4,
 "nbformat_minor": 5
}
