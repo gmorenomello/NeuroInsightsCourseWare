{
 "cells": [
  {
   "cell_type": "markdown",
   "id": "98bfa747",
   "metadata": {},
   "source": [
    "### Decoding\n",
    "### GLM\n",
    "https://compneuro.neuromatch.io/tutorials/W1D4_GeneralizedLinearModels/W1D4_Intro.html\n",
    "https://www.youtube.com/watch?v=m1w7oywzwpA"
   ]
  },
  {
   "cell_type": "code",
   "execution_count": 1,
   "id": "6abc09ad",
   "metadata": {},
   "outputs": [],
   "source": [
    "### Regularization"
   ]
  },
  {
   "cell_type": "code",
   "execution_count": null,
   "id": "05f673a1",
   "metadata": {},
   "outputs": [],
   "source": []
  }
 ],
 "metadata": {
  "kernelspec": {
   "display_name": "Python 3 (ipykernel)",
   "language": "python",
   "name": "python3"
  },
  "language_info": {
   "codemirror_mode": {
    "name": "ipython",
    "version": 3
   },
   "file_extension": ".py",
   "mimetype": "text/x-python",
   "name": "python",
   "nbconvert_exporter": "python",
   "pygments_lexer": "ipython3",
   "version": "3.8.0"
  }
 },
 "nbformat": 4,
 "nbformat_minor": 5
}
