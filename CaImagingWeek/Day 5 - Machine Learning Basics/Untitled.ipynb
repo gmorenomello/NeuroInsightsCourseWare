{
 "cells": [
  {
   "cell_type": "markdown",
   "id": "8cba9fcd",
   "metadata": {},
   "source": [
    "### Cross validation \n",
    "over fitting\n",
    "bias variance"
   ]
  },
  {
   "cell_type": "code",
   "execution_count": null,
   "id": "80d73e9a",
   "metadata": {},
   "outputs": [],
   "source": []
  }
 ],
 "metadata": {
  "kernelspec": {
   "display_name": "Python 3 (ipykernel)",
   "language": "python",
   "name": "python3"
  },
  "language_info": {
   "codemirror_mode": {
    "name": "ipython",
    "version": 3
   },
   "file_extension": ".py",
   "mimetype": "text/x-python",
   "name": "python",
   "nbconvert_exporter": "python",
   "pygments_lexer": "ipython3",
   "version": "3.8.0"
  }
 },
 "nbformat": 4,
 "nbformat_minor": 5
}
