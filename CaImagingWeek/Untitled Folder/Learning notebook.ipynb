{
 "cells": [
  {
   "cell_type": "markdown",
   "id": "034240e3",
   "metadata": {},
   "source": [
    "### How to go from neural traces to insights about the brain\n",
    "Neuroscience is still very much a field of trying to understand which neurons care about what. The idea of a \"receptive field\" or the ideal stimulus of a neuron. This concept has evolved from when it was first introduced by Sherrington, where it was conceived as a primarily static, perceptual thing _was it really? check_ Now it can be more complex and involve behavrior or cognitive components, but the structure is basically the same\n",
    "+ Do neurons respond to the absence of a predictive stimulus? Keller, Scanziani 2020.\n",
    "+ Do neurons respond to a particular part of space?\n",
    "+ Do neurons respond to a certain combination of speed and visual flow?\n",
    "+ Do neurons respond to a certain movement?\n",
    "\n",
    "One of the ways these questions are addressed is to have many repetitions of a thing in the environment, measure neural responses, average across the conditions we care about and see if we can detect a fluctuation of the neural response that tracks with the envionmental manipulation. \n",
    "\n",
    "In other words, \n",
    "1. we align our signals in time and across trials to conditions we think are meaningful. \n",
    "2. we take the average in the different conditions\n",
    "3. we look to see if the averages are different\n",
    "4. we do statistics to see if visually detectable differences are meaningful\n",
    "\n",
    "#### Align traces, calculate average and standard deviation (!)\n",
    "#### Look at your data! Check all the neurons, maybe save plots to folder\n",
    "#### Make an index\n",
    "#### Population statistics\n",
    "#### Clustering"
   ]
  },
  {
   "cell_type": "code",
   "execution_count": null,
   "id": "0f8fbdef",
   "metadata": {},
   "outputs": [],
   "source": []
  }
 ],
 "metadata": {
  "kernelspec": {
   "display_name": "Python 3 (ipykernel)",
   "language": "python",
   "name": "python3"
  },
  "language_info": {
   "codemirror_mode": {
    "name": "ipython",
    "version": 3
   },
   "file_extension": ".py",
   "mimetype": "text/x-python",
   "name": "python",
   "nbconvert_exporter": "python",
   "pygments_lexer": "ipython3",
   "version": "3.8.0"
  }
 },
 "nbformat": 4,
 "nbformat_minor": 5
}
