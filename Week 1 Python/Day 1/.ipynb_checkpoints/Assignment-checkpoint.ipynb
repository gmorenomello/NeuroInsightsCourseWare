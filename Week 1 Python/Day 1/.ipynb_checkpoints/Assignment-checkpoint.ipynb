{
 "cells": [
  {
   "cell_type": "markdown",
   "metadata": {
    "collapsed": true,
    "pycharm": {
     "name": "#%% md\n"
    }
   },
   "source": [
    "# Assignment 1\n",
    "## Part 1: Laden swallow calculator\n",
    "### A)\n",
    "\n",
    "The first part of this assignment is intended to answer a very important question. \n",
    "One I'm sure many of you have pondered before:\n",
    "\n",
    "*How many swallows would it require to carry a coconut?*\n",
    "\n",
    "https://www.youtube.com/watch?v=liIlW-ovx0Y\n",
    "\n",
    "For this assignment you will be creating a simple calculator method that gives a number of swallows $N_s$ required to carry a given coconut of weight $W_c$. Given that the swallow carrying capacity $C_s$ using the simple formula:\n",
    " \n",
    "$N_s = \\frac{W_c}{ C_s}$\n",
    "\n",
    "The method should take two parameters\n",
    "- coconut weight (in grams)\n",
    "- swallow carrying capacity (in grams) (set a default value of 20g for this parameter)\n"
   ]
  },
  {
   "cell_type": "code",
   "execution_count": 5,
   "metadata": {
    "pycharm": {
     "is_executing": false,
     "name": "#%%\n"
    }
   },
   "outputs": [
    {
     "name": "stdout",
     "output_type": "stream",
     "text": [
      "Placeholder\n"
     ]
    }
   ],
   "source": [
    "def NOS():\n",
    "    print(\"Placeholder\")\n",
    "    # your code here  \n",
    "\n",
    "NOS()"
   ]
  },
  {
   "cell_type": "markdown",
   "metadata": {
    "pycharm": {
     "name": "#%% md\n"
    }
   },
   "source": [
    "### B) \n",
    "Considering that this method gives float numbers and not whole numbers and that a half a swallow is a poor beast of burden for coconut carrying. \n",
    "\n",
    "Modify the method in the following way:\n",
    "\n",
    "Round the answer up to the nearest whole number(roof the number) using only native python (No imports!)\n",
    "\n",
    "### C)\n",
    "Modify the solution to use the method Math.roof instead... (Sorry)\n",
    "\n",
    "### D)\n",
    "Modify the solution to print the answer as a sentence \"it would require 52 european swallows to carry a coconut weighing 1200 grams\"\n",
    "\n",
    "Tip: use string interpolation"
   ]
  },
  {
   "cell_type": "code",
   "execution_count": 4,
   "metadata": {
    "pycharm": {
     "is_executing": false,
     "name": "#%% \n"
    }
   },
   "outputs": [
    {
     "name": "stdout",
     "output_type": "stream",
     "text": [
      "Hello Neuro-insight!\n"
     ]
    }
   ],
   "source": [
    "world = \"Neuro-insight\"\n",
    "print(f'Hello {world}!')"
   ]
  },
  {
   "cell_type": "markdown",
   "metadata": {
    "pycharm": {
     "name": "#%% md\n"
    }
   },
   "source": [
    "### E) \n",
    "Considering that many swallows would have trouble grasping the same coconut, assume that they have constructed a carrying net out of creeping vine.\n",
    "The net would have a base weight $W_{n}$ default value 200g and every additional swallow would require a personal strand $W_{st}$ attached to the net in order to participate in the carrying with a default value of 5g. \n",
    "\n",
    "$$ N_s=\\frac{W_c + W_n}{C_s - W_{st}}$$\n",
    "\n",
    "### F)\n",
    "As there is a possibility that the $W_{st}$ exceeds the $C_s$ control for this in your method by giving a helpful output if this is the case like \"What i don't know that?!\"   \n",
    "\n",
    "### G (Optional) \n",
    "Modify the method further as you see fit to make it even more accurate.\n",
    "For example control for the number of swallows that can attach to the net without the need for personal strand\n",
    "\n",
    "## Part 2: Neuroscience technobabble/subfield/research paper generator"
   ]
  },
  {
   "cell_type": "code",
   "execution_count": 10,
   "metadata": {
    "pycharm": {
     "name": "#%%\n"
    }
   },
   "outputs": [
    {
     "name": "stdout",
     "output_type": "stream",
     "text": [
      "['amyloid-beta (Aβ) protein\\n', 'brain stem\\n', 'Broca’s area\\n', 'cerebrum\\n', 'enzyme\\n', 'in vivo\\n', 'in vitro\\n', 'in silico\\n', 'induced pluripotent stem cell']\n",
      "['concussion\\n', 'cognition\\n', 'consciousness\\n', 'brain-computer interface\\n', 'neurotransmitters\\n', 'addiction\\n', 'action potential\\n', 'Alzheimer’s disease\\n', 'angiography\\n', 'epigenetics\\n', 'fissure\\n', 'gene expression']\n"
     ]
    }
   ],
   "source": [
    "import os\n",
    "term = open(\"Term.txt\", \"r\", encoding=\"utf8\")\n",
    "noun = open(\"Noun.txt\", \"r\", encoding=\"utf8\")\n",
    "list_of_terms = term.readlines()\n",
    "list_of_nouns = noun.readlines()\n",
    "print(list_of_nouns)\n",
    "print(list_of_terms)"
   ]
  },
  {
   "cell_type": "code",
   "execution_count": null,
   "metadata": {},
   "outputs": [],
   "source": []
  }
 ],
 "metadata": {
  "kernelspec": {
   "display_name": "Python 3",
   "language": "python",
   "name": "python3"
  },
  "language_info": {
   "codemirror_mode": {
    "name": "ipython",
    "version": 3
   },
   "file_extension": ".py",
   "mimetype": "text/x-python",
   "name": "python",
   "nbconvert_exporter": "python",
   "pygments_lexer": "ipython3",
   "version": "3.7.4"
  },
  "pycharm": {
   "stem_cell": {
    "cell_type": "raw",
    "metadata": {
     "collapsed": false
    },
    "source": [
     "from IPython.display import HTML\n"
    ]
   }
  }
 },
 "nbformat": 4,
 "nbformat_minor": 1
}
