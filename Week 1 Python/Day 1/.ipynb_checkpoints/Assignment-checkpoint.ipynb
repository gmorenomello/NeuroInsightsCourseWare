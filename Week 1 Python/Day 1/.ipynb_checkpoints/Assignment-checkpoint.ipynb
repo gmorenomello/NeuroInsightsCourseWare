{
 "cells": [
  {
   "cell_type": "markdown",
   "metadata": {
    "collapsed": true,
    "pycharm": {
     "name": "#%% md\n"
    }
   },
   "source": [
    "# Assignment 1\n",
    "## Part 1: Laden swallow calculator\n",
    "### A)\n",
    "\n",
    "The first part of this assignment is intended to answer a very important question. \n",
    "One I'm sure many of you have pondered before:\n",
    "\n",
    "*How many swallows would it require to carry a coconut?*\n",
    "\n",
    "https://www.youtube.com/watch?v=liIlW-ovx0Y\n",
    "\n",
    "For this assignment you will be creating a simple calculator method that gives a number of swallows $N_s$ required to carry a given coconut of weight $W_c$. Given that the swallow carrying capacity $C_s$ using the simple formula of $N_s = W_c/ C_s$\n",
    "\n",
    "The method should take two parameters\n",
    "- coconut weight (in grams)\n",
    "- swallow carrying capacity (in grams) (set a default value of 20g for this parameter)\n"
   ]
  },
  {
   "cell_type": "code",
   "execution_count": 4,
   "metadata": {
    "pycharm": {
     "is_executing": false,
     "name": "#%%\n"
    }
   },
   "outputs": [
    {
     "name": "stdout",
     "output_type": "stream",
     "text": [
      "Hello neuro-insight!\n"
     ]
    }
   ],
   "source": [
    "def NOS():\n",
    "    print(\"Hello neuro-insight!\")\n",
    "    # your code here  \n",
    "\n",
    "NOS()"
   ]
  },
  {
   "cell_type": "markdown",
   "metadata": {
    "pycharm": {
     "name": "#%% md\n"
    }
   },
   "source": [
    "### B) \n",
    "Considering that this method gives float numbers and not whole numbers and that a half a swallow is a poor beast of burden for coconut carrying. \n",
    "\n",
    "Modify the method in the following way:\n",
    "\n",
    "Round the answer up to the nearest whole number using only native python (roof the number)\n",
    "\n",
    "### C)\n",
    "Modify the solution to use Math.roof method. (Sorry)\n",
    "\n",
    "### D) \n",
    "Considering that many swallows would have trouble grasping the same coconut, assume that they have constructed a carrying net out of creeping vine.\n",
    "The net would have a base weight $W_{n}$ and every additional swallow would require a personal strain $W_{st}$ attached to the net in order to participate "
   ]
  }
 ],
 "metadata": {
  "kernelspec": {
   "display_name": "Python 3",
   "language": "python",
   "name": "python3"
  },
  "language_info": {
   "codemirror_mode": {
    "name": "ipython",
    "version": 3
   },
   "file_extension": ".py",
   "mimetype": "text/x-python",
   "name": "python",
   "nbconvert_exporter": "python",
   "pygments_lexer": "ipython3",
   "version": "3.7.4"
  },
  "pycharm": {
   "stem_cell": {
    "cell_type": "raw",
    "metadata": {
     "collapsed": false
    },
    "source": []
   }
  }
 },
 "nbformat": 4,
 "nbformat_minor": 1
}
