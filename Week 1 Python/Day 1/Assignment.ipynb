{
 "cells": [
  {
   "cell_type": "markdown",
   "metadata": {
    "collapsed": true,
    "pycharm": {
     "name": "#%% md\n"
    }
   },
   "source": [
    "# Assignment 1\n",
    "For this assignment we will be practicing some simple native python. Some of you might be very confident in this topic so if you are only part 3 or both part 1 and 2 is strictly required to pass this assignment.\n",
    "## Part 1: Laden swallow calculator\n",
    "### A)\n",
    "\n",
    "The first part of this assignment is intended to answer a very important question. \n",
    "One I'm sure many of you have pondered before:\n",
    "\n",
    "*How many swallows would it require to carry a coconut?*\n",
    "\n",
    "https://www.youtube.com/watch?v=liIlW-ovx0Y\n",
    "\n",
    "For this assignment you will be creating a simple calculator method that gives a number of swallows $N_s$ required to carry a given coconut of weight $W_c$. Given that the swallow carrying capacity $C_s$ using the simple formula:\n",
    " \n",
    "$N_s = \\frac{W_c}{ C_s}$\n",
    "\n",
    "The method should take two parameters\n",
    "- coconut weight (in grams)\n",
    "- swallow carrying capacity (in grams) (set a default value of 20g for this parameter)\n"
   ]
  },
  {
   "cell_type": "code",
   "execution_count": 5,
   "metadata": {
    "pycharm": {
     "is_executing": false,
     "name": "#%%\n"
    }
   },
   "outputs": [
    {
     "name": "stdout",
     "output_type": "stream",
     "text": [
      "Placeholder\n"
     ]
    }
   ],
   "source": [
    "def NOS():\n",
    "    print(\"Placeholder\")\n",
    "    # your code here  \n",
    "\n",
    "NOS()"
   ]
  },
  {
   "cell_type": "markdown",
   "metadata": {
    "pycharm": {
     "name": "#%% md\n"
    }
   },
   "source": [
    "### B) \n",
    "Considering that this method gives float numbers and not whole numbers and that a half a swallow is a poor beast of burden for coconut carrying. \n",
    "\n",
    "Modify the method in the following way:\n",
    "\n",
    "Round the answer up to the nearest whole number(roof the number) using only native python (No imports!)\n",
    "\n",
    "### C)\n",
    "Modify the solution to use the method Math.roof instead... (Sorry)\n",
    "\n",
    "### D)\n",
    "Modify the solution to print the answer as a sentence \"it would require 52 european swallows to carry a coconut weighing 1200 grams\"\n",
    "\n",
    "Tip: use string interpolation"
   ]
  },
  {
   "cell_type": "code",
   "execution_count": 4,
   "metadata": {
    "pycharm": {
     "is_executing": false,
     "name": "#%% \n"
    }
   },
   "outputs": [
    {
     "name": "stdout",
     "output_type": "stream",
     "text": [
      "Hello Neuro-insight!\n"
     ]
    }
   ],
   "source": [
    "world = \"Neuro-insight\"\n",
    "print(f'Hello {world}!')"
   ]
  },
  {
   "cell_type": "markdown",
   "metadata": {
    "pycharm": {
     "name": "#%% md\n"
    }
   },
   "source": [
    "### E) \n",
    "Considering that many swallows would have trouble grasping the same coconut, assume that they have constructed a carrying net out of creeping vine.\n",
    "The net would have a base weight $W_{n}$ default value 200g and every additional swallow would require a personal strand $W_{st}$ attached to the net in order to participate in the carrying with a default value of 5g. \n",
    "\n",
    "$$ N_s=\\frac{W_c + W_n}{C_s - W_{st}}$$\n",
    "\n",
    "### F)\n",
    "As there is a possibility that the $W_{st}$ exceeds the $C_s$ control for this in your method by giving a helpful output if this is the case like \"What i don't know that?!\"   \n",
    "\n",
    "### G (Optional) \n",
    "Modify the method further as you see fit to make it even more accurate.\n",
    "For example control for the number of swallows that can attach to the net without the need for personal strand\n",
    "\n",
    "## Part 2: Neuroscience technobabble/subfield/research paper generator\n",
    "Having trouble thinking of your next research topic?\n",
    "\n",
    "Are your presentations making too much sense? \n",
    "\n",
    "No?... well regardless for this assignment we will be making a technobabble generator. \n",
    "There are two provided files. \"Noun.txt\" and \"Term.txt\"\n",
    "The goal is simple. when called the method new_paper should return a noun and a term, \n",
    "making essentially a new term like \"in vivo epigenetics\", \n",
    "this can be done by simply picking a random noun and a random term.\n",
    "\n",
    "https://www.youtube.com/watch?v=h4idB5KAfyc\n",
    "\n",
    "Tips: The files are in utf-8 encoding so read them with the parameter \n",
    ">encoding=\"utf8\" \n"
   ]
  },
  {
   "cell_type": "code",
   "execution_count": 13,
   "metadata": {
    "pycharm": {
     "name": "#%%\n"
    }
   },
   "outputs": [
    {
     "name": "stdout",
     "output_type": "stream",
     "text": [
      "['amyloid-beta (Aβ) protein', 'brain stem', 'Broca’s area', 'cerebrum', 'enzyme', 'in vivo', 'in vitro', 'in silico', 'induced pluripotent stem cell']\n",
      "['concussion', 'cognition', 'consciousness', 'brain-computer interface', 'neurotransmitters', 'addiction', 'action potential', 'Alzheimer’s disease', 'angiography', 'epigenetics', 'fissure', 'gene expression']\n",
      "brain stem brain-computer interface\n",
      "brain stem epigenetics\n",
      "cerebrum Alzheimer’s disease\n",
      "brain stem addiction\n",
      "in vivo addiction\n",
      "in silico consciousness\n",
      "brain stem epigenetics\n",
      "enzyme concussion\n",
      "in vitro brain-computer interface\n",
      "in vivo angiography\n"
     ]
    }
   ],
   "source": [
    "def new_paper_candidates(number_of_candidates=5):\n",
    "    print(\"new paper\")\n",
    "\n",
    "\n"
   ]
  },
  {
   "cell_type": "markdown",
   "source": [
    "### Part 3: Problem solving\n",
    "Solve some simple task you do manually with a stand alone python script. \n",
    "\n",
    "Some simple examples:\n",
    "- Rename a set of files in a folder\n",
    "- Move all files of specific type to another folder\n",
    "- Zip all the files in a folder\n",
    "- Generate a string matrix of useful formulas \n",
    "\n"
   ],
   "metadata": {
    "collapsed": false,
    "pycharm": {
     "name": "#%% md\n"
    }
   }
  }
 ],
 "metadata": {
  "kernelspec": {
   "display_name": "Python 3",
   "language": "python",
   "name": "python3"
  },
  "language_info": {
   "codemirror_mode": {
    "name": "ipython",
    "version": 3
   },
   "file_extension": ".py",
   "mimetype": "text/x-python",
   "name": "python",
   "nbconvert_exporter": "python",
   "pygments_lexer": "ipython3",
   "version": "3.7.4"
  },
  "pycharm": {
   "stem_cell": {
    "cell_type": "raw",
    "source": [
     "from IPython.display import HTML\n"
    ],
    "metadata": {
     "collapsed": false
    }
   }
  }
 },
 "nbformat": 4,
 "nbformat_minor": 1
}