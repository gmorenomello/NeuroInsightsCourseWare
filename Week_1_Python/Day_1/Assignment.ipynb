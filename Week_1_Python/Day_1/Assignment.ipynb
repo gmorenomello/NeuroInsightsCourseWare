{
 "cells": [
  {
   "cell_type": "markdown",
   "metadata": {
    "collapsed": true,
    "pycharm": {
     "name": "#%% md\n"
    }
   },
   "source": [
    "# Assignment 1\n",
    "For this assignment we will be practicing some simple native python.\n",
    "\n",
    "In order to pass this requirement only Part 3 or both Part 1 And Part 2 is required to pass. (Part 3 Or (Part 1 and Part 2))\n",
    "If you are confident in your python abilities Part 3 makes more sense and Part 1 and 2 if the opposite is the case. \n",
    "\n",
    "In order to deliver this assignment:\n",
    "Create it as a branch on git push the branch to the server, and deliver in canvas by providing a link to the file or folder containing this assignment. You can either modify this jupyter notebook file or create a new one with answers only.\n",
    "\n",
    "## Part 1: Laden swallow calculator\n",
    "### A)\n",
    "\n",
    "The first part of this assignment is intended to answer a very important question. \n",
    "One I'm sure many of you have pondered before:\n",
    "\n",
    "*How many swallows would it require to carry a coconut?*"
   ]
  },
  {
   "cell_type": "code",
   "execution_count": 1,
   "metadata": {
    "pycharm": {
     "is_executing": true,
     "name": "#%%\n"
    }
   },
   "outputs": [
    {
     "data": {
      "image/jpeg": "[encoded data removed]",
      "text/html": [
       "\n",
       "        <iframe\n",
       "            width=\"400\"\n",
       "            height=\"300\"\n",
       "            src=\"https://www.youtube.com/embed/liIlW-ovx0Y?autoplay=1\"\n",
       "            frameborder=\"0\"\n",
       "            allowfullscreen\n",
       "        ></iframe>\n",
       "        "
      ],
      "text/plain": [
       "<IPython.lib.display.YouTubeVideo at 0x28d348628c8>"
      ]
     },
     "metadata": {},
     "output_type": "display_data"
    }
   ],
   "source": [
    "from IPython.display import YouTubeVideo\n",
    "vid = YouTubeVideo(\"liIlW-ovx0Y\",autoplay=1)\n",
    "display(vid)"
   ]
  },
  {
   "cell_type": "markdown",
   "metadata": {
    "pycharm": {
     "name": "#%% md\n"
    }
   },
   "source": [
    "For this assignment you will be creating a simple calculator method that gives a number of swallows $N_s$ required to carry a given coconut of weight $W_c$. Given that the swallow carrying capacity $C_s$ using the simple formula:\n",
    " \n",
    "$N_s = \\frac{W_c}{ C_s}$\n",
    "\n",
    "The method should take two parameters\n",
    "- coconut weight (in grams)\n",
    "- swallow carrying capacity (in grams) (set a default value of 20g for this parameter)\n"
   ]
  },
  {
   "cell_type": "code",
   "execution_count": 2,
   "metadata": {
    "pycharm": {
     "is_executing": false,
     "name": "#%%\n"
    }
   },
   "outputs": [
    {
     "name": "stdout",
     "output_type": "stream",
     "text": [
      "Placeholder\n"
     ]
    }
   ],
   "source": [
    "def NOS():\n",
    "    print(\"Placeholder\")\n",
    "    # your code here  \n",
    "\n",
    "NOS()"
   ]
  },
  {
   "cell_type": "markdown",
   "metadata": {
    "pycharm": {
     "name": "#%% md\n"
    }
   },
   "source": [
    "### B) \n",
    "Considering that this method gives float numbers and not whole numbers and that a half a swallow is a poor beast of burden for coconut carrying. \n",
    "\n",
    "Modify the method in the following way:\n",
    "\n",
    "Round the answer up to the nearest whole number(roof/ceil the number) using only native python (No imports!)"
   ]
  },
  {
   "cell_type": "code",
   "execution_count": 3,
   "metadata": {
    "pycharm": {
     "name": "#%%\n"
    }
   },
   "outputs": [
    {
     "name": "stdout",
     "output_type": "stream",
     "text": [
      "Placeholder\n"
     ]
    }
   ],
   "source": [
    "def NOS():\n",
    "    print(\"Placeholder\")\n",
    "    # your code here  \n",
    "\n",
    "NOS()"
   ]
  },
  {
   "cell_type": "markdown",
   "metadata": {},
   "source": [
    "### C)\n",
    "Modify the solution to use the method Math.ceil instead... (Sorry)"
   ]
  },
  {
   "cell_type": "code",
   "execution_count": 4,
   "metadata": {
    "pycharm": {
     "name": "#%%\n"
    }
   },
   "outputs": [
    {
     "name": "stdout",
     "output_type": "stream",
     "text": [
      "Placeholder\n"
     ]
    }
   ],
   "source": [
    "def NOS():\n",
    "    print(\"Placeholder\")\n",
    "    # your code here  \n",
    "\n",
    "NOS()"
   ]
  },
  {
   "cell_type": "markdown",
   "metadata": {},
   "source": [
    "### D)\n",
    "Modify the solution to print the answer as a sentence \"it would require 52 european swallows to carry a coconut weighing 1200 grams\"\n",
    "\n",
    "Tip: use string interpolation"
   ]
  },
  {
   "cell_type": "code",
   "execution_count": 5,
   "metadata": {
    "pycharm": {
     "is_executing": false,
     "name": "#%% \n"
    }
   },
   "outputs": [
    {
     "name": "stdout",
     "output_type": "stream",
     "text": [
      "Hello Neuro-insight!\n"
     ]
    }
   ],
   "source": [
    "def NOS():\n",
    "    world = \"Neuro-insight\"\n",
    "    print(f'Hello {world}!')\n",
    "    # your code here  \n",
    "\n",
    "NOS()"
   ]
  },
  {
   "cell_type": "markdown",
   "metadata": {
    "pycharm": {
     "name": "#%% md\n"
    }
   },
   "source": [
    "### E) \n",
    "Considering that many swallows would have trouble grasping the same coconut, assume that they have constructed a carrying net out of creeping vine.\n",
    "The net would have a base weight $W_{n}$ default value 200g and every additional swallow would require a personal strand $W_{st}$ attached to the net in order to participate in the carrying with a default value of 5g. \n",
    "\n",
    "$$ N_s=\\frac{W_c + W_n}{C_s - W_{st}}$$"
   ]
  },
  {
   "cell_type": "code",
   "execution_count": 6,
   "metadata": {
    "pycharm": {
     "name": "#%%\n"
    }
   },
   "outputs": [
    {
     "name": "stdout",
     "output_type": "stream",
     "text": [
      "Placeholder\n"
     ]
    }
   ],
   "source": [
    "def NOS():\n",
    "    print(\"Placeholder\")\n",
    "    # your code here  \n",
    "\n",
    "NOS()"
   ]
  },
  {
   "cell_type": "markdown",
   "metadata": {},
   "source": [
    "### F)\n",
    "As there is a possibility that the $W_{st}$ exceeds the $C_s$ control for this in your method by giving a helpful output if this is the case like \"What i don't know that?!\"   "
   ]
  },
  {
   "cell_type": "code",
   "execution_count": 7,
   "metadata": {
    "pycharm": {
     "name": "#%%\n"
    }
   },
   "outputs": [
    {
     "name": "stdout",
     "output_type": "stream",
     "text": [
      "Placeholder\n"
     ]
    }
   ],
   "source": [
    "def NOS():\n",
    "    print(\"Placeholder\")\n",
    "    # your code here  \n",
    "\n",
    "NOS()"
   ]
  },
  {
   "cell_type": "markdown",
   "metadata": {},
   "source": [
    "### G (Optional) \n",
    "Modify the method further as you see fit to make it even more accurate.\n",
    "For example control for the number of swallows that can attach to the net without the need for personal strand"
   ]
  },
  {
   "cell_type": "code",
   "execution_count": 8,
   "metadata": {
    "pycharm": {
     "name": "#%%\n"
    }
   },
   "outputs": [
    {
     "name": "stdout",
     "output_type": "stream",
     "text": [
      "Placeholder\n"
     ]
    }
   ],
   "source": [
    "def NOS():\n",
    "    print(\"Placeholder\")\n",
    "    # your code here  \n",
    "\n",
    "NOS()"
   ]
  },
  {
   "cell_type": "markdown",
   "metadata": {},
   "source": [
    "## Part 2: Neuroscience technobabble/research paper generator\n",
    "Having trouble thinking of your next research topic?\n",
    "\n",
    "Are your presentations making too much sense? \n",
    "\n",
    "No?... well regardless for this assignment we will be making a technobabble generator. \n",
    "\n",
    "So far we have been concerined with how a swallow can carry a cocunuit now we will take the interventionist approach and try to find out what regulates such behavior. \n",
    "\n",
    "We will take inspiration from https://doi.org/10.1016/j.neuron.2016.12.041 (Krakauer, John W., et al. \"Neuroscience needs behavior: correcting a reductionist bias.\" Neuron 93.3 (2017): 480-490.) \n",
    "and implement a interventionist approach generator. \n",
    "\n",
    "\n",
    "![interventionist approach](../Resources/useful/interventionistApproach.jpg)\n",
    "\n",
    "<div class=\"alert alert-warning\">\n",
    "  <b>warning:</b> this is task missunderstanding the point of the article.\n",
    "</div>\n",
    "\n",
    "\n",
    "### A)\n",
    "There are three provided files. \"Curcuit.txt\", \"Filler.txt\" and \"Behavior.txt\"\n",
    "The goal is simple. when called the method new_paper should return a string combining a circuit a filler and a behavior in this order. \n",
    "this essentially makes a new conscept like \"Theta-gamma coupling at the temporal lobe shapes cocunut carying behavior\", \n",
    "this can be done by picking a random line from each file and combining them. "
   ]
  },
  {
   "cell_type": "code",
   "execution_count": 9,
   "metadata": {
    "pycharm": {
     "name": "#%% \n"
    }
   },
   "outputs": [
    {
     "data": {
      "image/jpeg": "[encoded data removed]",
      "text/html": [
       "\n",
       "        <iframe\n",
       "            width=\"400\"\n",
       "            height=\"300\"\n",
       "            src=\"https://www.youtube.com/embed/h4idB5KAfyc?autoplay=1\"\n",
       "            frameborder=\"0\"\n",
       "            allowfullscreen\n",
       "        ></iframe>\n",
       "        "
      ],
      "text/plain": [
       "<IPython.lib.display.YouTubeVideo at 0x28d348b4048>"
      ]
     },
     "metadata": {},
     "output_type": "display_data"
    }
   ],
   "source": [
    "from IPython.display import YouTubeVideo\n",
    "vid = YouTubeVideo(\"h4idB5KAfyc\",autoplay=1)\n",
    "display(vid)"
   ]
  },
  {
   "cell_type": "markdown",
   "metadata": {
    "pycharm": {
     "name": "#%% md\n"
    }
   },
   "source": [
    "Tips: The files are in utf-8 encoding so read them with the parameter \n",
    ">encoding=\"utf8\" \n",
    "\n",
    "Tips2: if you cant find the file using a direct path, use an absolute path to the txt file.\n",
    "\n",
    "<div class=\"alert alert-warning\">\n",
    "  <b>Warning:</b> Neuro-insight is not responsable for the publishability or comunity backlash from said paper, publishability may vary.\n",
    "</div>\n"
   ]
  },
  {
   "cell_type": "code",
   "execution_count": 19,
   "metadata": {
    "pycharm": {
     "is_executing": false,
     "name": "#%%\n"
    }
   },
   "outputs": [],
   "source": [
    "def new_paper_candidates(number_of_candidates=5):\n",
    "    print(\"placeholder\")\n"
   ]
  },
  {
   "cell_type": "markdown",
   "metadata": {
    "pycharm": {
     "name": "#%% md\n"
    }
   },
   "source": [
    "### B)\n",
    "Create method that writes the result of the previous method to a file "
   ]
  },
  {
   "cell_type": "code",
   "execution_count": 6,
   "metadata": {
    "pycharm": {
     "name": "#%%\n"
    }
   },
   "outputs": [],
   "source": [
    "def write_line_to_file(line, filename=\"Future_work.txt\"):\n",
    "    print(filename)\n",
    " "
   ]
  },
  {
   "cell_type": "markdown",
   "metadata": {
    "pycharm": {
     "name": "#%% md\n"
    }
   },
   "source": [
    "## Part 3: Problem solving\n",
    "Solve some simple task you do manually with a stand alone python script. \n",
    "\n",
    "Some simple examples:\n",
    "- Rename a set of files in a folder\n",
    "- Move all files of specific type to another folder\n",
    "- Zip all the files in a folder\n",
    "- Generate a string matrix of useful formulas "
   ]
  },
  {
   "cell_type": "markdown",
   "metadata": {},
   "source": [
    "## Part 4 Additional Optional tasks\n",
    "\n",
    "https://www.practicepython.org/\n"
   ]
  }
 ],
 "metadata": {
  "kernelspec": {
   "display_name": "Python 3",
   "language": "python",
   "name": "python3"
  },
  "language_info": {
   "codemirror_mode": {
    "name": "ipython",
    "version": 3
   },
   "file_extension": ".py",
   "mimetype": "text/x-python",
   "name": "python",
   "nbconvert_exporter": "python",
   "pygments_lexer": "ipython3",
   "version": "3.7.4"
  },
  "pycharm": {
   "stem_cell": {
    "cell_type": "raw",
    "metadata": {
     "collapsed": false
    },
    "source": [
     "from IPython.display import YouTubeVideo\n"
    ]
   }
  }
 },
 "nbformat": 4,
 "nbformat_minor": 1
}
