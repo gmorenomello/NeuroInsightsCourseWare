{
 "cells": [
  {
   "cell_type": "markdown",
   "metadata": {
    "pycharm": {
     "name": "#%% md\n"
    }
   },
   "source": [
    "# Python \n",
    "Its time to learn python, but first lets understand why and where python is most useful. \n",
    "\n",
    "The core of why to use python relies on several strengths\n",
    "- Easy and intuitive \n",
    "- Short development time\n",
    "- Portable\n",
    "- Large standard/native library\n",
    "- Active open source community(Lots of 3rd party tools)\n",
    "\n",
    "Python is considered a high level Scripting language. High level refers to the level of abstraction from machine code. Simply put, its more removed from the language that the code is ultimately transformed(compiled) into to. This level can be generalized into a balance between two opposing factors. \n",
    "- Human time (How long it takes to write the program)\n",
    "- Machine time (how long it takes for the program to run)\n",
    "\n",
    "All languages can be put on a scale between these two factors and can look roughly like this: \n",
    "\n",
    "\n",
    "![Machine vs Human](../Resources/useful/machineHumanSpeed.svg)\n",
    "\n",
    "As an example in order to print something in C the following code is necessary:\n",
    "<code>  \n",
    "#include &lt;stdio.h&gt;\n",
    "\n",
    "int main() {\n",
    "\tprintf(\"Hello World!\\n\"); \n",
    "\treturn 0;\n",
    "}\n",
    "</code>\n",
    "\n",
    "In contrast, python all you need is: \n"
   ]
  },
  {
   "cell_type": "code",
   "execution_count": 2,
   "metadata": {},
   "outputs": [
    {
     "name": "stdout",
     "output_type": "stream",
     "text": [
      "Hello World!\n"
     ]
    }
   ],
   "source": [
    "print(\"Hello World!\")"
   ]
  },
  {
   "cell_type": "markdown",
   "metadata": {
    "pycharm": {
     "name": "#%% md\n"
    }
   },
   "source": [
    "Now"
   ]
  },
  {
   "cell_type": "code",
   "execution_count": null,
   "outputs": [],
   "source": [],
   "metadata": {
    "collapsed": false,
    "pycharm": {
     "name": "#%%\n"
    }
   }
  },
  {
   "cell_type": "code",
   "execution_count": null,
   "metadata": {},
   "outputs": [],
   "source": []
  }
 ],
 "metadata": {
  "kernelspec": {
   "display_name": "Python 3",
   "language": "python",
   "name": "python3"
  },
  "language_info": {
   "codemirror_mode": {
    "name": "ipython",
    "version": 3
   },
   "file_extension": ".py",
   "mimetype": "text/x-python",
   "name": "python",
   "nbconvert_exporter": "python",
   "pygments_lexer": "ipython3",
   "version": "3.7.4"
  },
  "pycharm": {
   "stem_cell": {
    "cell_type": "raw",
    "source": [],
    "metadata": {
     "collapsed": false
    }
   }
  }
 },
 "nbformat": 4,
 "nbformat_minor": 4
}