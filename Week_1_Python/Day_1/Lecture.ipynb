{
 "cells": [
  {
   "cell_type": "markdown",
   "metadata": {
    "pycharm": {
     "name": "#%% md\n"
    }
   },
   "source": [
    "# Python \n",
    "It’s time to learn python, but first let’s understand why and where python is most useful. \n",
    "\n",
    "The core of why to use python relies on several strengths\n",
    "- Easy and intuitive \n",
    "- Short development time\n",
    "- Portable\n",
    "- Large standard/native library\n",
    "- Active open-source community (Lots of 3rd party tools)\n",
    "\n",
    "Python is considered a high-level Scripting language. High level refers to the level of abstraction from machine code. Simply put, its more removed from the language that the code is ultimately transformed(compiled) into to. This level can be generalized into a balance between two opposing factors. \n",
    "- Human time (How long it takes to write the program)\n",
    "- Machine time (how long it takes for the program to run)\n",
    "\n",
    "All languages can be put on a scale between these two factors and can look roughly(simplification) like this: \n",
    "\n",
    "\n",
    "![Machine vs Human](../Resources/useful/machineHumanSpeed.svg)\n",
    "\n",
    "As an example, in order to print something in C the following code is necessary:\n",
    "<code>  \n",
    "#include &lt;stdio.h&gt;\n",
    "\n",
    "int main() {\n",
    "\tprintf(\"Hello World!\\n\"); \n",
    "\treturn 0;\n",
    "}\n",
    "</code>\n",
    "\n",
    "In contrast, python all you need is:\n"
   ]
  },
  {
   "cell_type": "code",
   "execution_count": 108,
   "metadata": {
    "pycharm": {
     "is_executing": false
    }
   },
   "outputs": [
    {
     "name": "stdout",
     "output_type": "stream",
     "text": [
      "Hello World!\n"
     ]
    }
   ],
   "source": [
    "print(\"Hello World!\")"
   ]
  },
  {
   "cell_type": "markdown",
   "metadata": {
    "pycharm": {
     "is_executing": false,
     "name": "#%%\n"
    }
   },
   "source": [
    "In this example Python does not need a header file, a main method, every function to return something, and additionally a newline at the end of a print is automatically added.\n",
    "\n",
    "\n",
    "<div class=\"alert alert-info\">\n",
    "  <b>Note:</b> The term high-level programming language is a relative one, and what is usually referred to as high-level has changed through history. Compared to assembly, C is a high-level language, and C was often referred to as a high-level programming language in older sources. \n",
    "</div>\n",
    "\n",
    "\n",
    "### When is python useful?\n",
    "* Solving problem with the least effort (quick math in the terminal, small simple scripting tasks)\n",
    "* Gluing together other existing components. (other software, OS, ...)\n",
    "* Compared to other high level scripting language Python gives good access to system features and useful libraries. \n",
    "* Fast prototyping, high churn (quick turnaround)\n",
    "* Problems where performance is not an issue. \n",
    "* Has a large culture/community for Data Science/Machine learning/... and allows you to rely on existing solutions/artifacts.\n"
   ]
  },
  {
   "cell_type": "code",
   "execution_count": 8,
   "metadata": {
    "pycharm": {
     "is_executing": false
    }
   },
   "outputs": [
    {
     "data": {
      "image/jpeg": "[encoded data removed]",
      "text/html": [
       "\n",
       "        <iframe\n",
       "            width=\"400\"\n",
       "            height=\"300\"\n",
       "            src=\"https://www.youtube.com/embed/7s664NsLeFM?autoplay=1\"\n",
       "            frameborder=\"0\"\n",
       "            allowfullscreen\n",
       "        ></iframe>\n",
       "        "
      ],
      "text/plain": [
       "<IPython.lib.display.YouTubeVideo at 0x1d799934d88>"
      ]
     },
     "metadata": {},
     "output_type": "display_data"
    }
   ],
   "source": [
    "from IPython.display import YouTubeVideo\n",
    "vid = YouTubeVideo(\"7s664NsLeFM\",autoplay=1)\n",
    "display(vid)"
   ]
  },
  {
   "cell_type": "markdown",
   "metadata": {
    "pycharm": {
     "name": "#%% md\n"
    }
   },
   "source": [
    "## Let's learn some Python\n",
    "\n",
    "Luckily, we don’t have to reinvent the universe to make something useful in Python. There already are a few useful tools build int, but still let’s start at the simplest ones.\n",
    "\n",
    "We have already learned one thing, as is required by programming tutorial law we have first learned how to print hello world, so let’s move on.\n",
    "\n",
    "\n",
    "### Datatypes\n",
    "\n",
    "Python has a good deal of core datatypes.\n",
    "\n",
    "We will not cover memoryview/complex/set/frozenset/byte/bytearray. \n",
    "\n",
    "We will also split the remening datatypes into datastructures and basic data\n",
    "\n",
    "  \n",
    "<table class=\"table\">\n",
    "<thead>\n",
    "<tr>\n",
    "<th scope=\"col\" style=\"text-align: left; font-size: 16px\">Group</th>\n",
    "<th scope=\"col\" style=\"text-align: left; font-size: 16px\">Basic</th>\n",
    "<th scope=\"col\" style=\"text-align: left; font-size: 16px\">Datastructures</th>\n",
    "<th scope=\"col\" style=\"text-align: left; font-size: 16px\">Not Coverd</th>\n",
    "</tr>\n",
    "</thead>\n",
    "<tbody>\n",
    "<tr>\n",
    "<td style=\"text-align: left; font-size: 16px\">Text</td>\n",
    "<td style=\"text-align: left; font-size: 16px\">str</td>\n",
    "<td style=\"text-align: left; font-size: 16px\"></td>\n",
    "<td style=\"text-align: left; font-size: 16px\"></td>\n",
    "</tr>\n",
    "<tr>\n",
    "<td style=\"text-align: left; font-size: 16px\">Numeric</td>\n",
    "<td style=\"text-align: left; font-size: 16px\">int, float</td>\n",
    "<td style=\"text-align: left; font-size: 16px\"></td>\n",
    "<td style=\"text-align: left; font-size: 16px\">complex</td>\n",
    "</tr>\n",
    "<tr>\n",
    "<td style=\"text-align: left; font-size: 16px\">Sequence</td>\n",
    "<td style=\"text-align: left; font-size: 16px\"></td>\n",
    "<td style=\"text-align: left; font-size: 16px\">list, range, tuple</td>\n",
    "<td style=\"text-align: left; font-size: 16px\"></td>\n",
    "</tr>\n",
    "<tr>\n",
    "<td style=\"text-align: left; font-size: 16px\">Mapping</td>\n",
    "<td style=\"text-align: left; font-size: 16px\"></td>\n",
    "<td style=\"text-align: left; font-size: 16px\">dict</td>\n",
    "<td style=\"text-align: left; font-size: 16px\"></td>\n",
    "</tr>\n",
    "<tr>\n",
    "<td style=\"text-align: left; font-size: 16px\">Set</td>\n",
    "<td style=\"text-align: left; font-size: 16px\"></td>\n",
    "<td style=\"text-align: left; font-size: 16px\"></td>\n",
    "<td style=\"text-align: left; font-size: 16px\">set, frozenset</td>\n",
    "</tr>\n",
    "<tr>\n",
    "<td style=\"text-align: left; font-size: 16px\">Boolean</td>\n",
    "<td style=\"text-align: left; font-size: 16px\">bool</td>\n",
    "<td style=\"text-align: left; font-size: 16px\"></td>\n",
    "<td style=\"text-align: left; font-size: 16px\"></td>\n",
    "</tr>\n",
    "<tr>\n",
    "<td style=\"text-align: left; font-size: 16px\">Binary</td>\n",
    "<td style=\"text-align: left; font-size: 16px\"></td>\n",
    "<td style=\"text-align: left; font-size: 16px\"></td>\n",
    "<td style=\"text-align: left; font-size: 16px\">bytes, bytearray, memoryview</td>\n",
    "</tr>\n",
    "</tbody>\n",
    "</table>\n",
    "\n",
    "\n"
   ]
  },
  {
   "cell_type": "code",
   "execution_count": 28,
   "metadata": {
    "pycharm": {
     "is_executing": false
    }
   },
   "outputs": [],
   "source": [
    "# int (integer)\n",
    "12\n",
    "-8\n",
    "0\n",
    "\n",
    "# float (floating point)\n",
    "123.99\n",
    "-7.1\n",
    "0.0\n",
    "\n",
    "# str (string)\n",
    "\"This is a string\"\n",
    "\"So is this\"\n",
    "\"she sells seashells by the seashore\"\n",
    "\n",
    "# bool (Boolean)\n",
    "True\n",
    "False\n",
    "\n",
    "# None (null)\n",
    "None \n"
   ]
  },
  {
   "cell_type": "markdown",
   "metadata": {},
   "source": [
    "#### Basic Datatypes\n",
    "The numeric datatypes of int and float can be combined using the following operators:\n",
    "\n",
    "Arithmetics operators:\n",
    "\n",
    "* \\+ addition\n",
    "* \\- subtraction\n",
    "* \\* multiplication\n",
    "* \\/ division\n",
    "* ( ) grouping/parentheses\n",
    "* \\*\\* power\n",
    "* \\% remainder/modulo\n",
    "* \\/\\/ round down division/flooring\n",
    "\n",
    "\n",
    "<div class=\"alert alert-info\">\n",
    "  <b>Note:</b> They follow the order of arithmetical operations PEDMAS (Parenthesis, Exponents, Division & Multiplication, Addition & Subtraction). From the left to the right.\n",
    "</div>\n"
   ]
  },
  {
   "cell_type": "code",
   "execution_count": 54,
   "metadata": {
    "pycharm": {
     "is_executing": false
    }
   },
   "outputs": [
    {
     "name": "stdout",
     "output_type": "stream",
     "text": [
      "79\n",
      "79.0\n",
      "5\n",
      "\n",
      "1554\n",
      "14.8\n",
      "\n",
      "1.135135135135135\n",
      "\n",
      "38.0\n",
      "0.5316455696202531\n",
      "\n",
      "4\n",
      "1.3959645769144722\n",
      "\n",
      "0\n",
      "1\n",
      "5\n",
      "1.299999999999998\n",
      "\n",
      "1\n",
      "1\n",
      "1\n",
      "11.0\n",
      "\n"
     ]
    }
   ],
   "source": [
    "#Addition and Subtraction\n",
    "print(42+37)\n",
    "print(42+37.0)\n",
    "print(42-37)\n",
    "print()\n",
    "\n",
    "#Multiplication\n",
    "print(42*37)\n",
    "print(4*3.7)\n",
    "print()\n",
    "\n",
    "#Division\n",
    "print(42/37)\n",
    "print()\n",
    "\n",
    "#Grouping/Parentheses\n",
    "print(42/42+37)\n",
    "print(42/(42+37))\n",
    "print()\n",
    "\n",
    "#power\n",
    "print(2**2)\n",
    "print(1.1**3.5)\n",
    "print()\n",
    "\n",
    "#Remainder/Modulo\n",
    "print(2%2)\n",
    "print(3%2)\n",
    "print(42%37)\n",
    "print(42%3.7)\n",
    "print()\n",
    "\n",
    "#Round down division/Flooring\n",
    "print(2//2)\n",
    "print(3//2)\n",
    "print(42//37)\n",
    "print(42//3.7)\n",
    "print()"
   ]
  },
  {
   "cell_type": "markdown",
   "metadata": {},
   "source": [
    "Strings can be combined/concattenated using the + operator"
   ]
  },
  {
   "cell_type": "code",
   "execution_count": 5,
   "metadata": {
    "pycharm": {
     "is_executing": false
    }
   },
   "outputs": [
    {
     "name": "stdout",
     "output_type": "stream",
     "text": [
      "this is a string\n"
     ]
    }
   ],
   "source": [
    "print(\"this\" + \" is\" + \" a\" + \" string\")"
   ]
  },
  {
   "cell_type": "markdown",
   "metadata": {},
   "source": [
    "Boolean can be combined using \"and\", \"or\" and \"not\" effectivly making them into expressions, but we will come back to that. "
   ]
  },
  {
   "cell_type": "code",
   "execution_count": 6,
   "metadata": {
    "pycharm": {
     "is_executing": false
    }
   },
   "outputs": [
    {
     "name": "stdout",
     "output_type": "stream",
     "text": [
      "False\n",
      "True\n",
      "False\n"
     ]
    }
   ],
   "source": [
    "print(True and False)\n",
    "print(True or False)\n",
    "print(not(True))"
   ]
  },
  {
   "cell_type": "markdown",
   "metadata": {},
   "source": [
    "numbers, booleans and strings can be combined in ways some might consider ... unatural...\n"
   ]
  },
  {
   "cell_type": "code",
   "execution_count": 7,
   "metadata": {
    "pycharm": {
     "is_executing": false
    }
   },
   "outputs": [
    {
     "name": "stdout",
     "output_type": "stream",
     "text": [
      "foobarfoobarfoobarfoobarfoobarfoobarfoobarfoobarfoobar\n",
      "2\n",
      "1\n",
      "1000000\n",
      "1\n",
      "0\n",
      "1\n"
     ]
    }
   ],
   "source": [
    "print(\"foobar\" * 9)\n",
    "print(True + 1)\n",
    "print(False + 1)\n",
    "print(True * 1000000)\n",
    "print(True * True)\n",
    "print(True * False)\n",
    "print(True + False)"
   ]
  },
  {
   "cell_type": "markdown",
   "metadata": {},
   "source": [
    "<div class=\"alert alert-info\">\n",
    "  <b>Note:</b> True and False does this is because they are treated arithmetically as 1 and 0. \n",
    "</div>\n",
    "\n",
    "### Variables\n",
    "Python has dynamic typing rather then static typing. "
   ]
  },
  {
   "cell_type": "code",
   "execution_count": 27,
   "metadata": {
    "pycharm": {
     "is_executing": false
    }
   },
   "outputs": [
    {
     "name": "stdout",
     "output_type": "stream",
     "text": [
      "True\n",
      "foo\n",
      "1 2 3\n"
     ]
    }
   ],
   "source": [
    "x = True\n",
    "print(x)\n",
    "\n",
    "x = \"foo\"\n",
    "print(x)\n",
    "\n",
    "x,y,z = 1,2,3\n",
    "print(x,y,z)"
   ]
  },
  {
   "cell_type": "markdown",
   "metadata": {},
   "source": [
    "### Data structures\n",
    "#### Lists\n",
    "A list of data"
   ]
  },
  {
   "cell_type": "code",
   "execution_count": 55,
   "metadata": {},
   "outputs": [
    {
     "name": "stdout",
     "output_type": "stream",
     "text": [
      "8\n",
      "[1, 1, 2, 3, 5, 8, 13, 21, 34]\n",
      "1\n",
      "1\n",
      "2\n",
      "[55, 34, 21, 13, 8, 5, 3]\n",
      "[55, 34, 21, 13, 8, 5, 3, 1, 1, 2]\n",
      "[1, 1, 2, 3, 5, 8, 13, 21, 34, 55]\n"
     ]
    }
   ],
   "source": [
    "#Lists\n",
    "number_list = [1,1,2,3,5,8,13,21,34]\n",
    "print(number_list[5])\n",
    "\n",
    "\n",
    "print(number_list)\n",
    "\n",
    "number_list.append(55)\n",
    "\n",
    "\n",
    "print(number_list.pop(0))\n",
    "print(number_list.pop(0))\n",
    "print(number_list.pop(0))\n",
    "\n",
    "number_list.reverse()\n",
    "print(number_list)\n",
    "\n",
    "number_list.extend([1,1,2])\n",
    "print(number_list)\n",
    "\n",
    "number_list.sort()\n",
    "print(number_list)\n"
   ]
  },
  {
   "cell_type": "markdown",
   "metadata": {},
   "source": [
    "#### Tuple\n",
    "Like a list, only less functionality.\n",
    "\n",
    "Why? \n",
    "* Space-efficiency \n",
    "* Cultural \n",
    "* Semantics"
   ]
  },
  {
   "cell_type": "code",
   "execution_count": 60,
   "metadata": {},
   "outputs": [
    {
     "name": "stdout",
     "output_type": "stream",
     "text": [
      "8\n",
      "2\n",
      "5\n"
     ]
    }
   ],
   "source": [
    "#Tuple\n",
    "number_tuple = (1,1,2,3,5,8,13,21,34)\n",
    "print(number_tuple[5])\n",
    "\n",
    "print(number_tuple.count(1))\n",
    "\n",
    "print(number_tuple.index(8))"
   ]
  },
  {
   "cell_type": "markdown",
   "metadata": {},
   "source": [
    "#### Dictionary\n",
    "Key:value pair\n",
    "\n",
    "Why?\n",
    "* optimization (hash)\n",
    "* Look-up"
   ]
  },
  {
   "cell_type": "code",
   "execution_count": 85,
   "metadata": {},
   "outputs": [
    {
     "name": "stdout",
     "output_type": "stream",
     "text": [
      "{'color': 'white', 'uniform': 'sailor', 'temprament': 'Furius', 'age': 90}\n",
      "{'color': 'white', 'uniform': 'sailor', 'temprament': 'Furius', 'age': 90, 'name': 'Donald Duck'}\n",
      "Donald Duck\n",
      "{'Delhi': 'India', 'Oslo': 'Norway', 'Porto': 'Portugal', 'Trondheim': 'Norway'}\n"
     ]
    }
   ],
   "source": [
    "#Dictionary \n",
    "duck_dictionary = {    \n",
    "    \"color\": \"white\",\n",
    "    \"uniform\": \"sailor\",\n",
    "    \"temprament\": \"Furius\",\n",
    "    \"age\": 90\n",
    "}\n",
    "\n",
    "print(duck_dictionary)\n",
    "duck_dictionary[\"name\"] = \"Donald Duck\"\n",
    "\n",
    "print(duck_dictionary)\n",
    "\n",
    "print(duck_dictionary[\"name\"])\n",
    "\n",
    "\n",
    "city_country = {}\n",
    "city_country[\"Delhi\"] = \"India\"\n",
    "city_country[\"Oslo\"] = \"Norway\"\n",
    "city_country[\"Porto\"] = \"Portugal\"\n",
    "city_country[\"Trondheim\"] = \"Norway\"\n",
    "\n",
    "print(city_country)\n"
   ]
  },
  {
   "cell_type": "markdown",
   "metadata": {},
   "source": [
    "### Flow Control\n",
    "How to stear your code.\n",
    "\n",
    "#### If\n"
   ]
  },
  {
   "cell_type": "code",
   "execution_count": 117,
   "metadata": {},
   "outputs": [
    {
     "name": "stdout",
     "output_type": "stream",
     "text": [
      "Who's There?\n",
      "7 8 9\n",
      "7 8 9\n",
      "Can buy alcohole\n"
     ]
    }
   ],
   "source": [
    "joker = False\n",
    "who = False\n",
    "punchline = False\n",
    "\n",
    "if joker and not(who) and not(punchline):\n",
    "    print(\"knock knock\")\n",
    "elif not(joker) and not(who) and not(punchline):\n",
    "    print(\"Who's There?\")\n",
    "elif joker and who and not(punchline):\n",
    "    print(\"Cow says\")\n",
    "elif joker and not(who) and not(punchline):\n",
    "    print(\"Cow says Who?\")\n",
    "else:\n",
    "    print(\"No, a cow says moooooo!\")\n",
    "    \n",
    "if 7 < 9:\n",
    "    print(7,8,9)\n",
    "    \n",
    "if 7 == 9:\n",
    "    print(7,8,9)\n",
    "    \n",
    "if 7 != 9:\n",
    "    print(7,8,9)\n",
    "    \n",
    "if duck_dictionary[\"age\"] >= 18:\n",
    "    print(\"Can buy alcohole\")\n"
   ]
  },
  {
   "cell_type": "markdown",
   "metadata": {},
   "source": [
    "\n",
    "### For Loop"
   ]
  },
  {
   "cell_type": "code",
   "execution_count": 115,
   "metadata": {},
   "outputs": [
    {
     "name": "stdout",
     "output_type": "stream",
     "text": [
      "0\n",
      "1\n",
      "2\n",
      "3\n",
      "4\n",
      "5\n",
      "6\n",
      "7\n",
      "8\n",
      "9\n",
      "color -> white\n",
      "uniform -> sailor\n",
      "temprament -> Furius\n",
      "age -> 90\n",
      "name -> Donald Duck\n"
     ]
    }
   ],
   "source": [
    "for i in range(0,10):\n",
    "    print(i)\n",
    "    \n",
    "for i in duck_dictionary:\n",
    "    print(f'{i} -> {duck_dictionary[i]}' )"
   ]
  },
  {
   "cell_type": "markdown",
   "metadata": {},
   "source": [
    "### Method\n"
   ]
  },
  {
   "cell_type": "code",
   "execution_count": 102,
   "metadata": {},
   "outputs": [
    {
     "name": "stdout",
     "output_type": "stream",
     "text": [
      "knock knock\n",
      "Who's There?\n",
      "Cow says\n",
      "Cow says Who?\n",
      "No, a cow says moooooo!\n"
     ]
    }
   ],
   "source": [
    "def joke(joker, who, punchline = False): \n",
    "    if punchline:\n",
    "        return \"No, a cow says moooooo!\"\n",
    "    elif joker and not(who):\n",
    "        return \"knock knock\"\n",
    "    elif not(joker) and not(who):\n",
    "        return \"Who's There?\"\n",
    "    elif joker and who:\n",
    "        return \"Cow says\"\n",
    "    else:\n",
    "        return \"Cow says Who?\"\n",
    "    \n",
    "        \n",
    "\n",
    "print(joke(True, False))\n",
    "print(joke(False, False))\n",
    "print(joke(True, True))\n",
    "print(joke(False, True))\n",
    "print(joke(False, False, True))"
   ]
  },
  {
   "cell_type": "code",
   "execution_count": null,
   "metadata": {},
   "outputs": [],
   "source": []
  }
 ],
 "metadata": {
  "kernelspec": {
   "display_name": "Python 3",
   "language": "python",
   "name": "python3"
  },
  "language_info": {
   "codemirror_mode": {
    "name": "ipython",
    "version": 3
   },
   "file_extension": ".py",
   "mimetype": "text/x-python",
   "name": "python",
   "nbconvert_exporter": "python",
   "pygments_lexer": "ipython3",
   "version": "3.7.4"
  },
  "pycharm": {
   "stem_cell": {
    "cell_type": "raw",
    "metadata": {
     "collapsed": false
    },
    "source": []
   }
  }
 },
 "nbformat": 4,
 "nbformat_minor": 4
}
