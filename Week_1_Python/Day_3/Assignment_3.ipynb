{
 "cells": [
  {
   "cell_type": "markdown",
   "id": "88e50250",
   "metadata": {},
   "source": [
    "# Assignment 3\n",
    "\n",
    "For this assignment we will be learning numpy, and a little scipy, pillow, matplotlib make sure they are all installed via conda in your env. \n",
    "\n",
    "Use as much numpy as you can."
   ]
  },
  {
   "cell_type": "markdown",
   "id": "f4eb490c",
   "metadata": {},
   "source": [
    "## Part 1:\n",
    "### a) Create a 1 dimensional random array of length 10\n"
   ]
  },
  {
   "cell_type": "code",
   "execution_count": 213,
   "id": "2d392df7",
   "metadata": {},
   "outputs": [],
   "source": [
    "import numpy as np\n",
    "# Code"
   ]
  },
  {
   "cell_type": "markdown",
   "id": "9e224bb3",
   "metadata": {},
   "source": [
    "### b) Create a 2 dimensional array of zeros 256x256\n"
   ]
  },
  {
   "cell_type": "code",
   "execution_count": 214,
   "id": "11167794",
   "metadata": {
    "scrolled": true
   },
   "outputs": [],
   "source": [
    "# Code"
   ]
  },
  {
   "cell_type": "markdown",
   "id": "52380e2f",
   "metadata": {},
   "source": [
    "### c) Create a 3 dimensional array of random integers between 0..255 : 256x256x4\n",
    "<div class=\"alert alert-info\">\n",
    "    <b>Note:</b> You can confirm the min max and shape directly from the array\n",
    "</div>"
   ]
  },
  {
   "cell_type": "code",
   "execution_count": 215,
   "id": "dafceb7b",
   "metadata": {},
   "outputs": [],
   "source": [
    "# Code"
   ]
  },
  {
   "cell_type": "markdown",
   "id": "d4561645",
   "metadata": {},
   "source": [
    "### d) Save it as a image\n",
    "Considering we can correspond the first dimension to x, the second to y, the third to RGBA. We have essentially made a image. a raster graphic, bitmap image or pixel graphic to be precise. \n",
    "\n",
    "* make sure you initialized your array as dtype uint8 (unsigned integer of 8 bits length (0...255)\n",
    "* you can import it into a pillow image using fromarray and use the mode RGBA\n",
    "* and save it using pillow save\n",
    "\n",
    "Call the image totally_not_encrypted_data.png in order to confuse \"them\". \n",
    "\n",
    "<div class=\"alert alert-info\">\n",
    "    <b>Note:</b> We are using pillow to avoid all the confusion around file-format file header and compression.\n",
    "</div>\n"
   ]
  },
  {
   "cell_type": "code",
   "execution_count": 216,
   "id": "9101f0b1",
   "metadata": {},
   "outputs": [],
   "source": [
    "from PIL import Image\n"
   ]
  },
  {
   "cell_type": "markdown",
   "id": "5cb5d17d",
   "metadata": {},
   "source": [
    "### e) Slice the alpha channel from the data into just RGB and plot it as a image\n",
    "use pillow show or matplotlib imshow we will learn more about matplotlib tomorrow. "
   ]
  },
  {
   "cell_type": "code",
   "execution_count": 217,
   "id": "2cccf383",
   "metadata": {},
   "outputs": [],
   "source": [
    "from matplotlib.pyplot import imshow\n"
   ]
  },
  {
   "cell_type": "markdown",
   "id": "a7f6b627",
   "metadata": {},
   "source": [
    "### f) Read image \n",
    "Read the image provided \"MEA neurons.png\" using pillow and convert it to a numpy aray in the same format as our random image.\n"
   ]
  },
  {
   "cell_type": "code",
   "execution_count": 218,
   "id": "41b68039",
   "metadata": {},
   "outputs": [],
   "source": [
    "# Code"
   ]
  },
  {
   "cell_type": "markdown",
   "id": "e1f456e1",
   "metadata": {},
   "source": [
    "### g) remove the alpha channel using numpy\n"
   ]
  },
  {
   "cell_type": "code",
   "execution_count": 219,
   "id": "39d510df",
   "metadata": {},
   "outputs": [],
   "source": [
    "# Code"
   ]
  },
  {
   "cell_type": "markdown",
   "id": "1f69eeb6",
   "metadata": {},
   "source": [
    "### h) Change the Region of interest to the central 300x300 pixels"
   ]
  },
  {
   "cell_type": "code",
   "execution_count": 220,
   "id": "aa0cb2f2",
   "metadata": {},
   "outputs": [],
   "source": [
    "# Code"
   ]
  },
  {
   "cell_type": "markdown",
   "id": "85316b07",
   "metadata": {},
   "source": [
    "### i) Grayscale \n",
    "Our department administration is complaining about printer costs, we need to grayscale the image in order to use cheaper printer ink. \n",
    "\n",
    "You can use a very simple grayscaling algorithm $(R+G+B)/3$\n",
    "\n",
    "<div class=\"alert alert-info\">\n",
    "    <b>Note:</b> Imshow will as default use colors to represent the data and range it from max to min, to show the true image fix it by using the parameters cmap='gray', vmin=0, vmax=255\n",
    "</div>"
   ]
  },
  {
   "cell_type": "code",
   "execution_count": 221,
   "id": "31d3c938",
   "metadata": {},
   "outputs": [],
   "source": [
    "# Code\n"
   ]
  },
  {
   "cell_type": "markdown",
   "id": "968595b4",
   "metadata": {},
   "source": [
    "### j) Grayscale with pillow\n",
    "using .convert(\"L\") on a pillow image will convert it to grayscale automatically\n"
   ]
  },
  {
   "cell_type": "code",
   "execution_count": 222,
   "id": "41b06c63",
   "metadata": {},
   "outputs": [],
   "source": [
    "# Code"
   ]
  },
  {
   "cell_type": "markdown",
   "id": "2758ecfe",
   "metadata": {},
   "source": [
    "### k) Blur with scipy \n",
    "\n",
    "scipy gaussian_filter should do the job"
   ]
  },
  {
   "cell_type": "code",
   "execution_count": 223,
   "id": "2c374dc7",
   "metadata": {},
   "outputs": [],
   "source": [
    "from scipy import ndimage\n"
   ]
  },
  {
   "cell_type": "markdown",
   "id": "693f8e55",
   "metadata": {},
   "source": [
    "## Part 2\n",
    "### a) Add noise\n",
    "\n",
    "following is a plot representing melatonin levels pg/ml plasma. \n",
    "In order to make this sample more accurate add random sampling errors to the data using random values between -30 and 30\n"
   ]
  },
  {
   "cell_type": "code",
   "execution_count": 224,
   "id": "068d720a",
   "metadata": {},
   "outputs": [
    {
     "data": {
      "text/plain": [
       "[<matplotlib.lines.Line2D at 0x19663a565b0>]"
      ]
     },
     "execution_count": 224,
     "metadata": {},
     "output_type": "execute_result"
    },
    {
     "data": {
      "image/png": "[encoded data removed]",
      "text/plain": [
       "<Figure size 432x288 with 1 Axes>"
      ]
     },
     "metadata": {
      "needs_background": "light"
     },
     "output_type": "display_data"
    }
   ],
   "source": [
    "x = np.arange(0, np.pi, 0.05)\n",
    "y = np.sin(x) * 50\n",
    "y = np.pad(y, 50, 'constant') + 10\n",
    "\n",
    "plt.plot(y)"
   ]
  },
  {
   "cell_type": "markdown",
   "id": "9f2abdf1",
   "metadata": {},
   "source": [
    "### b) Add Gaussian/normal distribution of noise \n",
    "\n",
    "Instead of a fully random use a normal distribution at scale 10 instead\n",
    "\n"
   ]
  },
  {
   "cell_type": "code",
   "execution_count": 225,
   "id": "3dcfb4ef",
   "metadata": {},
   "outputs": [],
   "source": [
    "# Code"
   ]
  },
  {
   "cell_type": "markdown",
   "id": "43b849e2",
   "metadata": {},
   "source": [
    "### c) Clean the noise using convolution \n",
    "Using a convolution kernal/filter of the 10 closest with equal representation"
   ]
  },
  {
   "cell_type": "code",
   "execution_count": 226,
   "id": "a0642519",
   "metadata": {},
   "outputs": [],
   "source": [
    "# Code"
   ]
  },
  {
   "cell_type": "markdown",
   "id": "e305be03",
   "metadata": {},
   "source": [
    "### d) Use mirror or wrapping mode instead\n",
    "If you used standard numpy convolution, try using scipy with wrap or mirror mode instead. "
   ]
  },
  {
   "cell_type": "code",
   "execution_count": 227,
   "id": "5a620265",
   "metadata": {
    "pycharm": {
     "name": "#%%\n"
    }
   },
   "outputs": [],
   "source": [
    "# Code"
   ]
  }
 ],
 "metadata": {
  "kernelspec": {
   "display_name": "Python [conda env:w1_python] *",
   "language": "python",
   "name": "conda-env-w1_python-py"
  },
  "language_info": {
   "codemirror_mode": {
    "name": "ipython",
    "version": 3
   },
   "file_extension": ".py",
   "mimetype": "text/x-python",
   "name": "python",
   "nbconvert_exporter": "python",
   "pygments_lexer": "ipython3",
   "version": "3.8.10"
  },
  "pycharm": {
   "stem_cell": {
    "cell_type": "raw",
    "source": [],
    "metadata": {
     "collapsed": false
    }
   }
  }
 },
 "nbformat": 4,
 "nbformat_minor": 5
}