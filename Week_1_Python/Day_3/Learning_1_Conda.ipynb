{
 "cells": [
  {
   "cell_type": "markdown",
   "metadata": {
    "collapsed": true,
    "pycharm": {
     "is_executing": false
    }
   },
   "source": [
    "# How to use Conda as a package manager\n",
    "\n",
    "\n",
    "A package manager is software or a collection of software that aid and help with installing\\updating\\removing software, typically for dependencies.\n",
    "\n",
    "Most programming language one or even several competing package manger \n",
    "JavaScript has NPM, Bower, Yarn and probably more\n",
    "C#/.Net has nuget \n",
    "\n",
    "Python has Pip, that usually comes pre-installed together with python. \n",
    "\n",
    "We will be using anaconda's included package manger conda. The main advantage of using conda over pip is the environment (env) feature, it allows us to create standard configurations of dependencies that can be activated(loaded) / deactivated(unloaded) and also exported and imported. This is very useful when you are working on several different projects that are built from conflicting dependencies. \n",
    "\n",
    "The following is a step by step guide on how to create, use and export the required dependency for this project. \n",
    "A good deal of what we will be doing can also be done through the GUI that is Anaconda Navigator. \n",
    "\n",
    "## Step 1: Create your environment \n",
    "you already have a default environment, but we want to create a unique one just for this week\n",
    "\n",
    "1. Open the conda promt\n",
    "2. Path to your w1_python repository\n",
    "3. conda create --name w1_python python=3.8\n",
    "4. y\n",
    "\n",
    "## Step 2: Activate the environment\n",
    "So far we have only created the environment but not activated it. \n",
    "\n",
    "1. conda activate w1_python\n",
    "2. Confirm that it is active by going to the conda tab in the file-overview tab\n",
    "\n",
    "\n",
    "<div class=\"alert alert-warning\">\n",
    "    <b>Note:</b> In order to use this environment in jupyter notebook you might have to:\n",
    "    <ul>\n",
    "        <li>Restart jupyter</li>\n",
    "        <li>If you dont even have a conda tab in the jupyter fileoverview install nb_conda, command: conda install nb_conda </li>\n",
    "    </ul>\n",
    "</div>\n",
    "\n",
    " \n",
    "<div class=\"alert alert-info\">\n",
    "    <b>Note:</b> conda also supports activating environment for specific locations. \n",
    "</div>\n",
    " \n",
    "## Step 3: Install some packages\n",
    "we will install the packages numpy version 1.20.3, scikit-learn version 0.24.2 and scipy version 1.6.2\n",
    "\n",
    "1. conda install numpy==1.20.3\n",
    "2. conda install scikit-learn==0.24.2\n",
    "\n",
    "Test your environment with the underlying code:"
   ]
  },
  {
   "cell_type": "code",
   "execution_count": 1,
   "metadata": {
    "pycharm": {
     "is_executing": false
    }
   },
   "outputs": [
    {
     "name": "stdout",
     "output_type": "stream",
     "text": [
      "1.20.3\n",
      "0.24.2\n",
      "1.6.2\n"
     ]
    }
   ],
   "source": [
    "import numpy as np\n",
    "print(np.__version__)\n",
    "import sklearn\n",
    "print(sklearn.__version__)\n",
    "import scipy\n",
    "print(scipy.__version__)\n"
   ]
  },
  {
   "cell_type": "markdown",
   "metadata": {
    "pycharm": {
     "is_executing": false
    }
   },
   "source": [
    "the reson you have scipy as well is because it is already a dependency for scikit-learn \n",
    "\n",
    "### Step 4: Exporting your environment\n",
    "1. conda env export --name w1_python > environment.yml \n",
    "2. (option) commit this to your github repository \n",
    "\n",
    "### Addition: How to import a environment \n",
    "1. conda env create --file envname.yml\n",
    "\n",
    "<div class=\"alert alert-info\">\n",
    "    <b>Note:</b> environment.yml is convention for naming, and is the default when importing, so in such a case --file envname.yml can be omitted. \n",
    "</div>\n",
    "\n",
    "\n"
   ]
  },
  {
   "cell_type": "code",
   "execution_count": null,
   "metadata": {},
   "outputs": [],
   "source": []
  }
 ],
 "metadata": {
  "kernelspec": {
   "display_name": "Python 3",
   "language": "python",
   "name": "python3"
  },
  "language_info": {
   "codemirror_mode": {
    "name": "ipython",
    "version": 3
   },
   "file_extension": ".py",
   "mimetype": "text/x-python",
   "name": "python",
   "nbconvert_exporter": "python",
   "pygments_lexer": "ipython3",
   "version": "3.8.10"
  }
 },
 "nbformat": 4,
 "nbformat_minor": 1
}
