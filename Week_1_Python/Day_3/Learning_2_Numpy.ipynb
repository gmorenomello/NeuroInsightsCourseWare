{
 "cells": [
  {
   "cell_type": "markdown",
   "metadata": {},
   "source": [
    "# Numpy \n",
    "\n",
    "Numpy is a strong contender the most popular library for python \n",
    "<div style=\"overflow:hidden\">\n",
    "    <img style=\"float:left; max-width:400px; padding-top:15px\" src=\"../resources/useful/libraries.png\">\n",
    "</div>\n",
    "<p> at least acording to the 60k participantes to the stack overflow survey 2021 <a href=\"https://insights.stackoverflow.com/survey/2021#most-popular-technologies-misc-tech\">[1]</a><p/>\n",
    "\n",
    "You should want to use numpy because:\n",
    "* Open-source\n",
    "* Strong suport for multi-dimentional array and matrix data structures\n",
    "* Useful base of useful mathematical functions\n",
    "* Random number generator (some functionality not in math.random)\n",
    "* Mostly written in C (Fast)\n",
    "* Many other libraries can utilize numpy and many are even built on it. (e.g. pandas) \n",
    "\n",
    "\n",
    "\n",
    "\n"
   ]
  },
  {
   "cell_type": "code",
   "execution_count": null,
   "metadata": {},
   "outputs": [],
   "source": []
  }
 ],
 "metadata": {
  "kernelspec": {
   "display_name": "Python 3",
   "language": "python",
   "name": "python3"
  },
  "language_info": {
   "codemirror_mode": {
    "name": "ipython",
    "version": 3
   },
   "file_extension": ".py",
   "mimetype": "text/x-python",
   "name": "python",
   "nbconvert_exporter": "python",
   "pygments_lexer": "ipython3",
   "version": "3.7.4"
  }
 },
 "nbformat": 4,
 "nbformat_minor": 4
}
