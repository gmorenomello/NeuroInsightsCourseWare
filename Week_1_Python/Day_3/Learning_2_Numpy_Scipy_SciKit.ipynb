{
 "cells": [
  {
   "cell_type": "markdown",
   "id": "aae6a6ad",
   "metadata": {},
   "source": [
    "Numpy, Scipy and scikit are huge libraries, a reservoir of many functions and will not be covered as a learning notebook.\n",
    "\n",
    "Your time is better served getting familiar with the documentation:\n",
    "\n",
    "https://numpy.org/doc/stable/reference/routines.html\n",
    "\n",
    "https://docs.scipy.org/doc/scipy/reference/tutorial/general.html\n",
    "\n",
    "https://scikit-learn.org/stable/user_guide.html# \n",
    "https://scikit-learn.org/stable/modules/classes.html\n"
   ]
  },
  {
   "cell_type": "code",
   "execution_count": null,
   "id": "e33918aa",
   "metadata": {},
   "outputs": [],
   "source": []
  }
 ],
 "metadata": {
  "kernelspec": {
   "display_name": "Python [conda env:w1_python] *",
   "language": "python",
   "name": "conda-env-w1_python-py"
  },
  "language_info": {
   "codemirror_mode": {
    "name": "ipython",
    "version": 3
   },
   "file_extension": ".py",
   "mimetype": "text/x-python",
   "name": "python",
   "nbconvert_exporter": "python",
   "pygments_lexer": "ipython3",
   "version": "3.8.10"
  }
 },
 "nbformat": 4,
 "nbformat_minor": 5
}
