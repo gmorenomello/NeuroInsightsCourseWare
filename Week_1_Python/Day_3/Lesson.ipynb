{
 "cells": [
  {
   "cell_type": "markdown",
   "metadata": {},
   "source": [
    "# Numpy \n",
    "\n",
    "Numpy is a strong contender the most popular library for python \n",
    "<div style=\"overflow:hidden\">\n",
    "    <img style=\"float:left; max-width:400px; padding-top:15px\" src=\"../resources/useful/libraries.png\">\n",
    "</div>\n",
    "<p> at least according to the 60k participant to the stack overflow survey 2021 <a href=\"https://insights.stackoverflow.com/survey/2021#most-popular-technologies-misc-tech\">[1]</a><p/>\n",
    "\n",
    "You should want to use numpy because:\n",
    "* Open-source\n",
    "* Strong support for multi-dimensional array and matrix data structures\n",
    "* Useful base of useful mathematical functions\n",
    "* Random number generator (some functionality not in math.random)\n",
    "* Mostly written in C (Fast)\n",
    "* Many other libraries can utilize numpy and many are even built on it. (e.g. pandas) \n",
    "\n",
    "Numpy is very reminiscent of MATLAB, but there are some differences: https://numpy.org/doc/stable/user/numpy-for-matlab-users.html e.g. index start at 0.\n",
    "\n",
    "## Strolling with Numpy\n",
    "\n",
    "First we should import it. Numpy is commonly abbreviated as np. \n",
    "\n",
    "Let us confirm that we can import it and double check the version by checking the conventional variable for version"
   ]
  },
  {
   "cell_type": "code",
   "execution_count": 1,
   "metadata": {},
   "outputs": [
    {
     "data": {
      "text/plain": [
       "'1.20.3'"
      ]
     },
     "execution_count": 1,
     "metadata": {},
     "output_type": "execute_result"
    }
   ],
   "source": [
    "import numpy as np\n",
    "np.__version__\n"
   ]
  },
  {
   "cell_type": "markdown",
   "metadata": {},
   "source": [
    "Lets create a numpy vector (1d array) reshape into a matrix (2d array) some and look at what happened\n"
   ]
  },
  {
   "cell_type": "code",
   "execution_count": 11,
   "metadata": {},
   "outputs": [
    {
     "name": "stdout",
     "output_type": "stream",
     "text": [
      "[[0. 0. 0.]\n",
      " [0. 0. 0.]\n",
      " [0. 0. 0.]\n",
      " [0. 0. 0.]\n",
      " [0. 0. 0.]]\n"
     ]
    }
   ],
   "source": [
    "a = np.zeros(15).reshape(5,3)\n",
    "print(a)\n",
    "a.shape\n",
    "a.ndim\n",
    "a.size\n",
    "\n",
    "type(a)\n",
    "a.dtype\n"
   ]
  },
  {
   "cell_type": "markdown",
   "metadata": {},
   "source": [
    "Numpy uses underlying data types this has implications for\n",
    "\n",
    "* different data, integer, float, string, bytes and more, support different operations\n",
    "* different data use different bit size 8,16,32,64... \n",
    "* different data represent different conventions. singed vs unsigned. uint (0..255) vs int (-128..127)\n",
    "* and more\n",
    "\n",
    "This can be relevant in some cases, when performance is an issue and also when converting or passing data. "
   ]
  },
  {
   "cell_type": "code",
   "execution_count": 219,
   "metadata": {},
   "outputs": [
    {
     "name": "stdout",
     "output_type": "stream",
     "text": [
      "[0 1 2 3 4 5 6 7 8 9]\n"
     ]
    },
    {
     "data": {
      "text/plain": [
       "array([b'', b'', b'', b'', b'', b'', b'', b'', b'', b'', b'', b'', b'',\n",
       "       b'', b''], dtype='|S1')"
      ]
     },
     "execution_count": 219,
     "metadata": {},
     "output_type": "execute_result"
    }
   ],
   "source": [
    "#works\n",
    "a = np.arange(10, dtype=\"uint8\")\n",
    "#doesent work\n",
    "# a = np.arange(10, dtype=\"str\")\n",
    "print(a)\n",
    "np.zeros(15, dtype=\"bytes\")\n"
   ]
  },
  {
   "cell_type": "markdown",
   "metadata": {},
   "source": [
    "Lets create a whole bunch of different arrays to see what happens\n"
   ]
  },
  {
   "cell_type": "code",
   "execution_count": 229,
   "metadata": {},
   "outputs": [
    {
     "data": {
      "text/plain": [
       "array([ 0.        ,  0.00998334,  0.03973387,  0.08865606,  0.15576734,\n",
       "        0.23971277,  0.33878548,  0.45095238,  0.57388487,  0.70499422,\n",
       "        0.84147098,  0.9803281 ,  1.1184469 ,  1.25262564,  1.37962962,\n",
       "        1.49624248,  1.59931776,  1.68583018,  1.75292574,  1.79797017,\n",
       "        1.81859485,  1.81273967,  1.77869209,  1.71512199,  1.62111163,\n",
       "        1.49618036,  1.34030357,  1.15392568,  0.93796682,  0.69382305,\n",
       "        0.42336002,  0.12890005, -0.18679726, -0.52056079, -0.86883975,\n",
       "       -1.2277413 , -1.5930736 , -1.96039372, -2.32505999, -2.68228802,\n",
       "       -3.02720998, -3.35493616, -3.66061824, -3.93951353, -4.18704913,\n",
       "       -4.39888553, -4.57097862, -4.69963931, -4.78159012, -4.8140178 ,\n",
       "       -4.79462137, -4.72165488, -4.59396421, -4.41101744, -4.17292823,\n",
       "       -3.88047179, -3.53509317, -3.13890759, -2.69469264, -2.20587232,\n",
       "       -1.67649299, -1.11119128, -0.5151543 ,  0.10592757,  0.74591491,\n",
       "        1.39827992,  2.056173  ,  2.71249447,  3.35997079,  3.99123437,\n",
       "        4.59890619,  5.17568018,  5.71440862,  6.20818733,  6.65043991,\n",
       "        7.03499983,  7.35618951,  7.6088954 ,  7.78863809,  7.8916366 ,\n",
       "        7.91486597,  7.85610747,  7.71399056,  7.48802622,  7.17863083,\n",
       "        6.78714046,  6.31581504,  5.7678323 ,  5.1472713 ,  4.45908562,\n",
       "        3.70906637,  2.9037951 ,  2.05058721,  1.15742614,  0.232889  ,\n",
       "       -0.71393564, -1.6735371 , -2.63607808, -3.59149547, -4.52960535,\n",
       "       -5.44021111])"
      ]
     },
     "execution_count": 229,
     "metadata": {},
     "output_type": "execute_result"
    },
    {
     "data": {
      "image/png": "[encoded data removed]",
      "text/plain": [
       "<Figure size 432x288 with 1 Axes>"
      ]
     },
     "metadata": {
      "needs_background": "light"
     },
     "output_type": "display_data"
    }
   ],
   "source": [
    "a = np.zeros((5,3))\n",
    "\n",
    "a = np.arange(10)\n",
    "\n",
    "a = np.arange(13,37)\n",
    "\n",
    "a = np.arange(start=0, stop=1337, step=5)\n",
    "\n",
    "a = np.arange(start=0, stop=1337, step=5, dtype=\"uint8\")\n",
    "\n",
    "a = np.arange(start=0, stop=1337, step=5, dtype=\"int8\")\n",
    "\n",
    "a = np.arange(start=0, stop=1337, step=5, dtype=\"uint16\")\n",
    "\n",
    "a = np.arange(start=10000, stop=10001, step=0.01, dtype=\"float16\")\n",
    "\n",
    "a = np.arange(start=10000, stop=10001, step=0.01, dtype=\"float32\")\n",
    "\n",
    "a = np.arange(start=10000, stop=10001, step=0.01, dtype=\"float64\")\n",
    "\n",
    "a = np.linspace(0, 1, 100)\n",
    "\n",
    "a = np.linspace(0, 10, 101)\n",
    "\n",
    "a = a * np.sin(a)\n",
    "\n",
    "import matplotlib.pyplot as plt\n",
    "\n",
    "plt.plot(a)\n",
    "\n",
    "a"
   ]
  },
  {
   "cell_type": "markdown",
   "metadata": {},
   "source": [
    "### Slicing\n"
   ]
  },
  {
   "cell_type": "code",
   "execution_count": 243,
   "metadata": {},
   "outputs": [
    {
     "data": {
      "text/plain": [
       "array([  0,   1,   2,   3,   4,   5,   6,   7,   8,   9,  10,  11,  12,\n",
       "        13,  14,  15,  16,  17,  18,  19,  20,  21,  22,  23,  24,  25,\n",
       "        26,  27,  28,  29,  30,  31,  32,  33,  34,  35,  36,  37,  38,\n",
       "        39,  40,  41,  42,  43,  44,  45,  46,  47,  48,  49,  50,  51,\n",
       "        52,  53,  54,  55,  56,  57,  58,  59,  60,  61,  62,  63,  64,\n",
       "        65,  66,  67,  68,  69,  70,  71,  72,  73,  74,  75,  76,  77,\n",
       "        78,  79,  80,  81,  82,  83,  84,  85,  86,  87,  88,  89,  90,\n",
       "        91,  92,  93,  94,  95,  96,  97,  98,  99, 100, 101, 102, 103,\n",
       "       104, 105, 106, 107, 108, 109, 110, 111, 112, 113, 114, 115, 116,\n",
       "       117, 118, 119, 120, 121, 122, 123, 124, 125, 126, 127, 128, 129,\n",
       "       130, 131, 132, 133, 134, 135, 136, 137, 138, 139, 140, 141, 142,\n",
       "       143, 144, 145, 146, 147, 148, 149, 150, 151, 152, 153, 154, 155,\n",
       "       156, 157, 158, 159, 160, 161, 162, 163, 164, 165, 166, 167, 168,\n",
       "       169, 170, 171, 172, 173, 174, 175, 176, 177, 178, 179, 180, 181,\n",
       "       182, 183, 184, 185, 186, 187, 188, 189, 190, 191, 192, 193, 194,\n",
       "       195, 196, 197, 198, 199])"
      ]
     },
     "execution_count": 243,
     "metadata": {},
     "output_type": "execute_result"
    }
   ],
   "source": [
    "a = np.arange(0, 100)\n",
    "\n",
    "# a[start:end]\n",
    "a[2:88]\n",
    "\n",
    "#negative \n",
    "#a[-from_max_start:-from_max_end]\n",
    "a[:-99]\n",
    "a[-99:]\n",
    "\n",
    "\n",
    "a = np.arange(0,100).reshape((10,10))\n",
    "\n",
    "# print(a)\n",
    "a[1:9, -9:-1]\n",
    "\n",
    "a[1:9, 2]\n",
    "\n",
    "\n",
    "a2 = np.arange(100, 200)\n",
    "a2[a2<150]\n",
    "\n",
    "a = a.reshape(100)\n",
    "\n",
    "c = np.concatenate((a, a2))\n",
    "c"
   ]
  },
  {
   "cell_type": "markdown",
   "metadata": {},
   "source": [
    "## Random\n"
   ]
  },
  {
   "cell_type": "code",
   "execution_count": 217,
   "metadata": {},
   "outputs": [
    {
     "name": "stdout",
     "output_type": "stream",
     "text": [
      "[-2.13308001 -1.81037127 -1.77029345 -1.71102937 -1.6997444  -1.54583409\n",
      " -1.51366865 -1.38926122 -1.35657536 -1.17974602 -1.14242041 -1.08637606\n",
      " -0.93830664 -0.80718351 -0.73913232 -0.6981495  -0.67154262 -0.63788365\n",
      " -0.63481207 -0.59666772 -0.59335135 -0.53029703 -0.49560931 -0.47626743\n",
      " -0.43050995 -0.39646523 -0.38029901 -0.34427456 -0.34115542 -0.25142037\n",
      " -0.2176956  -0.2154428  -0.19843488 -0.18394124 -0.15990628 -0.14436429\n",
      " -0.13612433 -0.11933873 -0.10655555 -0.07125115 -0.04219284 -0.01026035\n",
      "  0.01199239  0.01936912  0.09383232  0.11356027  0.11552662  0.12692192\n",
      "  0.13624183  0.17119397  0.1822066   0.18854705  0.20405035  0.29854202\n",
      "  0.30239724  0.32446925  0.33802807  0.34359097  0.35858316  0.36046287\n",
      "  0.41035717  0.41521495  0.42253642  0.42798711  0.44604137  0.53368228\n",
      "  0.55504311  0.62754059  0.63060262  0.6670778   0.68986972  0.72178387\n",
      "  0.74324375  0.7453541   0.81778242  0.85857366  0.87846656  0.95152428\n",
      "  0.95424828  0.97041058  1.01886457  1.02616567  1.10489132  1.11065854\n",
      "  1.15422008  1.19352002  1.21023571  1.23550027  1.24309661  1.30274968\n",
      "  1.38239935  1.39103879  1.41691555  1.47926444  1.51225193  1.63949762\n",
      "  1.70783442  1.74610998  2.27709851  3.1835501 ]\n"
     ]
    }
   ],
   "source": [
    "np.random.random(1)\n",
    "\n",
    "np.random.random(10)\n",
    "\n",
    "np.random.randint(0, 3, 20)\n",
    "\n",
    "a = np.random.normal(loc=0, scale=1, size=100)\n",
    "a.sort()\n",
    "a"
   ]
  },
  {
   "cell_type": "markdown",
   "metadata": {},
   "source": [
    "## Statistics"
   ]
  },
  {
   "cell_type": "code",
   "execution_count": 222,
   "metadata": {},
   "outputs": [
    {
     "name": "stdout",
     "output_type": "stream",
     "text": [
      "[ 0.7462928  -1.24384504 -0.34665157 -0.2146657   0.18172392 -0.48953197\n",
      " -0.50930617  0.76443387  0.05361389 -0.63555794  0.2943854  -0.61719104\n",
      "  1.05625659  0.59129153  0.2805836  -0.28923437  0.19083678  2.09961353\n",
      "  0.33708812 -0.66565549  0.55476798 -0.27914618  0.88413067  0.76653846\n",
      " -0.95693865  1.83638922  0.58565183 -0.52171953 -1.18517273  1.38755011\n",
      "  0.14520741 -0.91308928  0.34442626  0.59776171  0.47605577 -0.58610952\n",
      "  0.18449152  0.5157071  -0.94424905  0.38038105 -0.22528871 -0.26434619\n",
      " -0.11080298  0.3639405   0.47570402 -1.13344729 -2.71839406 -1.197859\n",
      "  0.00527532  0.79818185 -0.16067737  0.59894025 -0.79814934  0.18877375\n",
      "  2.13338238  0.10012977 -0.08533084 -1.88812863  0.27493965  0.69243909\n",
      " -0.42709778  1.01497062  0.17520966 -1.39997666  1.50954193 -0.78799625\n",
      " -1.78788358  0.8710274   0.02313843 -1.82398773  1.04622614 -0.46565409\n",
      " -0.99184832 -2.00954704  1.43202442 -0.6852056  -0.03279063 -1.96395467\n",
      "  1.16562638 -0.51534965 -0.26121061  0.99837382  0.76613951  1.62670907\n",
      "  0.42413728 -0.56935837 -0.23549504  1.05998974 -1.62508932 -0.02126631\n",
      " -0.76647174  0.1215437   1.01876561  1.80514372  0.58346178 -0.32292117\n",
      " -1.68287953  0.26670887 -1.39293998 -0.59578897]\n"
     ]
    },
    {
     "data": {
      "text/plain": [
       "array([-2.71839406, -2.00954704, -1.96395467, -1.88812863, -1.82398773,\n",
       "       -1.78788358, -1.68287953, -1.62508932, -1.39997666, -1.39293998,\n",
       "       -1.24384504, -1.197859  , -1.18517273, -1.13344729, -0.99184832,\n",
       "       -0.95693865, -0.94424905, -0.91308928, -0.79814934, -0.78799625,\n",
       "       -0.76647174, -0.6852056 , -0.66565549, -0.63555794, -0.61719104,\n",
       "       -0.59578897, -0.58610952, -0.56935837, -0.52171953, -0.51534965,\n",
       "       -0.50930617, -0.48953197, -0.46565409, -0.42709778, -0.34665157,\n",
       "       -0.32292117, -0.28923437, -0.27914618, -0.26434619, -0.26121061,\n",
       "       -0.23549504, -0.22528871, -0.2146657 , -0.16067737, -0.11080298,\n",
       "       -0.08533084, -0.03279063, -0.02126631,  0.00527532,  0.02313843,\n",
       "        0.05361389,  0.10012977,  0.1215437 ,  0.14520741,  0.17520966,\n",
       "        0.18172392,  0.18449152,  0.18877375,  0.19083678,  0.26670887,\n",
       "        0.27493965,  0.2805836 ,  0.2943854 ,  0.33708812,  0.34442626,\n",
       "        0.3639405 ,  0.38038105,  0.42413728,  0.47570402,  0.47605577,\n",
       "        0.5157071 ,  0.55476798,  0.58346178,  0.58565183,  0.59129153,\n",
       "        0.59776171,  0.59894025,  0.69243909,  0.7462928 ,  0.76443387,\n",
       "        0.76613951,  0.76653846,  0.79818185,  0.8710274 ,  0.88413067,\n",
       "        0.99837382,  1.01497062,  1.01876561,  1.04622614,  1.05625659,\n",
       "        1.05998974,  1.16562638,  1.38755011,  1.43202442,  1.50954193,\n",
       "        1.62670907,  1.80514372,  1.83638922,  2.09961353,  2.13338238])"
      ]
     },
     "execution_count": 222,
     "metadata": {},
     "output_type": "execute_result"
    }
   ],
   "source": [
    "a = np.random.normal(loc=0, scale=1, size=100)\n",
    "\n",
    "print(a)\n",
    "\n",
    "a.mean()\n",
    "a.max()\n",
    "a.min()\n",
    "a.std()\n",
    "np.std(a)\n",
    "np.var(a)\n",
    "# np.median(a)\n",
    "\n",
    "np.percentile(a, 1)\n",
    "np.percentile(a, 10)\n",
    "np.percentile(a, 25)\n",
    "np.percentile(a, 50)\n",
    "np.percentile(a, 75)\n",
    "np.percentile(a, 90)\n",
    "np.percentile(a, 99)\n",
    "\n",
    "a.sort()\n",
    "a"
   ]
  },
  {
   "cell_type": "markdown",
   "metadata": {},
   "source": [
    "## Hello World of machine learning\n",
    "Scikit-learn Linear regression\n",
    "\n",
    "inspired from https://medium.com/analytics-vidhya/linear-regression-using-iris-dataset-hello-world-of-machine-learning-b0feecac9cc1\n",
    "\n",
    "<img src=\"../resources/useful/iris.png\">"
   ]
  },
  {
   "cell_type": "code",
   "execution_count": 364,
   "metadata": {},
   "outputs": [
    {
     "name": "stdout",
     "output_type": "stream",
     "text": [
      "<class 'pandas.core.frame.DataFrame'>\n",
      "RangeIndex: 150 entries, 0 to 149\n",
      "Data columns (total 1 columns):\n",
      " #   Column   Non-Null Count  Dtype\n",
      "---  ------   --------------  -----\n",
      " 0   species  150 non-null    int32\n",
      "dtypes: int32(1)\n",
      "memory usage: 728.0 bytes\n"
     ]
    },
    {
     "data": {
      "text/html": [
       "<div>\n",
       "<style scoped>\n",
       "    .dataframe tbody tr th:only-of-type {\n",
       "        vertical-align: middle;\n",
       "    }\n",
       "\n",
       "    .dataframe tbody tr th {\n",
       "        vertical-align: top;\n",
       "    }\n",
       "\n",
       "    .dataframe thead th {\n",
       "        text-align: right;\n",
       "    }\n",
       "</style>\n",
       "<table border=\"1\" class=\"dataframe\">\n",
       "  <thead>\n",
       "    <tr style=\"text-align: right;\">\n",
       "      <th></th>\n",
       "      <th>count</th>\n",
       "      <th>mean</th>\n",
       "      <th>std</th>\n",
       "      <th>min</th>\n",
       "      <th>25%</th>\n",
       "      <th>50%</th>\n",
       "      <th>75%</th>\n",
       "      <th>max</th>\n",
       "    </tr>\n",
       "    <tr>\n",
       "      <th>species</th>\n",
       "      <th></th>\n",
       "      <th></th>\n",
       "      <th></th>\n",
       "      <th></th>\n",
       "      <th></th>\n",
       "      <th></th>\n",
       "      <th></th>\n",
       "      <th></th>\n",
       "    </tr>\n",
       "  </thead>\n",
       "  <tbody>\n",
       "    <tr>\n",
       "      <th>setosa</th>\n",
       "      <td>50.0</td>\n",
       "      <td>5.006</td>\n",
       "      <td>0.352490</td>\n",
       "      <td>4.3</td>\n",
       "      <td>4.800</td>\n",
       "      <td>5.0</td>\n",
       "      <td>5.2</td>\n",
       "      <td>5.8</td>\n",
       "    </tr>\n",
       "    <tr>\n",
       "      <th>versicolor</th>\n",
       "      <td>50.0</td>\n",
       "      <td>5.936</td>\n",
       "      <td>0.516171</td>\n",
       "      <td>4.9</td>\n",
       "      <td>5.600</td>\n",
       "      <td>5.9</td>\n",
       "      <td>6.3</td>\n",
       "      <td>7.0</td>\n",
       "    </tr>\n",
       "    <tr>\n",
       "      <th>virginica</th>\n",
       "      <td>50.0</td>\n",
       "      <td>6.588</td>\n",
       "      <td>0.635880</td>\n",
       "      <td>4.9</td>\n",
       "      <td>6.225</td>\n",
       "      <td>6.5</td>\n",
       "      <td>6.9</td>\n",
       "      <td>7.9</td>\n",
       "    </tr>\n",
       "  </tbody>\n",
       "</table>\n",
       "</div>"
      ],
      "text/plain": [
       "            count   mean       std  min    25%  50%  75%  max\n",
       "species                                                      \n",
       "setosa       50.0  5.006  0.352490  4.3  4.800  5.0  5.2  5.8\n",
       "versicolor   50.0  5.936  0.516171  4.9  5.600  5.9  6.3  7.0\n",
       "virginica    50.0  6.588  0.635880  4.9  6.225  6.5  6.9  7.9"
      ]
     },
     "execution_count": 364,
     "metadata": {},
     "output_type": "execute_result"
    }
   ],
   "source": [
    "#Import Dataset from sklearn\n",
    "from sklearn.datasets import load_iris\n",
    "import pandas as pd\n",
    "import seaborn as sns\n",
    "\n",
    "iris = load_iris()\n",
    "\n",
    "# Creating pd DataFrames\n",
    "iris_df = pd.DataFrame(data= iris.data, columns= iris.feature_names)\n",
    "\n",
    "target_df = pd.DataFrame(data= iris.target, columns= ['species'])\n",
    "\n",
    "target_df.info()\n",
    "target_df['species'] = target_df['species'].astype(str)\n",
    "target_df['species'] = target_df['species'].replace(\"0\", \"setosa\")\n",
    "target_df['species'] = target_df['species'].replace(\"1\", \"versicolor\")\n",
    "target_df['species'] = target_df['species'].replace(\"2\", \"virginica\")\n",
    "\n",
    "#Join them togheter\n",
    "iris_df = pd.concat([iris_df, target_df], axis= 1)\n",
    "\n",
    "\n",
    "iris_df.head()\n",
    "iris_df.describe()\n",
    "iris_df.groupby(\"species\")[\"sepal length (cm)\"].describe()\n",
    "# iris_df.groupby(\"species\").get_group(\"versicolor\").describe()\n",
    "# iris_df.groupby(\"species\").get_group(\"virginica\").describe()\n",
    "\n",
    "# sns.pairplot(iris_df, hue= 'species')\n"
   ]
  },
  {
   "cell_type": "code",
   "execution_count": 373,
   "metadata": {},
   "outputs": [],
   "source": [
    "from sklearn.model_selection import train_test_split\n",
    "from sklearn import linear_model\n",
    "from sklearn.metrics import mean_squared_error, mean_absolute_error\n",
    "\n",
    "# Converting Objects to Numerical dtype\n",
    "iris_df.drop('species', axis= 1, inplace= True)\n",
    "target_df = pd.DataFrame(columns= ['species'], data= iris.target)\n",
    "iris_df = pd.concat([iris_df, target_df], axis= 1)\n",
    "\n",
    "# Variables\n",
    "x = iris_df.drop(labels=['sepal length (cm)'], axis= 1)\n",
    "# x = iris_df.drop(labels=['sepal length (cm)', 'sepal width (cm)', 'petal length (cm)', 'petal width (cm)'], axis= 1)\n",
    "y= iris_df['sepal length (cm)']\n",
    "\n",
    "x.head()\n",
    "# Splitting the Dataset \n",
    "x_train, x_test, y_train, y_test = train_test_split(x, y, test_size= 0.33, random_state= 101)\n",
    "\n",
    "# Instantiating LinearRegression() Model\n",
    "lr = linear_model.LinearRegression()\n",
    "\n",
    "# Training/Fitting the Model\n",
    "lr.fit(x_train, y_train)\n",
    "\n",
    "# Making Predictions\n",
    "pred = lr.predict(x_test)\n",
    "\n"
   ]
  },
  {
   "cell_type": "markdown",
   "metadata": {},
   "source": [
    "\n",
    "$$(\\frac{1}{n})\\sum_{i=1}^{n}\\left | y_{i} - x_{i} \\right |$$\n",
    "\n",
    "$$(\\frac{1}{n})\\sum_{i=1}^{n}  (y_{i} - x_{i} )^2 $$\n",
    "\n",
    "$$\\sqrt{\\frac{1}{n})\\sum_{i=1}^{n}  (y_{i} - x_{i} )^2}$$"
   ]
  },
  {
   "cell_type": "code",
   "execution_count": 372,
   "metadata": {},
   "outputs": [
    {
     "name": "stdout",
     "output_type": "stream",
     "text": [
      "Mean Absolute Error: 0.9243161410512623\n",
      "Mean Squared Error: 1.360307559335222\n",
      "Mean Root Squared Error: 1.1663222364917947\n",
      "[4.10007944 4.51050332 4.687635   4.73818534 4.76091786 4.83046239\n",
      " 4.84437129 4.90789461 4.93319177 4.9347765  4.97328977 5.07345452\n",
      " 5.09735047 5.10127233 5.21721782 5.46114587 5.47200924 5.49567769\n",
      " 5.53302753 5.5452921  5.60092772 5.68344523 5.7094508  5.85437218\n",
      " 5.87249006 5.88658249 5.96401471 5.98101314 5.98213258 6.00159206\n",
      " 6.01550096 6.03683228 6.09386911 6.09386911 6.17439086 6.18614616\n",
      " 6.19911914 6.24318298 6.2935498  6.42031467 6.47068148 6.47501437\n",
      " 6.54274665 6.64459972 6.64781317 6.6970219  6.78415406 6.82494485\n",
      " 6.99564965 7.34015348]\n"
     ]
    },
    {
     "data": {
      "image/png": "[encoded data removed]",
      "text/plain": [
       "<Figure size 432x288 with 1 Axes>"
      ]
     },
     "metadata": {
      "needs_background": "light"
     },
     "output_type": "display_data"
    }
   ],
   "source": [
    "# Evaluating Model's Performance\n",
    "print('Mean Absolute Error:', mean_absolute_error(y_test, pred))\n",
    "print('Mean Squared Error:', mean_squared_error(y_test, pred))\n",
    "print('Mean Root Squared Error:', np.sqrt(mean_squared_error(y_test, pred)))\n",
    "\n",
    "# X.head()\n",
    "pred.sort()\n",
    "plt.plot(pred)\n",
    "print(pred)\n",
    "# x.head()"
   ]
  },
  {
   "cell_type": "code",
   "execution_count": null,
   "metadata": {},
   "outputs": [],
   "source": []
  }
 ],
 "metadata": {
  "kernelspec": {
   "display_name": "Python 3",
   "language": "python",
   "name": "python3"
  },
  "language_info": {
   "codemirror_mode": {
    "name": "ipython",
    "version": 3
   },
   "file_extension": ".py",
   "mimetype": "text/x-python",
   "name": "python",
   "nbconvert_exporter": "python",
   "pygments_lexer": "ipython3",
   "version": "3.8.10"
  }
 },
 "nbformat": 4,
 "nbformat_minor": 4
}
