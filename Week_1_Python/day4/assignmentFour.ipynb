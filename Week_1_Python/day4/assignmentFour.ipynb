{
 "cells": [
  {
   "cell_type": "markdown",
   "metadata": {},
   "source": [
    "# Assignment 4\n",
    "In this assignment we will use matplotlib and pandas to visualize data.\n",
    "\n",
    "To pass, you need to: !!!NOT DEFINED YET!!!\n",
    "\n",
    "You can either use your own data to solve this assignment, or use the sample data set we preloaded for you from the seaborn library. If you use your own data, please remember to hand in the data together with your solution."
   ]
  },
  {
   "cell_type": "markdown",
   "metadata": {},
   "source": [
    "## Part I \n",
    "How much do you know about penguins? <br>\n",
    "Here' s a peak into the data we have:"
   ]
  },
  {
   "cell_type": "code",
   "execution_count": 2,
   "metadata": {},
   "outputs": [
    {
     "data": {
      "text/html": [
       "<div>\n",
       "<style scoped>\n",
       "    .dataframe tbody tr th:only-of-type {\n",
       "        vertical-align: middle;\n",
       "    }\n",
       "\n",
       "    .dataframe tbody tr th {\n",
       "        vertical-align: top;\n",
       "    }\n",
       "\n",
       "    .dataframe thead th {\n",
       "        text-align: right;\n",
       "    }\n",
       "</style>\n",
       "<table border=\"1\" class=\"dataframe\">\n",
       "  <thead>\n",
       "    <tr style=\"text-align: right;\">\n",
       "      <th></th>\n",
       "      <th>species</th>\n",
       "      <th>island</th>\n",
       "      <th>bill_length_mm</th>\n",
       "      <th>bill_depth_mm</th>\n",
       "      <th>flipper_length_mm</th>\n",
       "      <th>body_mass_g</th>\n",
       "      <th>sex</th>\n",
       "    </tr>\n",
       "  </thead>\n",
       "  <tbody>\n",
       "    <tr>\n",
       "      <th>0</th>\n",
       "      <td>Adelie</td>\n",
       "      <td>Torgersen</td>\n",
       "      <td>39.1</td>\n",
       "      <td>18.7</td>\n",
       "      <td>181.0</td>\n",
       "      <td>3750.0</td>\n",
       "      <td>Male</td>\n",
       "    </tr>\n",
       "    <tr>\n",
       "      <th>1</th>\n",
       "      <td>Adelie</td>\n",
       "      <td>Torgersen</td>\n",
       "      <td>39.5</td>\n",
       "      <td>17.4</td>\n",
       "      <td>186.0</td>\n",
       "      <td>3800.0</td>\n",
       "      <td>Female</td>\n",
       "    </tr>\n",
       "    <tr>\n",
       "      <th>2</th>\n",
       "      <td>Adelie</td>\n",
       "      <td>Torgersen</td>\n",
       "      <td>40.3</td>\n",
       "      <td>18.0</td>\n",
       "      <td>195.0</td>\n",
       "      <td>3250.0</td>\n",
       "      <td>Female</td>\n",
       "    </tr>\n",
       "    <tr>\n",
       "      <th>3</th>\n",
       "      <td>Adelie</td>\n",
       "      <td>Torgersen</td>\n",
       "      <td>NaN</td>\n",
       "      <td>NaN</td>\n",
       "      <td>NaN</td>\n",
       "      <td>NaN</td>\n",
       "      <td>NaN</td>\n",
       "    </tr>\n",
       "    <tr>\n",
       "      <th>4</th>\n",
       "      <td>Adelie</td>\n",
       "      <td>Torgersen</td>\n",
       "      <td>36.7</td>\n",
       "      <td>19.3</td>\n",
       "      <td>193.0</td>\n",
       "      <td>3450.0</td>\n",
       "      <td>Female</td>\n",
       "    </tr>\n",
       "  </tbody>\n",
       "</table>\n",
       "</div>"
      ],
      "text/plain": [
       "  species     island  bill_length_mm  bill_depth_mm  flipper_length_mm  \\\n",
       "0  Adelie  Torgersen            39.1           18.7              181.0   \n",
       "1  Adelie  Torgersen            39.5           17.4              186.0   \n",
       "2  Adelie  Torgersen            40.3           18.0              195.0   \n",
       "3  Adelie  Torgersen             NaN            NaN                NaN   \n",
       "4  Adelie  Torgersen            36.7           19.3              193.0   \n",
       "\n",
       "   body_mass_g     sex  \n",
       "0       3750.0    Male  \n",
       "1       3800.0  Female  \n",
       "2       3250.0  Female  \n",
       "3          NaN     NaN  \n",
       "4       3450.0  Female  "
      ]
     },
     "execution_count": 2,
     "metadata": {},
     "output_type": "execute_result"
    }
   ],
   "source": [
    "import pandas as pd \n",
    "import matplotlib.pyplot as plt\n",
    "import numpy as np \n",
    "import seaborn as sns\n",
    "\n",
    "penguins = sns.load_dataset(\"penguins\")\n",
    "penguins.head()\n"
   ]
  },
  {
   "cell_type": "markdown",
   "metadata": {},
   "source": [
    "<div style=\"overflow:hidden\">\n",
    "<img style=\"float:left\" src=\"penguins.png\">\n",
    "</div> \n",
    "*Source: https://www.galapagos.org/wp-content/uploads/2019/04/PenguinMeasurements_BLOGv3.png* \n"
   ]
  },
  {
   "cell_type": "markdown",
   "metadata": {},
   "source": [
    "### 1 Bar plots\n",
    "#### 1a)\n",
    "Count the number of penguins in the different \"species\" and display the result in a bar plot. <br>\n",
    "*Hint: Some simple tasks can be solved with the methods that pandas provides*"
   ]
  },
  {
   "cell_type": "code",
   "execution_count": 3,
   "metadata": {},
   "outputs": [],
   "source": [
    "#remember: the imports are done already and the csv data is named penguins\n",
    "#Your solution goes here\n"
   ]
  },
  {
   "cell_type": "code",
   "execution_count": 4,
   "metadata": {},
   "outputs": [
    {
     "data": {
      "text/plain": [
       "<AxesSubplot:>"
      ]
     },
     "execution_count": 4,
     "metadata": {},
     "output_type": "execute_result"
    },
    {
     "data": {
      "image/png": "[encoded data removed]",
      "text/plain": [
       "<Figure size 432x288 with 1 Axes>"
      ]
     },
     "metadata": {
      "needs_background": "light"
     },
     "output_type": "display_data"
    }
   ],
   "source": [
    "#solution - to be removed \n",
    "\n",
    "#simple solution using pandas\n",
    "#penguins[\"species\"].value_counts().plot.bar()\n",
    "penguins[\"species\"].value_counts().plot(kind = \"bar\")"
   ]
  },
  {
   "cell_type": "markdown",
   "metadata": {},
   "source": [
    "### 1b)\n",
    "Add some important information to your solution: <br>\n",
    "- Add a title\n",
    "- Add a x-label\n",
    "- Add a y-label\n",
    "\n"
   ]
  },
  {
   "cell_type": "code",
   "execution_count": 5,
   "metadata": {},
   "outputs": [],
   "source": [
    "# your solution goes here\n"
   ]
  },
  {
   "cell_type": "code",
   "execution_count": 6,
   "metadata": {},
   "outputs": [
    {
     "data": {
      "text/plain": [
       "Text(0, 0.5, 'Count')"
      ]
     },
     "execution_count": 6,
     "metadata": {},
     "output_type": "execute_result"
    },
    {
     "data": {
      "image/png": "[encoded data removed]",
      "text/plain": [
       "<Figure size 432x288 with 1 Axes>"
      ]
     },
     "metadata": {
      "needs_background": "light"
     },
     "output_type": "display_data"
    }
   ],
   "source": [
    "#solution - to be removed\n",
    "penguins[\"species\"].value_counts().plot(kind = \"bar\", title = \"Count of penguins per species\")\n",
    "plt.xlabel(\"Species\")\n",
    "plt.ylabel(\"Count\")\n"
   ]
  },
  {
   "cell_type": "markdown",
   "metadata": {},
   "source": [
    "#### 1 c)\n",
    "- Modify the figuresize of the plot to 9,7\n",
    "- Give each bar a different color"
   ]
  },
  {
   "cell_type": "code",
   "execution_count": 7,
   "metadata": {},
   "outputs": [],
   "source": [
    "#your solution"
   ]
  },
  {
   "cell_type": "code",
   "execution_count": 8,
   "metadata": {},
   "outputs": [
    {
     "data": {
      "text/plain": [
       "Text(0, 0.5, 'Count')"
      ]
     },
     "execution_count": 8,
     "metadata": {},
     "output_type": "execute_result"
    },
    {
     "data": {
      "image/png": "[encoded data removed]",
      "text/plain": [
       "<Figure size 648x504 with 1 Axes>"
      ]
     },
     "metadata": {
      "needs_background": "light"
     },
     "output_type": "display_data"
    }
   ],
   "source": [
    "penguins[\"species\"].value_counts().plot(kind = \"bar\", figsize = (9,7), color = [\"orange\", \"olive\", \"blue\"], title = \"Count of penguins per species\")\n",
    "plt.xlabel(\"Species\")\n",
    "plt.ylabel(\"Count\")"
   ]
  },
  {
   "cell_type": "markdown",
   "metadata": {},
   "source": [
    "#### 1d) *Extra task*\n",
    "*You do not need to complete this task to pass the assignment* <br> <br>\n",
    "Try the sns.barplot() method instead. Set the x-axis to be the \"species\" and the y-axis to be \"flipper_length_mm\". Set the confidence interval ci to None. If you want, you can give your solution a title.\n",
    "Can you explain how the sns.barplot() method works? <br>\n",
    "*Hint: Maybe seaborn calculates an average of the data?*"
   ]
  },
  {
   "cell_type": "code",
   "execution_count": 9,
   "metadata": {},
   "outputs": [],
   "source": [
    "# your code"
   ]
  },
  {
   "cell_type": "code",
   "execution_count": 10,
   "metadata": {},
   "outputs": [
    {
     "data": {
      "text/plain": [
       "Text(0.5, 1.0, 'Flipper length of penguin species')"
      ]
     },
     "execution_count": 10,
     "metadata": {},
     "output_type": "execute_result"
    },
    {
     "data": {
      "image/png": "[encoded data removed]",
      "text/plain": [
       "<Figure size 432x288 with 1 Axes>"
      ]
     },
     "metadata": {
      "needs_background": "light"
     },
     "output_type": "display_data"
    }
   ],
   "source": [
    "sns.barplot(x = \"species\", y = \"flipper_length_mm\", data = penguins, ci = None).set_title(\"Flipper length of penguin species\")\n",
    "\n",
    "#information about how the seaborn barplot method works:\n",
    "#The sns barplot function calculates a summary statistic for each category (google search)\n",
    "#Documentation: https://seaborn.pydata.org/generated/seaborn.barplot.html\n",
    "#the black line you see is the default CI of 95 (if you don't set it to None)"
   ]
  },
  {
   "cell_type": "code",
   "execution_count": 11,
   "metadata": {},
   "outputs": [
    {
     "data": {
      "text/plain": [
       "216.0"
      ]
     },
     "execution_count": 11,
     "metadata": {},
     "output_type": "execute_result"
    }
   ],
   "source": [
    "#calculations - to be removed\n",
    "species_group = penguins.groupby([\"species\"])\n",
    "\n",
    "adelie = species_group.get_group(\"Adelie\")\n",
    "chinstrap = species_group.get_group(\"Chinstrap\")\n",
    "gentoo = species_group.get_group(\"Gentoo\")\n",
    "\n",
    "#adelie[\"flipper_length_mm\"].mean()\n",
    "#chinstrap[\"flipper_length_mm\"].mean()\n",
    "#gentoo[\"flipper_length_mm\"].mean()\n",
    "\n",
    "#adelie[\"flipper_length_mm\"].std()\n",
    "#chinstrap[\"flipper_length_mm\"].std()\n",
    "#gentoo[\"flipper_length_mm\"].std()\n",
    "\n",
    "#adelie[\"flipper_length_mm\"].median() #190\n",
    "#chinstrap[\"flipper_length_mm\"].median() #196\n",
    "gentoo[\"flipper_length_mm\"].median() #216\n",
    "\n"
   ]
  },
  {
   "cell_type": "markdown",
   "metadata": {},
   "source": [
    "### 2 Errorbar\n",
    "We can use the errorbar function to include the mean and the standard derivation into a bar chart.\n",
    "#### 2a)\n",
    "Given the following data, use the ax.errorbar function to create a plot with species as x-axis and the flipper_length_mean as y-axis. <br>\n",
    "Set the linestyle to \"None\" and the marker to \"^\".\n",
    "\n"
   ]
  },
  {
   "cell_type": "code",
   "execution_count": 12,
   "metadata": {},
   "outputs": [
    {
     "data": {
      "image/png": "[encoded data removed]",
      "text/plain": [
       "<Figure size 432x288 with 1 Axes>"
      ]
     },
     "metadata": {
      "needs_background": "light"
     },
     "output_type": "display_data"
    }
   ],
   "source": [
    "species = [\"Adelie\", \"Chinstrap species\", \"Gentoo\"]\n",
    "flipper_length_mean = [189.95, 195.82, 217.18 ]\n",
    "flipper_length_median = [190, 196, 216]\n",
    "stdev= [6.53, 7.131, 6.48]\n",
    "\n",
    "fig,ax = plt.subplots()\n",
    "#your solution "
   ]
  },
  {
   "cell_type": "code",
   "execution_count": 13,
   "metadata": {},
   "outputs": [
    {
     "data": {
      "text/plain": [
       "<ErrorbarContainer object of 3 artists>"
      ]
     },
     "execution_count": 13,
     "metadata": {},
     "output_type": "execute_result"
    },
    {
     "data": {
      "image/png": "[encoded data removed]",
      "text/plain": [
       "<Figure size 432x288 with 1 Axes>"
      ]
     },
     "metadata": {
      "needs_background": "light"
     },
     "output_type": "display_data"
    }
   ],
   "source": [
    "#solution - to be removed\n",
    "fig,ax = plt.subplots()\n",
    "#ax.plot(species, flipper_length_mean, linestyle = \"None\", marker = \"^\")\n",
    "ax.errorbar(species, flipper_length_mean, linestyle = \"None\", marker = \"^\")"
   ]
  },
  {
   "cell_type": "markdown",
   "metadata": {},
   "source": [
    "#### 2b) \n",
    "Now do the same as in 2a) , but use the function ax.plot instead."
   ]
  },
  {
   "cell_type": "code",
   "execution_count": 14,
   "metadata": {},
   "outputs": [],
   "source": [
    "#your solution"
   ]
  },
  {
   "cell_type": "code",
   "execution_count": 15,
   "metadata": {},
   "outputs": [
    {
     "data": {
      "text/plain": [
       "[<matplotlib.lines.Line2D at 0x7f9933a913d0>]"
      ]
     },
     "execution_count": 15,
     "metadata": {},
     "output_type": "execute_result"
    },
    {
     "data": {
      "image/png": "[encoded data removed]",
      "text/plain": [
       "<Figure size 432x288 with 1 Axes>"
      ]
     },
     "metadata": {
      "needs_background": "light"
     },
     "output_type": "display_data"
    }
   ],
   "source": [
    "fig,ax = plt.subplots()\n",
    "ax.plot(species, flipper_length_mean, linestyle = \"None\", marker = \"^\")\n",
    "#ax.errorbar(species, flipper_length_mean, linestyle = \"None\", marker = \"^\")"
   ]
  },
  {
   "cell_type": "markdown",
   "metadata": {},
   "source": [
    "#### 2c)\n",
    "As you can see, there is not a lot of difference between the function \"plot\" and \"errorbar\". However, \"errorbar\" accepts additional arguments: a x-error and a y-error. If not set, they are set to None by default. <br>\n",
    "Let's add the stdev as parameter."
   ]
  },
  {
   "cell_type": "code",
   "execution_count": 16,
   "metadata": {},
   "outputs": [
    {
     "data": {
      "text/plain": [
       "<ErrorbarContainer object of 3 artists>"
      ]
     },
     "execution_count": 16,
     "metadata": {},
     "output_type": "execute_result"
    },
    {
     "data": {
      "image/png": "[encoded data removed]",
      "text/plain": [
       "<Figure size 432x288 with 1 Axes>"
      ]
     },
     "metadata": {
      "needs_background": "light"
     },
     "output_type": "display_data"
    }
   ],
   "source": [
    "fig,ax = plt.subplots()\n",
    "ax.errorbar(species, flipper_length_mean, stdev, linestyle = \"None\", marker = \"^\",capsize=3)"
   ]
  },
  {
   "cell_type": "markdown",
   "metadata": {},
   "source": [
    "#### 2d)\n",
    "Make a bar chart with species as x-axis, the flipper_length_median as y-axis. <br>\n",
    "Give each bar a different color and use the parameter alpha = 0.5 the colours less bright."
   ]
  },
  {
   "cell_type": "code",
   "execution_count": 17,
   "metadata": {},
   "outputs": [
    {
     "data": {
      "text/plain": [
       "<BarContainer object of 3 artists>"
      ]
     },
     "execution_count": 17,
     "metadata": {},
     "output_type": "execute_result"
    },
    {
     "data": {
      "image/png": "[encoded data removed]",
      "text/plain": [
       "<Figure size 432x288 with 1 Axes>"
      ]
     },
     "metadata": {
      "needs_background": "light"
     },
     "output_type": "display_data"
    }
   ],
   "source": [
    "fig,ax = plt.subplots()\n",
    "ax.bar(species, flipper_length_median, color = [\"red\", \"olive\", \"blue\"], alpha = 0.5)\n"
   ]
  },
  {
   "cell_type": "markdown",
   "metadata": {},
   "source": [
    "#### 2e)\n",
    "Now, let's add the mean and standard derivation to the bar plot you just made. <br>\n",
    "To do this you have to combine two subplots(the ones you made in tasks 2c and 2d) into one plot. "
   ]
  },
  {
   "cell_type": "code",
   "execution_count": 18,
   "metadata": {},
   "outputs": [
    {
     "data": {
      "text/plain": [
       "<ErrorbarContainer object of 3 artists>"
      ]
     },
     "execution_count": 18,
     "metadata": {},
     "output_type": "execute_result"
    },
    {
     "data": {
      "image/png": "[encoded data removed]",
      "text/plain": [
       "<Figure size 432x288 with 1 Axes>"
      ]
     },
     "metadata": {
      "needs_background": "light"
     },
     "output_type": "display_data"
    }
   ],
   "source": [
    "fig,ax = plt.subplots()\n",
    "ax.bar(species, flipper_length_median, alpha = 0.5, color = [\"red\", \"olive\", \"blue\"])\n",
    "ax.errorbar(species, flipper_length_mean,stdev, linestyle = \"None\", marker = \"^\",capsize=3)"
   ]
  },
  {
   "cell_type": "markdown",
   "metadata": {},
   "source": [
    "#### 2f)\n",
    "Make some final modifications:\n",
    "- adjust the figuresize to (12,8)\n",
    "- add a title\n",
    "- add labels for the x- and y-axis"
   ]
  },
  {
   "cell_type": "code",
   "execution_count": 20,
   "metadata": {},
   "outputs": [
    {
     "data": {
      "text/plain": [
       "Text(0, 0.5, 'Flipper length mean')"
      ]
     },
     "execution_count": 20,
     "metadata": {},
     "output_type": "execute_result"
    },
    {
     "data": {
      "image/png": "[encoded data removed]",
      "text/plain": [
       "<Figure size 720x504 with 1 Axes>"
      ]
     },
     "metadata": {
      "needs_background": "light"
     },
     "output_type": "display_data"
    }
   ],
   "source": [
    "fig,ax = plt.subplots(figsize = (10,7))\n",
    "ax.bar(species, flipper_length_median, alpha = 0.5, color = [\"red\", \"olive\", \"blue\"])\n",
    "ax.errorbar(species, flipper_length_mean,stdev, linestyle = \"None\", marker = \"^\",capsize=3)\n",
    "fig.suptitle(\"Flipper length of penguins\")\n",
    "plt.xlabel(\"Species\")\n",
    "plt.ylabel(\"Flipper length mean\")"
   ]
  },
  {
   "cell_type": "markdown",
   "metadata": {},
   "source": [
    "### 3 Histogram\n",
    "#### 3a)\n",
    "Create a histogram to show how the \"bill_length_mm\" is distributed. Use the ax.hist function for your solution and give the figure a title. "
   ]
  },
  {
   "cell_type": "code",
   "execution_count": null,
   "metadata": {},
   "outputs": [],
   "source": [
    "#your solution"
   ]
  },
  {
   "cell_type": "code",
   "execution_count": 21,
   "metadata": {},
   "outputs": [
    {
     "data": {
      "text/plain": [
       "Text(0.5, 0.98, 'Bill length of penguins')"
      ]
     },
     "execution_count": 21,
     "metadata": {},
     "output_type": "execute_result"
    },
    {
     "data": {
      "image/png": "[encoded data removed]",
      "text/plain": [
       "<Figure size 432x288 with 1 Axes>"
      ]
     },
     "metadata": {
      "needs_background": "light"
     },
     "output_type": "display_data"
    }
   ],
   "source": [
    "#Solution - to be removed\n",
    "fig, ax = plt.subplots()\n",
    "ax.hist(penguins[\"bill_length_mm\"])\n",
    "fig.suptitle(\"Bill length of penguins\")\n"
   ]
  },
  {
   "cell_type": "markdown",
   "metadata": {},
   "source": [
    "### 3b)\n",
    "Modify the bin size of your solution."
   ]
  },
  {
   "cell_type": "code",
   "execution_count": null,
   "metadata": {},
   "outputs": [],
   "source": [
    "# your solution"
   ]
  },
  {
   "cell_type": "code",
   "execution_count": 22,
   "metadata": {},
   "outputs": [
    {
     "data": {
      "text/plain": [
       "Text(0.5, 0.98, 'Bill length of penguins')"
      ]
     },
     "execution_count": 22,
     "metadata": {},
     "output_type": "execute_result"
    },
    {
     "data": {
      "image/png": "[encoded data removed]",
      "text/plain": [
       "<Figure size 432x288 with 1 Axes>"
      ]
     },
     "metadata": {
      "needs_background": "light"
     },
     "output_type": "display_data"
    }
   ],
   "source": [
    "fig, ax = plt.subplots()\n",
    "ax.hist(penguins[\"bill_length_mm\"], bins = 50)\n",
    "fig.suptitle(\"Bill length of penguins\")\n",
    "\n",
    "#penguins[\"bill_length_mm\"].plot.hist(bins =50)\n",
    "#plt.title(\"Bill length of penguins\")"
   ]
  },
  {
   "cell_type": "code",
   "execution_count": 23,
   "metadata": {},
   "outputs": [
    {
     "data": {
      "text/plain": [
       "Text(0.5, 1.0, 'Bill length of penguins')"
      ]
     },
     "execution_count": 23,
     "metadata": {},
     "output_type": "execute_result"
    },
    {
     "data": {
      "image/png": "[encoded data removed]",
      "text/plain": [
       "<Figure size 432x288 with 1 Axes>"
      ]
     },
     "metadata": {
      "needs_background": "light"
     },
     "output_type": "display_data"
    }
   ],
   "source": [
    "penguins[\"bill_length_mm\"].plot.hist(bins = 25)\n",
    "plt.title(\"Bill length of penguins\")"
   ]
  },
  {
   "cell_type": "markdown",
   "metadata": {},
   "source": [
    "#### 3c)\n",
    "Now, we will create a plot with four subplots. Create an empty plot with four subplots. Set the dpi size of the figure to 100. "
   ]
  },
  {
   "cell_type": "code",
   "execution_count": null,
   "metadata": {},
   "outputs": [],
   "source": [
    "#solution"
   ]
  },
  {
   "cell_type": "code",
   "execution_count": 24,
   "metadata": {},
   "outputs": [
    {
     "data": {
      "image/png": "[encoded data removed]",
      "text/plain": [
       "<Figure size 600x400 with 4 Axes>"
      ]
     },
     "metadata": {
      "needs_background": "light"
     },
     "output_type": "display_data"
    }
   ],
   "source": [
    "fig, axs = plt.subplots(2,2, dpi = 100)"
   ]
  },
  {
   "cell_type": "markdown",
   "metadata": {},
   "source": [
    "#### 3d)\n",
    "Make four histograms that show the bill length of penguins as subplots. Use a different bin size for each subplot. "
   ]
  },
  {
   "cell_type": "code",
   "execution_count": 25,
   "metadata": {},
   "outputs": [
    {
     "data": {
      "text/plain": [
       "(array([ 3., 17., 29., 38., 40., 27., 22., 52., 30., 40., 32.,  5.,  5.,\n",
       "         0.,  2.]),\n",
       " array([32.1       , 33.93333333, 35.76666667, 37.6       , 39.43333333,\n",
       "        41.26666667, 43.1       , 44.93333333, 46.76666667, 48.6       ,\n",
       "        50.43333333, 52.26666667, 54.1       , 55.93333333, 57.76666667,\n",
       "        59.6       ]),\n",
       " <BarContainer object of 15 artists>)"
      ]
     },
     "execution_count": 25,
     "metadata": {},
     "output_type": "execute_result"
    },
    {
     "data": {
      "image/png": "[encoded data removed]",
      "text/plain": [
       "<Figure size 600x400 with 4 Axes>"
      ]
     },
     "metadata": {
      "needs_background": "light"
     },
     "output_type": "display_data"
    }
   ],
   "source": [
    "fig, axs = plt.subplots(2,2, dpi = 100)\n",
    "axs[0,0].hist(penguins[\"bill_length_mm\"])\n",
    "axs[0,1].hist(penguins[\"bill_length_mm\"], bins = 50)\n",
    "axs[1,0].hist(penguins[\"bill_length_mm\"], bins = 25)\n",
    "axs[1,1].hist(penguins[\"bill_length_mm\"], bins = 15)"
   ]
  },
  {
   "cell_type": "code",
   "execution_count": null,
   "metadata": {},
   "outputs": [],
   "source": [
    "#solution"
   ]
  },
  {
   "cell_type": "markdown",
   "metadata": {},
   "source": [
    "#### 3e)\n",
    "Give give each subplot a title that specifies the bin size you used. Give the whole figure a title as well."
   ]
  },
  {
   "cell_type": "code",
   "execution_count": null,
   "metadata": {},
   "outputs": [],
   "source": [
    "#solutuion  "
   ]
  },
  {
   "cell_type": "code",
   "execution_count": 26,
   "metadata": {},
   "outputs": [
    {
     "data": {
      "text/plain": [
       "Text(0.5, 0.98, 'Bill length of penguins')"
      ]
     },
     "execution_count": 26,
     "metadata": {},
     "output_type": "execute_result"
    },
    {
     "data": {
      "image/png": "[encoded data removed]",
      "text/plain": [
       "<Figure size 600x400 with 4 Axes>"
      ]
     },
     "metadata": {
      "needs_background": "light"
     },
     "output_type": "display_data"
    }
   ],
   "source": [
    "fig, axs = plt.subplots(2,2, dpi = 100)\n",
    "axs[0,0].hist(penguins[\"bill_length_mm\"])\n",
    "axs[0,0].set_title(\"Automated bin size\")\n",
    "axs[0,1].hist(penguins[\"bill_length_mm\"], bins = 50)\n",
    "axs[0,1].set_title(\"bin size 50\")\n",
    "axs[1,0].hist(penguins[\"bill_length_mm\"], bins = 25)\n",
    "axs[1,0].set_title(\"bin size 25\")\n",
    "axs[1,1].hist(penguins[\"bill_length_mm\"], bins = 15)\n",
    "axs[1,1].set_title(\"bin size 15\")\n",
    "fig.suptitle(\"Bill length of penguins\")\n"
   ]
  },
  {
   "cell_type": "markdown",
   "metadata": {},
   "source": [
    "#### 3f)\n",
    "Last modifications:\n",
    "- get some extra space between the subplots by adjustasting the h_space to 0.5\n",
    "- give each histogram a different color"
   ]
  },
  {
   "cell_type": "code",
   "execution_count": 27,
   "metadata": {},
   "outputs": [
    {
     "data": {
      "image/png": "[encoded data removed]",
      "text/plain": [
       "<Figure size 600x400 with 4 Axes>"
      ]
     },
     "metadata": {
      "needs_background": "light"
     },
     "output_type": "display_data"
    }
   ],
   "source": [
    "fig, axs = plt.subplots(2,2, dpi = 100)\n",
    "axs[0,0].hist(penguins[\"bill_length_mm\"])\n",
    "axs[0,0].set_title(\"Automated bin size\")\n",
    "axs[0,1].hist(penguins[\"bill_length_mm\"], bins = 50, color = \"Red\")\n",
    "axs[0,1].set_title(\"bin size 50\")\n",
    "axs[1,0].hist(penguins[\"bill_length_mm\"], bins = 25, color = \"olive\")\n",
    "axs[1,0].set_title(\"bin size 25\")\n",
    "axs[1,1].hist(penguins[\"bill_length_mm\"], bins = 15, color = \"purple\")\n",
    "axs[1,1].set_title(\"bin size 15\")\n",
    "fig.suptitle(\"Bill length of penguins\")\n",
    "plt.subplots_adjust(hspace = 0.5)"
   ]
  },
  {
   "cell_type": "markdown",
   "metadata": {},
   "source": [
    "### 4 Scatterplot\n",
    "#### 4a)\n",
    "Make a scatterplot with the function ax.scatter, that shows how the bill length is distributed in relation to the bill depth. Give your graph a title."
   ]
  },
  {
   "cell_type": "code",
   "execution_count": null,
   "metadata": {},
   "outputs": [],
   "source": [
    "# your solution goes here"
   ]
  },
  {
   "cell_type": "code",
   "execution_count": 28,
   "metadata": {},
   "outputs": [
    {
     "data": {
      "text/plain": [
       "Text(0.5, 0.98, 'Penguin bills')"
      ]
     },
     "execution_count": 28,
     "metadata": {},
     "output_type": "execute_result"
    },
    {
     "data": {
      "image/png": "[encoded data removed]",
      "text/plain": [
       "<Figure size 432x288 with 1 Axes>"
      ]
     },
     "metadata": {
      "needs_background": "light"
     },
     "output_type": "display_data"
    }
   ],
   "source": [
    "# Solution - to be removed\n",
    "#penguins.plot.scatter(x = \"bill_length_mm\", y = \"bill_depth_mm\", title = \"Penguin bills\")\n",
    "\n",
    "#alternative solution\n",
    "fig,ax = plt.subplots()\n",
    "ax.scatter(penguins[\"bill_length_mm\"], penguins[\"bill_depth_mm\"])\n",
    "fig.suptitle(\"Penguin bills\")\n"
   ]
  },
  {
   "cell_type": "markdown",
   "metadata": {},
   "source": [
    "#### 4b)\n",
    "By now, we have filtered the given data by column several times. E.g. penguins[\"species\"] gave us the values in the column \"species\". <br>\n",
    "It is also possible to filter data by the value in the rows with the following syntax:"
   ]
  },
  {
   "cell_type": "code",
   "execution_count": 41,
   "metadata": {},
   "outputs": [],
   "source": [
    "adelie = penguins[penguins[\"species\"] == \"Adelie\"]\n",
    "# this gives us all data in the penguins table, where the row value in the column \"species\" equals\"Adelie\"\n",
    "\n",
    "chinstrap = penguins[penguins[\"species\"] == \"Chinstrap\"]\n",
    "gentoo =penguins[penguins[\"species\"] == \"Gentoo\"]"
   ]
  },
  {
   "cell_type": "markdown",
   "metadata": {},
   "source": [
    "#### Task\n",
    "Make one scatterplot for each species and combine these plots into one subplot. <br>\n",
    "*Hint: You combined several plots into one subplot in task 2e)*"
   ]
  },
  {
   "cell_type": "code",
   "execution_count": 37,
   "metadata": {},
   "outputs": [
    {
     "data": {
      "text/plain": [
       "<matplotlib.collections.PathCollection at 0x7f9932f8f2b0>"
      ]
     },
     "execution_count": 37,
     "metadata": {},
     "output_type": "execute_result"
    },
    {
     "data": {
      "image/png": "[encoded data removed]",
      "text/plain": [
       "<Figure size 432x288 with 1 Axes>"
      ]
     },
     "metadata": {
      "needs_background": "light"
     },
     "output_type": "display_data"
    }
   ],
   "source": [
    "#solution - to be removed:\n",
    "fig, axs = plt.subplots()\n",
    "axs.scatter(x = adelie[\"bill_length_mm\"], y = adelie[\"bill_depth_mm\"], label=\"Adelie\", c = \"red\")\n",
    "axs.scatter(x = chinstrap[\"bill_length_mm\"], y = chinstrap[\"bill_depth_mm\"], label=\"Chinstrap\", c = \"green\")\n",
    "axs.scatter(x = gentoo[\"bill_length_mm\"], y = gentoo[\"bill_depth_mm\"], label=\"Gentoo\", c = \"blue\")"
   ]
  },
  {
   "cell_type": "markdown",
   "metadata": {},
   "source": [
    "### 4c)\n",
    "- Adjust the figuresize to (18,6).\n",
    "- Add a label to the x and y axis\n",
    "- Make a legend that explains which species is represented by which colour. <br>\n",
    " You can specify the position of the legend to be outside of the graph by adding the parameters \"loc=center left\" and \"bbox_to_anchor=(1, 0.5)\"."
   ]
  },
  {
   "cell_type": "code",
   "execution_count": 48,
   "metadata": {},
   "outputs": [
    {
     "data": {
      "text/plain": [
       "Text(0.5, 0, 'Bill length/mm')"
      ]
     },
     "execution_count": 48,
     "metadata": {},
     "output_type": "execute_result"
    },
    {
     "data": {
      "image/png": "[encoded data removed]",
      "text/plain": [
       "<Figure size 1296x432 with 1 Axes>"
      ]
     },
     "metadata": {
      "needs_background": "light"
     },
     "output_type": "display_data"
    }
   ],
   "source": [
    "#solution - to be removed\n",
    "fig, axs = plt.subplots(figsize=(18,6))\n",
    "axs.scatter(x = adelie[\"bill_length_mm\"], y = adelie[\"bill_depth_mm\"], label=\"Adelie\", c = \"red\")\n",
    "axs.scatter(x = chinstrap[\"bill_length_mm\"], y = chinstrap[\"bill_depth_mm\"], label=\"Chinstrap\", c = \"green\")\n",
    "axs.scatter(x = gentoo[\"bill_length_mm\"], y = gentoo[\"bill_depth_mm\"], label=\"Gentoo\", c = \"blue\")\n",
    "\n",
    "plt.legend(loc = \"center left\", title = \"Species\", bbox_to_anchor=(1, 0.5))\n",
    "plt.ylabel(\"Bill depth/mm\")\n",
    "plt.xlabel(\"Bill length/mm\")\n"
   ]
  },
  {
   "cell_type": "markdown",
   "metadata": {},
   "source": [
    "### 4d)\n",
    "Save the last graph you made as an image on your computer. <br>\n",
    "*Hint: You can use the parameter \"bbox_inches='tight'\" in oder to reduce whitespace.*"
   ]
  },
  {
   "cell_type": "code",
   "execution_count": null,
   "metadata": {},
   "outputs": [],
   "source": [
    "#solution - to be removed\n",
    "fig.savefig('penguin_scatter.png', bbox_inches=\"tight\")"
   ]
  },
  {
   "cell_type": "markdown",
   "metadata": {},
   "source": [
    "## Part II "
   ]
  },
  {
   "cell_type": "markdown",
   "metadata": {},
   "source": [
    "### 1 Reverse engineering\n",
    "Given the following data and graph, try to recreate the graph as exact as possible. <br>\n",
    "The graph shows the average daily temperature from three different wheather stations in Antarctica, with data from 1957 to 1988.<br>\n",
    "*Source: https://www.coolantarctica.com/Antarctica%20fact%20file/antarctica%20environment/vostok_south_pole_mcmurdo.php*\n",
    "<div style=\"overflow:hidden\">\n",
    "<img style=\"float:left\" src=\"southpole.png\">\n",
    "</div>"
   ]
  },
  {
   "cell_type": "code",
   "execution_count": null,
   "metadata": {},
   "outputs": [],
   "source": [
    "month = [\"Jan\", \"Feb\", \"Mar\", \"Apr\", \"May\", \"Jun\", \"Jul\", \"Aug\", \"Sep\", \"Oct\", \"Nov\", \"Dec\"]\n",
    "mcmurdo = [-2.9,-9.5,-18.2,-20.7,-21.7,-23,-25.7,-26.1,-24.6,-18.9,-9.7,-3.4]\n",
    "amundsen_scott = [-28.2,-40.9,-54,-57.3,-57,-58,-59.7,-60,-59.4,-51.1,-38.3,-27.5]\n",
    "vostok = [-32.1,-44.3,-57.9,-64.7,-65.6,-65.2,-66.9,-67.6,-66,-57.1,-43.3,-32.1]\n",
    "\n",
    "#your code\n"
   ]
  },
  {
   "cell_type": "code",
   "execution_count": null,
   "metadata": {},
   "outputs": [],
   "source": [
    "# graph creation - to be removed \n",
    "fig, ax = plt.subplots(figsize=(21,7))\n",
    "fig.suptitle(\"Average daily temperature\")\n",
    "ax.plot(month, mcmurdo, \"-*\", label = \"McMurdo\")\n",
    "ax.plot(month, amundsen_scott, \"-o\",label = \"Southpole\")\n",
    "ax.plot(month, vostok, \"-^\", label = \"Vostok\")\n",
    "ax.set_xlabel(\"Degrees celsius\")\n",
    "ax.set_ylabel(\"Months\")\n",
    "ax.legend(loc=\"upper left\", bbox_to_anchor=(1.05, 1.0))\n",
    "\n",
    "#fig.savefig('southpole.png', bbox_inches='tight')"
   ]
  },
  {
   "cell_type": "markdown",
   "metadata": {},
   "source": [
    "### 2"
   ]
  },
  {
   "cell_type": "markdown",
   "metadata": {},
   "source": [
    "#### 2a)\n",
    "Split the data from penguins into one dataset for the females and one for the males. Like in task 4b) this requires you to filter by both the column and row values."
   ]
  },
  {
   "cell_type": "code",
   "execution_count": null,
   "metadata": {},
   "outputs": [],
   "source": [
    "#your solution"
   ]
  },
  {
   "cell_type": "markdown",
   "metadata": {},
   "source": [
    "#### 2b)\n",
    "Create 2 overlapping histrograms in one figure for each dataset, using the data in the column \"body_mass_g\". <br>\n",
    "- set the figure size to 10,6\n",
    "- Use the parameter alpha =0.5 to make the colours slightly transparant, so that you can see overlapping parts\n",
    "- Set a title, label the x- and y-axis\n",
    "- display a legend "
   ]
  },
  {
   "cell_type": "code",
   "execution_count": null,
   "metadata": {},
   "outputs": [],
   "source": [
    "# your solution"
   ]
  },
  {
   "cell_type": "code",
   "execution_count": 44,
   "metadata": {},
   "outputs": [
    {
     "data": {
      "text/plain": [
       "<matplotlib.legend.Legend at 0x7f99335b0a00>"
      ]
     },
     "execution_count": 44,
     "metadata": {},
     "output_type": "execute_result"
    },
    {
     "data": {
      "image/png": "[encoded data removed]",
      "text/plain": [
       "<Figure size 720x432 with 1 Axes>"
      ]
     },
     "metadata": {
      "needs_background": "light"
     },
     "output_type": "display_data"
    }
   ],
   "source": [
    "#sex_group = penguins.groupby([\"sex\"])\n",
    "\n",
    "#female = sex_group.get_group(\"Male\")\n",
    "#male = sex_group.get_group(\"Female\")\n",
    "\n",
    "female = penguins[penguins[\"sex\"] == \"Female\"]\n",
    "male = penguins[penguins[\"sex\"] == \"Male\"]\n",
    "\n",
    "fig, axs = plt.subplots(figsize=(10,6))\n",
    "fig.suptitle(\"Body mass of penguins\")\n",
    "axs.hist(female[\"body_mass_g\"], alpha=0.5, bins = 20, label = \"female\")\n",
    "axs.hist(male[\"body_mass_g\"], alpha=0.5, bins = 20, label = \"male\")\n",
    "axs.set_xlabel(\"Body mass\")\n",
    "axs.set_ylabel(\"Frequency\")\n",
    "axs.legend(loc=\"upper left\", bbox_to_anchor=(1.05, 1.0))\n",
    "\n"
   ]
  },
  {
   "cell_type": "markdown",
   "metadata": {},
   "source": [
    "### 3 Bad graphs\n",
    "Did you know that some penguins have been observed eating stones on puropse? One theory about this habit is that this helps the penguins to control their buoyancy while diving. But mostly penguins eat krill, squids and fishes. <br> <br>\n",
    "Given the following example of a bad graph,try to improve it. \n",
    "*Hint: There is a lot of details that need to be adjusted*"
   ]
  },
  {
   "cell_type": "code",
   "execution_count": null,
   "metadata": {},
   "outputs": [],
   "source": [
    "plt.rcParams.update({'font.size': 20})\n",
    "x = np.arange(2000,2020)\n",
    "\n",
    "krill = [0.5346875, 0.144625, 0.4355, 0.0886875, 0.886, 0, 0.3431875, 0, 0.062, 0, 0.8819375, 0, 0.2384375, 0.01475,\n",
    "          0.2295, 0, 0.12525, 0.0060625, 0.91925, 0.0034375, ]\n",
    "\n",
    "squids = [0.693625, 0.427375, 0.49825, 0.1061875, 0.48, 0, 0.2000625, 0, 0, 0, 0.5615625, 0, 0.0899375, 0.0283125,\n",
    "           0.1965, 0.0013125, 0.0095, 0.0101875, 0.8373125, 0.0089375, ]\n",
    "\n",
    "fishes = [0.62275, 0.558125, 0.5820625, 0.576375, 0.6211875, 0.758, 0.6659375, 0.719, 0.7610625, 0.70075, 0.7838125,\n",
    "              0.75775, 0.71925, 0.816125, 0.8740625, 0.7205625, 0.8643125, 0.8719375, 0.7998125, 0.833125, ]\n",
    "\n",
    "stones = [0.3124375, 0.7446875, 0.473625, 0.3934375, 0.69175, 0.4821875, 0.4023125, 0.5255, 0.49, 0.373875, 0.820625,\n",
    "         0.4999375, 0.4000625, 0.4525, 0.495375, 0.4064375, 0.8014375, 0.4999375, 0.542875, 0.5976875, ]\n",
    "\n",
    "xArr = np.arange(len(x))\n",
    "\n",
    "fig, ax = plt.subplots(figsize=(21, 7))\n",
    "\n",
    "line_width = 4\n",
    "ax.plot(xArr, krill, label=\"Krill\", linewidth=line_width, color=\"#3949ab\")\n",
    "ax.plot(xArr, squids, label=\"Squid\", linewidth=line_width, color=\"#039be5\")\n",
    "ax.plot(xArr, fishes, label=\"Fish\", linewidth=line_width, color=\"#00acc1\")\n",
    "ax.plot(xArr, stones, label=\"Stone\", linewidth=line_width, color=\"#00897b\")\n",
    "\n",
    "plt.xlabel(\"\")\n",
    "plt.ylabel(\"\")\n",
    "plt.ylim(([-1.0,2]))\n",
    "ax.legend()\n",
    "\n",
    "plt.xticks(xArr, labels=x)\n",
    "\n",
    "plt.show()"
   ]
  },
  {
   "cell_type": "code",
   "execution_count": null,
   "metadata": {},
   "outputs": [],
   "source": [
    "# your solution"
   ]
  }
 ],
 "metadata": {
  "interpreter": {
   "hash": "6befbfa9d273364c7b574837b49a0ebad87599371aa93d42edbc406d62e192e2"
  },
  "kernelspec": {
   "display_name": "Python 3",
   "language": "python",
   "name": "python3"
  },
  "language_info": {
   "codemirror_mode": {
    "name": "ipython",
    "version": 3
   },
   "file_extension": ".py",
   "mimetype": "text/x-python",
   "name": "python",
   "nbconvert_exporter": "python",
   "pygments_lexer": "ipython3",
   "version": "3.8.8"
  },
  "metadata": {
   "interpreter": {
    "hash": "6befbfa9d273364c7b574837b49a0ebad87599371aa93d42edbc406d62e192e2"
   }
  }
 },
 "nbformat": 4,
 "nbformat_minor": 4
}
