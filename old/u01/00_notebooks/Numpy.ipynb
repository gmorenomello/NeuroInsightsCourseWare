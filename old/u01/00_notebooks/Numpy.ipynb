{
 "cells": [
  {
   "cell_type": "markdown",
   "metadata": {},
   "source": [
    "# Numpy\n",
    "\n",
    "Numpy library to use array\n",
    "Numpy is a library that contains data structures and functions that allow for the usage of arrays and matrices.\n",
    "\n",
    "This allows to perform faster operations on much larger data sets. Which is benefitial for a data analyst.\n",
    "\n",
    "### Why learn numpy?\n",
    "- numpy arrays are orders of magnitude faster than simple lists in Python\n",
    "- much of the technology to analyse data is based on numpy\n",
    "- it packs novel functionalities embedded to the datatypes so mathematical computations are very efficient.\n",
    "- Operations with matrices and arrays\n",
    "\n",
    "### Topics\n",
    "- Numpy arrays\n",
    "  - Creating numpy arrays\n",
    "  - get/fetch operations\n",
    "  - set/motification operations\n",
    "- Numpy matrices\n",
    "  - Creating matrices\n",
    "written in C but used through a wrapper in Python"
   ]
  },
  {
   "cell_type": "markdown",
   "metadata": {},
   "source": [
    "## Creating Numpy Arrays\n",
    "\n",
    "Numpy array work in a similar way as numpy lists. With the difference that the elements of each array can only have one type."
   ]
  },
  {
   "cell_type": "code",
   "execution_count": 2,
   "metadata": {},
   "outputs": [],
   "source": [
    "import numpy as np\n",
    "\n",
    "list_1 = [1,2,3]\n",
    "\n",
    "numpy_1 = np.array(list_1)\n",
    "numpy_2 = np.array([2,3,4])"
   ]
  },
  {
   "cell_type": "code",
   "execution_count": 8,
   "metadata": {},
   "outputs": [
    {
     "name": "stdout",
     "output_type": "stream",
     "text": [
      "[1. 1. 1. 1. 1. 1. 1. 1. 1. 1.]\n",
      "[[1. 1. 1. 1. 1. 1. 1. 1. 1. 1.]\n",
      " [1. 1. 1. 1. 1. 1. 1. 1. 1. 1.]\n",
      " [1. 1. 1. 1. 1. 1. 1. 1. 1. 1.]\n",
      " [1. 1. 1. 1. 1. 1. 1. 1. 1. 1.]\n",
      " [1. 1. 1. 1. 1. 1. 1. 1. 1. 1.]\n",
      " [1. 1. 1. 1. 1. 1. 1. 1. 1. 1.]\n",
      " [1. 1. 1. 1. 1. 1. 1. 1. 1. 1.]\n",
      " [1. 1. 1. 1. 1. 1. 1. 1. 1. 1.]\n",
      " [1. 1. 1. 1. 1. 1. 1. 1. 1. 1.]\n",
      " [1. 1. 1. 1. 1. 1. 1. 1. 1. 1.]]\n"
     ]
    }
   ],
   "source": [
    "array_with_zeros = np.zeros(5)\n",
    "arraw_with_ones = np.ones(10)\n",
    "print(arraw_with_ones)\n",
    "\n",
    "# you can create matrices\n",
    "# a matrix is an array in R2\n",
    "arraw_with_ones = np.ones((10,10))\n",
    "print(arraw_with_ones)"
   ]
  },
  {
   "cell_type": "code",
   "execution_count": 11,
   "metadata": {},
   "outputs": [
    {
     "name": "stdout",
     "output_type": "stream",
     "text": [
      "[30 29 28 27 26 25 24 23 22 21]\n"
     ]
    }
   ],
   "source": [
    "range_array = np.arange(30,20,-1)\n",
    "print(range_array)"
   ]
  },
  {
   "cell_type": "code",
   "execution_count": 15,
   "metadata": {},
   "outputs": [
    {
     "name": "stdout",
     "output_type": "stream",
     "text": [
      "[ 0.  2.  4.  6.  8. 10.]\n"
     ]
    }
   ],
   "source": [
    "lower_bound = 0\n",
    "upper_bound = 10\n",
    "step = 6\n",
    "# lower bound and upper bound are inclusive\n",
    "linear_vector = np.linspace(lower_bound,upper_bound,step)\n",
    "print(linear_vector)"
   ]
  },
  {
   "cell_type": "code",
   "execution_count": 68,
   "metadata": {},
   "outputs": [
    {
     "name": "stdout",
     "output_type": "stream",
     "text": [
      "[0.16704568 0.42386009 0.03984392 0.60245084 0.81827418 0.03991576\n",
      " 0.64137376 0.19230055 0.71967193 0.22856088]\n"
     ]
    }
   ],
   "source": [
    "# create random\n",
    "print(np.random.rand(10))"
   ]
  },
  {
   "cell_type": "markdown",
   "metadata": {},
   "source": [
    "### Numpy Array types"
   ]
  },
  {
   "cell_type": "code",
   "execution_count": 65,
   "metadata": {},
   "outputs": [
    {
     "name": "stdout",
     "output_type": "stream",
     "text": [
      "[-10000.          -8947.36842105  -7894.73684211  -6842.10526316\n",
      "  -5789.47368421  -4736.84210526  -3684.21052632  -2631.57894737\n",
      "  -1578.94736842   -526.31578947    526.31578947   1578.94736842\n",
      "   2631.57894737   3684.21052632   4736.84210526   5789.47368421\n",
      "   6842.10526316   7894.73684211   8947.36842105  10000.        ]\n",
      "<class 'numpy.ndarray'>\n",
      "float64\n",
      "[240  13  42  70  99 128 156 185 214 242  14  42  71 100 128 157 186 214\n",
      " 243  16]\n",
      "uint8\n"
     ]
    }
   ],
   "source": [
    "\n",
    "linear_vector = np.linspace(-10000,10000, 20)\n",
    "print(linear_vector)\n",
    "# only gives you the type of the object\n",
    "print(type(linear_vector))\n",
    "\n",
    "\n",
    "# to see the type of the elements in the array you have to use dtype property\n",
    "print(linear_vector.dtype)\n",
    "\n",
    "# you can change the type by casting it with the astype method\n",
    "linear_vector2 = linear_vector.astype(np.uint8)\n",
    "print(linear_vector2)\n",
    "print(linear_vector2.dtype)\n",
    "\n",
    "#The type limits the range of values that you can use. \n",
    "# The number of bits establishes the rage and the resolution.\n",
    "# the signed datatypes use some bits to encode negative values, \n",
    "# unsigned transforms negative values into positive to fit the encoding"
   ]
  },
  {
   "cell_type": "markdown",
   "metadata": {},
   "source": [
    "### Fetch and basic operations"
   ]
  },
  {
   "cell_type": "code",
   "execution_count": 24,
   "metadata": {},
   "outputs": [
    {
     "name": "stdout",
     "output_type": "stream",
     "text": [
      "[300 296 292 288 284 280 276 272 268 264 260 256 252 248 244 240 236 232\n",
      " 228 224 220 216 212 208 204 200 196 192 188 184 180 176 172 168 164 160\n",
      " 156 152 148 144 140 136 132 128 124 120 116 112 108 104 100  96  92  88\n",
      "  84  80  76  72  68  64  60  56  52  48  44  40  36  32  28  24]\n",
      "288\n",
      "[288 284 280]\n",
      "[300 296 292]\n",
      "[284 280 276 272 268 264 260 256 252 248 244 240 236 232 228 224 220 216\n",
      " 212 208 204 200 196 192 188 184 180 176 172 168 164 160 156 152 148 144\n",
      " 140 136 132 128 124 120 116 112 108 104 100  96  92  88  84  80  76  72\n",
      "  68  64  60  56  52  48  44  40  36  32  28  24]\n",
      "[296 288 280 272 264 256 248 240 232 224 216 208 200 192 184 176 168 160\n",
      " 152 144 136 128 120 112 104  96  88  80  72  64  56  48  40  32  24]\n",
      "[276 280 284]\n"
     ]
    }
   ],
   "source": [
    "#Fetch operation\n",
    "# to get elements from a array you can do in the following way\n",
    "# 1- provide the index like you do in the list\n",
    "# 2- provide a range using lower_boudary(inclusive):upperboundary(excludsive):step\n",
    "\n",
    "range_array = np.arange(300,20,-4)\n",
    "print(range_array)\n",
    "\n",
    "print(range_array[3])\n",
    "\n",
    "print(range_array[3:6])\n",
    "\n",
    "\n",
    "print(range_array[:3])\n",
    "\n",
    "print(range_array[4:])\n",
    "\n",
    "print(range_array[1::2]) #adds a stride by 2\n",
    "\n",
    "print(range_array[6:3:-1]) #reversed"
   ]
  },
  {
   "cell_type": "code",
   "execution_count": 26,
   "metadata": {},
   "outputs": [
    {
     "name": "stdout",
     "output_type": "stream",
     "text": [
      "70\n",
      "(70,)\n",
      "300\n",
      "24\n",
      "162.0\n",
      "162.0\n",
      "258.6\n"
     ]
    }
   ],
   "source": [
    "#important methods and functions\n",
    "sz = range_array.size\n",
    "print(sz)\n",
    "\n",
    "sh = range_array.shape\n",
    "print(sh)\n",
    "\n",
    "mx = np.max(range_array)\n",
    "print(mx)\n",
    "\n",
    "mn = np.min(range_array)\n",
    "print(mn)\n",
    "\n",
    "av = np.average(range_array)\n",
    "print(av)\n",
    "\n",
    "md = np.median(range_array)\n",
    "print(md)\n",
    "\n",
    "pc = np.percentile(range_array,85)\n",
    "print(pc)"
   ]
  },
  {
   "cell_type": "markdown",
   "metadata": {},
   "source": [
    "### Array modification operations"
   ]
  },
  {
   "cell_type": "code",
   "execution_count": 52,
   "metadata": {},
   "outputs": [
    {
     "name": "stdout",
     "output_type": "stream",
     "text": [
      "[0 1 2 3 4 5]\n"
     ]
    }
   ],
   "source": [
    "#append\n",
    "import numpy as np\n",
    "my_array = np.arange(0,6)\n",
    "print(my_array)"
   ]
  },
  {
   "cell_type": "code",
   "execution_count": 53,
   "metadata": {},
   "outputs": [
    {
     "name": "stdout",
     "output_type": "stream",
     "text": [
      "[ 0  1  2  3 10  5]\n",
      "[51 52 53  3 10  5]\n"
     ]
    }
   ],
   "source": [
    "# you can replace elements in the array by providing their index and the substitute value\n",
    "\n",
    "my_array[4] = 10\n",
    "print(my_array)\n",
    "\n",
    "my_array[0:3] = [51, 52, 53]\n",
    "print(my_array)"
   ]
  },
  {
   "cell_type": "code",
   "execution_count": 54,
   "metadata": {},
   "outputs": [
    {
     "name": "stdout",
     "output_type": "stream",
     "text": [
      "[51 52 53  3 10  5 88]\n",
      "[51 52 53  3 10  5 88 91 92 93]\n",
      "[ 51  52  53   3  10 200 201 202   5  88  91  92  93]\n",
      "[51 52 53  3 10 88 91 92 93]\n"
     ]
    }
   ],
   "source": [
    "# append, insert and delete return new arrays\n",
    "# you can append values to the array by using the method append\n",
    "\n",
    "my_array = np.append(my_array,88)\n",
    "print(my_array)\n",
    "\n",
    "my_array = np.append(my_array,[91,92,93])\n",
    "print(my_array)\n",
    "\n",
    "# to insert values at a particular index\n",
    "my_array = np.insert(my_array,5,[200,201,202])\n",
    "print(my_array)\n",
    "\n",
    "# to remove you use the delete function\n",
    "my_array = np.delete(my_array, [5,6,7,8])\n",
    "print(my_array)"
   ]
  },
  {
   "cell_type": "code",
   "execution_count": 58,
   "metadata": {},
   "outputs": [
    {
     "name": "stdout",
     "output_type": "stream",
     "text": [
      "[53 54 55  5 12 90 93 94 95]\n",
      "[49 50 51  1  8 86 89 90 91]\n",
      "[102 104 106   6  20 176 182 184 186]\n",
      "[25.5 26.  26.5  1.5  5.  44.  45.5 46.  46.5]\n",
      "[25 26 26  1  5 44 45 46 46]\n",
      "[1 0 1 1 0 0 1 0 1]\n",
      "[2601 2704 2809    9  100 7744 8281 8464 8649]\n"
     ]
    }
   ],
   "source": [
    "# operations with a scalar\n",
    "print(my_array+2)\n",
    "print(my_array-2)\n",
    "print(my_array*2)\n",
    "print(my_array/2)\n",
    "print(my_array//2)\n",
    "print(my_array%2)\n",
    "print(my_array**2)"
   ]
  },
  {
   "cell_type": "code",
   "execution_count": 79,
   "metadata": {},
   "outputs": [
    {
     "name": "stdout",
     "output_type": "stream",
     "text": [
      "[5 5 2 4 8]\n",
      "[2 4 5 5 8]\n"
     ]
    }
   ],
   "source": [
    "my_random_array = (np.random.rand((5))*10).astype(np.uint8)\n",
    "print(my_random_array)\n",
    "my_sorted_array = np.sort(my_random_array)\n",
    "print(my_sorted_array)"
   ]
  },
  {
   "cell_type": "code",
   "execution_count": null,
   "metadata": {},
   "outputs": [],
   "source": []
  }
 ],
 "metadata": {
  "kernelspec": {
   "display_name": "Python 3",
   "language": "python",
   "name": "python3"
  },
  "language_info": {
   "codemirror_mode": {
    "name": "ipython",
    "version": 3
   },
   "file_extension": ".py",
   "mimetype": "text/x-python",
   "name": "python",
   "nbconvert_exporter": "python",
   "pygments_lexer": "ipython3",
   "version": "3.7.4"
  }
 },
 "nbformat": 4,
 "nbformat_minor": 2
}
