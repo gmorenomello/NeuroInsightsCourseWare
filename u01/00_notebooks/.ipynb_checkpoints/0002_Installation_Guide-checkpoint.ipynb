{
 "cells": [
  {
   "cell_type": "markdown",
   "metadata": {
    "colab_type": "text",
    "id": "NYZngXtRyVdN"
   },
   "source": [
    "## Lesson 2 - Installing Python: Anaconda\n",
    "The concepts of this course can be applied to every programming language. But we are going to focus on Python as it is open source (free), widely used in science and industry, enabled to do machine learning, statistics and deep learning, and it is easy to learn and use. \n",
    "\n",
    "Anaconda is a Python distribution that contains the Core Python, the most relevant packages to data science, machine learning and other applications, as well as some of the most powerful **IDE**s (**integrated development enviroments**) that allows you to easily write, document and debub your code.\n",
    "\n",
    "In this section we are going to install Anaconda on your computer so you are ready to do the exercises.\n",
    "\n",
    "1. Go to [Anaconda Website](https://www.anaconda.com/download/#macos)\n",
    "2. Chose your operating system (OS)\n",
    "3. Download Anaconda 3.x\n",
    "4. Double click the file\n",
    "5. Follow the instructions\n",
    "\n",
    "Once you've done that, Anaconda will be installed in your computer. Anaconda is a collection of softwers and packages that you can use to develop in python. \n",
    "\n",
    "We are going to start by using Jupyter Notebook as our IDE, and later we are going to move to spyder."
   ]
  }
 ],
 "metadata": {
  "colab": {
   "name": "WIP - Neuro-Insight Introduction to Data Science With Python to Neuroscientists.ipynb",
   "provenance": [],
   "version": "0.3.2"
  },
  "kernelspec": {
   "display_name": "Python 3",
   "language": "python",
   "name": "python3"
  },
  "language_info": {
   "codemirror_mode": {
    "name": "ipython",
    "version": 3
   },
   "file_extension": ".py",
   "mimetype": "text/x-python",
   "name": "python",
   "nbconvert_exporter": "python",
   "pygments_lexer": "ipython3",
   "version": "3.7.7"
  }
 },
 "nbformat": 4,
 "nbformat_minor": 1
}
