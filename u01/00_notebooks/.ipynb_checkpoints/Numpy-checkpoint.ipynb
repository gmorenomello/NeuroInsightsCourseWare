{
 "cells": [
  {
   "cell_type": "markdown",
   "metadata": {},
   "source": [
    "# Numpy\n",
    "\n",
    "Numpy library to use array\n",
    "Numpy is a library that contains data structures and functions that allow for the usage of arrays and matrices.\n",
    "\n",
    "This allows to perform faster operations on much larger data sets. Which is benefitial for a data analyst.\n",
    "\n",
    "### Why learn numpy?\n",
    "- numpy arrays are orders of magnitude faster than simple lists in Python\n",
    "- much of the technology to analyse data is based on numpy\n",
    "- it packs novel functionalities embedded to the datatypes so mathematical computations are very efficient.\n",
    "- Operations with matrices and arrays\n",
    "\n",
    "written in C but used through a wrapper in Python"
   ]
  }
 ],
 "metadata": {
  "kernelspec": {
   "display_name": "Python 3",
   "language": "python",
   "name": "python3"
  },
  "language_info": {
   "codemirror_mode": {
    "name": "ipython",
    "version": 3
   },
   "file_extension": ".py",
   "mimetype": "text/x-python",
   "name": "python",
   "nbconvert_exporter": "python",
   "pygments_lexer": "ipython3",
   "version": "3.7.4"
  }
 },
 "nbformat": 4,
 "nbformat_minor": 2
}
