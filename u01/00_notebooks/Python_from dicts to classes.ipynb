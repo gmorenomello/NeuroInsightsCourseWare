{
 "cells": [
  {
   "cell_type": "markdown",
   "metadata": {
    "colab_type": "text",
    "id": "b-Kl3o12ZO4t"
   },
   "source": [
    "# Intro to Python\n",
    "This notebook provides a \"refresh\" for those a bit rusty with Python. <br>\n",
    "The code is based on several examples from the internet - credits at the end of the notebook."
   ]
  },
  {
   "cell_type": "markdown",
   "metadata": {
    "colab_type": "text",
    "id": "_yJgLKLyZO4y"
   },
   "source": [
    "## Dictionaries"
   ]
  },
  {
   "cell_type": "code",
   "execution_count": 0,
   "metadata": {
    "colab": {},
    "colab_type": "code",
    "id": "NhDV6nDKZO42"
   },
   "outputs": [],
   "source": [
    "my_dict = {'first': 'Aiko',\n",
    "           'last': 'Yamashita'}"
   ]
  },
  {
   "cell_type": "code",
   "execution_count": 0,
   "metadata": {
    "colab": {},
    "colab_type": "code",
    "id": "GSBRFuHyZO5D",
    "outputId": "9d73040d-c923-44b0-b803-db7b587a3c77"
   },
   "outputs": [
    {
     "data": {
      "text/plain": [
       "'Pablo'"
      ]
     },
     "execution_count": 62,
     "metadata": {
      "tags": []
     },
     "output_type": "execute_result"
    }
   ],
   "source": [
    "my_dict['first']"
   ]
  },
  {
   "cell_type": "code",
   "execution_count": 0,
   "metadata": {
    "colab": {},
    "colab_type": "code",
    "id": "j8sccNQGZO5M",
    "outputId": "6e21aba1-e7b2-4835-8e8f-53dccefa044f"
   },
   "outputs": [
    {
     "ename": "KeyError",
     "evalue": "'middle'",
     "output_type": "error",
     "traceback": [
      "\u001b[0;31m---------------------------------------------------------------------------\u001b[0m",
      "\u001b[0;31mKeyError\u001b[0m                                  Traceback (most recent call last)",
      "\u001b[0;32m<ipython-input-57-133f8eec91b6>\u001b[0m in \u001b[0;36m<module>\u001b[0;34m()\u001b[0m\n\u001b[0;32m----> 1\u001b[0;31m \u001b[0mmy_dict\u001b[0m\u001b[0;34m[\u001b[0m\u001b[0;34m'middle'\u001b[0m\u001b[0;34m]\u001b[0m\u001b[0;34m\u001b[0m\u001b[0m\n\u001b[0m",
      "\u001b[0;31mKeyError\u001b[0m: 'middle'"
     ]
    }
   ],
   "source": [
    "my_dict['middle']"
   ]
  },
  {
   "cell_type": "code",
   "execution_count": 0,
   "metadata": {
    "colab": {},
    "colab_type": "code",
    "id": "inoGw3vJZO5U",
    "outputId": "1a821d22-8382-4e1d-ec18-c562189258c9"
   },
   "outputs": [
    {
     "data": {
      "text/plain": [
       "'N/A'"
      ]
     },
     "execution_count": 58,
     "metadata": {
      "tags": []
     },
     "output_type": "execute_result"
    }
   ],
   "source": [
    "# Default value in case key doesn't exist\n",
    "my_dict.get('second-middle', 'N/A')"
   ]
  },
  {
   "cell_type": "code",
   "execution_count": 0,
   "metadata": {
    "colab": {},
    "colab_type": "code",
    "id": "xhiwV-0vZO5b",
    "outputId": "65d9c8a8-2e28-4341-c146-f7362b7b711e"
   },
   "outputs": [
    {
     "data": {
      "text/plain": [
       "dict_keys(['first', 'last'])"
      ]
     },
     "execution_count": 59,
     "metadata": {
      "tags": []
     },
     "output_type": "execute_result"
    }
   ],
   "source": [
    "my_dict.keys()"
   ]
  },
  {
   "cell_type": "code",
   "execution_count": 0,
   "metadata": {
    "colab": {},
    "colab_type": "code",
    "id": "KgyqOoRiZO5i",
    "outputId": "e453bc34-7127-41c2-83ea-6079ac70e420"
   },
   "outputs": [
    {
     "data": {
      "text/plain": [
       "dict_values(['Richard', 'Dawkins'])"
      ]
     },
     "execution_count": 6,
     "metadata": {
      "tags": []
     },
     "output_type": "execute_result"
    }
   ],
   "source": [
    "my_dict.values()"
   ]
  },
  {
   "cell_type": "code",
   "execution_count": 0,
   "metadata": {
    "colab": {},
    "colab_type": "code",
    "id": "B_f8gZ5iZO5n",
    "outputId": "81ba6192-c660-486d-a533-fef6a0532104"
   },
   "outputs": [
    {
     "data": {
      "text/plain": [
       "dict_items([('first', 'Richard'), ('last', 'Dawkins')])"
      ]
     },
     "execution_count": 7,
     "metadata": {
      "tags": []
     },
     "output_type": "execute_result"
    }
   ],
   "source": [
    "my_dict.items()"
   ]
  },
  {
   "cell_type": "code",
   "execution_count": 0,
   "metadata": {
    "colab": {},
    "colab_type": "code",
    "id": "VJMD8o72ZO5u",
    "outputId": "379d749b-27b9-495a-d8eb-d6b1e6faf53f"
   },
   "outputs": [
    {
     "data": {
      "text/plain": [
       "True"
      ]
     },
     "execution_count": 8,
     "metadata": {
      "tags": []
     },
     "output_type": "execute_result"
    }
   ],
   "source": [
    "'first' in my_dict"
   ]
  },
  {
   "cell_type": "code",
   "execution_count": 0,
   "metadata": {
    "colab": {},
    "colab_type": "code",
    "id": "HkwjgTmLZO50",
    "outputId": "0f8806dd-7bbb-4955-86b9-269a540aeaa4"
   },
   "outputs": [
    {
     "data": {
      "text/plain": [
       "False"
      ]
     },
     "execution_count": 9,
     "metadata": {
      "tags": []
     },
     "output_type": "execute_result"
    }
   ],
   "source": [
    "'middle' in my_dict"
   ]
  },
  {
   "cell_type": "code",
   "execution_count": 0,
   "metadata": {
    "colab": {},
    "colab_type": "code",
    "id": "8QjXGRbYZO56",
    "outputId": "f9ea0e1b-1d04-456d-b88e-0b63edd0bfef"
   },
   "outputs": [
    {
     "name": "stdout",
     "output_type": "stream",
     "text": [
      "first Richard\n",
      "last Dawkins\n"
     ]
    }
   ],
   "source": [
    "for k in my_dict:\n",
    "    print(k, my_dict[k])"
   ]
  },
  {
   "cell_type": "code",
   "execution_count": 0,
   "metadata": {
    "colab": {},
    "colab_type": "code",
    "id": "OJZziTdSZO6A",
    "outputId": "1b28286c-85da-4670-c100-92e969084d6a"
   },
   "outputs": [
    {
     "data": {
      "text/plain": [
       "{0: 0, 1: 1, 2: 4, 3: 9, 4: 16, 5: 25, 6: 36, 7: 49, 8: 64, 9: 81}"
      ]
     },
     "execution_count": 11,
     "metadata": {
      "tags": []
     },
     "output_type": "execute_result"
    }
   ],
   "source": [
    "#How to create dictionaries with a range and a loop\n",
    "{i: i**2 for i in range(10)}"
   ]
  },
  {
   "cell_type": "code",
   "execution_count": 0,
   "metadata": {
    "colab": {},
    "colab_type": "code",
    "id": "7eYPkFtyZO6G",
    "outputId": "381d260f-ed6c-4499-ebef-6b3b9702ca58"
   },
   "outputs": [
    {
     "name": "stdout",
     "output_type": "stream",
     "text": [
      "4\n"
     ]
    }
   ],
   "source": [
    "#Dictionaries can contain lambda functions too!\n",
    "math_dict = {'square': lambda x: x**2, 'cube': lambda x: x**3}\n",
    "\n",
    "print(math_dict['square'](2))"
   ]
  },
  {
   "cell_type": "markdown",
   "metadata": {
    "colab_type": "text",
    "id": "TD14BBnrZO6N"
   },
   "source": [
    "## Sets"
   ]
  },
  {
   "cell_type": "code",
   "execution_count": 0,
   "metadata": {
    "colab": {},
    "colab_type": "code",
    "id": "7ctePtWiZO6T",
    "outputId": "98266c10-481e-402f-e12a-e2670e8397bd"
   },
   "outputs": [
    {
     "data": {
      "text/plain": [
       "{1, 2, 3}"
      ]
     },
     "execution_count": 13,
     "metadata": {
      "tags": []
     },
     "output_type": "execute_result"
    }
   ],
   "source": [
    "{1,2,3}"
   ]
  },
  {
   "cell_type": "code",
   "execution_count": 0,
   "metadata": {
    "colab": {},
    "colab_type": "code",
    "id": "bGimr3JEZO6Z",
    "outputId": "484fa35d-f8a9-4e5a-eca9-6da20b6563e6"
   },
   "outputs": [
    {
     "data": {
      "text/plain": [
       "{1, 2, 3}"
      ]
     },
     "execution_count": 14,
     "metadata": {
      "tags": []
     },
     "output_type": "execute_result"
    }
   ],
   "source": [
    "{1,3,2,3,3}"
   ]
  },
  {
   "cell_type": "code",
   "execution_count": 0,
   "metadata": {
    "colab": {},
    "colab_type": "code",
    "id": "kdj-YEd3ZO6d"
   },
   "outputs": [],
   "source": [
    "my_set = {\"a\", 2, (1,2)}"
   ]
  },
  {
   "cell_type": "code",
   "execution_count": 0,
   "metadata": {
    "colab": {},
    "colab_type": "code",
    "id": "oj8ArUwIZO6h"
   },
   "outputs": [],
   "source": [
    "my_set.add(\"a\")"
   ]
  },
  {
   "cell_type": "code",
   "execution_count": 0,
   "metadata": {
    "colab": {},
    "colab_type": "code",
    "id": "f29_YaVWZO6l",
    "outputId": "a64124eb-bf92-4676-c56e-cab20a769b02"
   },
   "outputs": [
    {
     "data": {
      "text/plain": [
       "{(1, 2), 2, 'a'}"
      ]
     },
     "execution_count": 17,
     "metadata": {
      "tags": []
     },
     "output_type": "execute_result"
    }
   ],
   "source": [
    "# Sets constitute a unique set of values!\n",
    "my_set"
   ]
  },
  {
   "cell_type": "markdown",
   "metadata": {
    "colab_type": "text",
    "id": "F9jCQD7aZO6p"
   },
   "source": [
    "## Objects"
   ]
  },
  {
   "cell_type": "code",
   "execution_count": 0,
   "metadata": {
    "colab": {},
    "colab_type": "code",
    "id": "IFRpTnBCZO6r"
   },
   "outputs": [],
   "source": [
    "class MyClass(object):\n",
    "    pass"
   ]
  },
  {
   "cell_type": "code",
   "execution_count": 0,
   "metadata": {
    "colab": {},
    "colab_type": "code",
    "id": "a1DhWVI6ZO6v",
    "outputId": "efc12ed8-8b7a-4e54-cfda-29ece39eb526"
   },
   "outputs": [
    {
     "data": {
      "text/plain": [
       "<__main__.MyClass at 0x10c182390>"
      ]
     },
     "execution_count": 19,
     "metadata": {
      "tags": []
     },
     "output_type": "execute_result"
    }
   ],
   "source": [
    "m = MyClass()\n",
    "m"
   ]
  },
  {
   "cell_type": "code",
   "execution_count": 0,
   "metadata": {
    "colab": {},
    "colab_type": "code",
    "id": "S57JaZEtZO60"
   },
   "outputs": [],
   "source": [
    "m.name = 'Kirk'"
   ]
  },
  {
   "cell_type": "code",
   "execution_count": 0,
   "metadata": {
    "colab": {},
    "colab_type": "code",
    "id": "5L1onTn0ZO64"
   },
   "outputs": [],
   "source": [
    "m.first_name = 'Douglas'"
   ]
  },
  {
   "cell_type": "code",
   "execution_count": 0,
   "metadata": {
    "colab": {},
    "colab_type": "code",
    "id": "7Q7ou_E5ZO68",
    "outputId": "a1d35c16-3760-4a41-d181-f42a7773da4d"
   },
   "outputs": [
    {
     "name": "stdout",
     "output_type": "stream",
     "text": [
      "Kirk, Douglas\n"
     ]
    }
   ],
   "source": [
    "print(', '.join((m.name, m.first_name)))"
   ]
  },
  {
   "cell_type": "code",
   "execution_count": 0,
   "metadata": {
    "colab": {},
    "colab_type": "code",
    "id": "xvqdCWxtZO7A"
   },
   "outputs": [],
   "source": [
    "class MyClass(object):\n",
    "    def __init__(self, name, first_name):\n",
    "        self.name = name\n",
    "        self.first_name = first_name"
   ]
  },
  {
   "cell_type": "code",
   "execution_count": 0,
   "metadata": {
    "colab": {},
    "colab_type": "code",
    "id": "LEb-sVinZO7C",
    "outputId": "4af7902f-4e01-4392-c5b8-68b6624a3797"
   },
   "outputs": [
    {
     "name": "stdout",
     "output_type": "stream",
     "text": [
      "Kirk, Douglas\n"
     ]
    }
   ],
   "source": [
    "m = MyClass('Kirk', 'Douglas')\n",
    "print(', '.join((m.name, m.first_name)))"
   ]
  },
  {
   "cell_type": "code",
   "execution_count": 0,
   "metadata": {
    "colab": {},
    "colab_type": "code",
    "id": "TeEAkPmoZO7G"
   },
   "outputs": [],
   "source": [
    "class MyClass(object):\n",
    "    var = 42"
   ]
  },
  {
   "cell_type": "code",
   "execution_count": 0,
   "metadata": {
    "colab": {},
    "colab_type": "code",
    "id": "2mdHaYiiZO7J",
    "outputId": "c91be73f-da3f-48e7-deca-9f839ba92741"
   },
   "outputs": [
    {
     "data": {
      "text/plain": [
       "42"
      ]
     },
     "execution_count": 26,
     "metadata": {
      "tags": []
     },
     "output_type": "execute_result"
    }
   ],
   "source": [
    "a = MyClass()\n",
    "a.var"
   ]
  },
  {
   "cell_type": "code",
   "execution_count": 0,
   "metadata": {
    "colab": {},
    "colab_type": "code",
    "id": "dq0Pwq2MZO7N",
    "outputId": "38b63c2e-37f2-4316-ff95-70665013f173"
   },
   "outputs": [
    {
     "data": {
      "text/plain": [
       "(42, 43)"
      ]
     },
     "execution_count": 27,
     "metadata": {
      "tags": []
     },
     "output_type": "execute_result"
    }
   ],
   "source": [
    "a.var = 43\n",
    "b = MyClass()\n",
    "b.var, a.var"
   ]
  },
  {
   "cell_type": "code",
   "execution_count": 0,
   "metadata": {
    "colab": {},
    "colab_type": "code",
    "id": "VNl79R9OZO7Q"
   },
   "outputs": [],
   "source": [
    "MyClass.var = 5"
   ]
  },
  {
   "cell_type": "code",
   "execution_count": 0,
   "metadata": {
    "colab": {},
    "colab_type": "code",
    "id": "B3VRB-BYZO7S",
    "outputId": "87d449a1-3ea7-43ff-a7f4-59c485fc095d"
   },
   "outputs": [
    {
     "name": "stdout",
     "output_type": "stream",
     "text": [
      "43 5 5\n"
     ]
    }
   ],
   "source": [
    "c = MyClass()\n",
    "print(a.var, b.var, c.var)"
   ]
  },
  {
   "cell_type": "markdown",
   "metadata": {
    "colab_type": "text",
    "id": "RW36Pf29ZO7W"
   },
   "source": [
    "**Quiz:** Are python types immutable?\n",
    "[ [hint](https://codehabitude.com/2013/12/24/python-objects-mutable-vs-immutable/) ]"
   ]
  },
  {
   "cell_type": "markdown",
   "metadata": {
    "colab_type": "text",
    "id": "KIdl_GGJZO7X"
   },
   "source": [
    "## Methods"
   ]
  },
  {
   "cell_type": "code",
   "execution_count": 0,
   "metadata": {
    "colab": {},
    "colab_type": "code",
    "collapsed": true,
    "id": "o7DXWWrQZO7Y"
   },
   "outputs": [],
   "source": [
    "class MyClass(object):\n",
    "    def __init__(self, name, first_name):\n",
    "        self.name = name\n",
    "        self.first_name = first_name\n",
    "    def fullname(self):\n",
    "        return ', '.join((self.name, self.first_name))"
   ]
  },
  {
   "cell_type": "code",
   "execution_count": 0,
   "metadata": {
    "colab": {},
    "colab_type": "code",
    "id": "5ByPwYEXZO7b",
    "outputId": "08e206bc-4bd2-40f7-e9aa-2d090d5a77cb"
   },
   "outputs": [
    {
     "data": {
      "text/plain": [
       "'Kirk, James T.'"
      ]
     },
     "execution_count": 31,
     "metadata": {
      "tags": []
     },
     "output_type": "execute_result"
    }
   ],
   "source": [
    "MyClass('Kirk', 'James T.').fullname()"
   ]
  },
  {
   "cell_type": "markdown",
   "metadata": {
    "colab_type": "text",
    "id": "o8RtjZXzZO7f"
   },
   "source": [
    "## Why classes?"
   ]
  },
  {
   "cell_type": "code",
   "execution_count": 0,
   "metadata": {
    "colab": {},
    "colab_type": "code",
    "collapsed": true,
    "id": "DSBywl0GZO7f"
   },
   "outputs": [],
   "source": [
    "class IncrementalMean(object):\n",
    "    def __init__(self, x):\n",
    "        self.x = x\n",
    "        self.n = 1\n",
    "    def add(self, x):\n",
    "        self.x += x\n",
    "        self.n += 1\n",
    "    def mean(self):\n",
    "        return float(self.x) / self.n"
   ]
  },
  {
   "cell_type": "code",
   "execution_count": 0,
   "metadata": {
    "colab": {},
    "colab_type": "code",
    "id": "Ne-fljwzZO7i",
    "outputId": "990bcbc2-24dc-418a-80ec-4670c980ebb5"
   },
   "outputs": [
    {
     "data": {
      "text/plain": [
       "15.0"
      ]
     },
     "execution_count": 33,
     "metadata": {
      "tags": []
     },
     "output_type": "execute_result"
    }
   ],
   "source": [
    "m = IncrementalMean(1)\n",
    "m.add(2)\n",
    "m.add(42)\n",
    "m.mean()"
   ]
  },
  {
   "cell_type": "markdown",
   "metadata": {
    "colab_type": "text",
    "id": "EN6UXfMZZO7l"
   },
   "source": [
    "## Inheritance"
   ]
  },
  {
   "cell_type": "code",
   "execution_count": 0,
   "metadata": {
    "colab": {},
    "colab_type": "code",
    "collapsed": true,
    "id": "20ADr-99ZO7m"
   },
   "outputs": [],
   "source": [
    "class DoIncremental(object):\n",
    "    def __init__(self, start):\n",
    "        self.current = start\n",
    "    def process(self, x):\n",
    "        self.current = self.do_increment(self.current, x)\n",
    "        print(self.current)\n",
    "    def do_increment(self, current, x):\n",
    "        return 0"
   ]
  },
  {
   "cell_type": "code",
   "execution_count": 0,
   "metadata": {
    "colab": {},
    "colab_type": "code",
    "collapsed": true,
    "id": "VTb7R8VjZO7p"
   },
   "outputs": [],
   "source": [
    "x = DoIncremental(2)"
   ]
  },
  {
   "cell_type": "code",
   "execution_count": 0,
   "metadata": {
    "colab": {},
    "colab_type": "code",
    "id": "XwpzoX0GZO7r",
    "outputId": "63e2b30c-a096-4583-a681-8c10203bac05"
   },
   "outputs": [
    {
     "name": "stdout",
     "output_type": "stream",
     "text": [
      "0\n",
      "0\n"
     ]
    },
    {
     "data": {
      "text/plain": [
       "(None, None)"
      ]
     },
     "execution_count": 36,
     "metadata": {
      "tags": []
     },
     "output_type": "execute_result"
    }
   ],
   "source": [
    "x.process(1), x.process(2)"
   ]
  },
  {
   "cell_type": "code",
   "execution_count": 0,
   "metadata": {
    "colab": {},
    "colab_type": "code",
    "collapsed": true,
    "id": "SEjlQA2zZO7u"
   },
   "outputs": [],
   "source": [
    "class AddIncremental(DoIncremental):\n",
    "    def do_increment(self, current, x):\n",
    "        return current+x"
   ]
  },
  {
   "cell_type": "code",
   "execution_count": 0,
   "metadata": {
    "colab": {},
    "colab_type": "code",
    "collapsed": true,
    "id": "5p0idvZ5ZO7y"
   },
   "outputs": [],
   "source": [
    "x = AddIncremental(0)"
   ]
  },
  {
   "cell_type": "code",
   "execution_count": 0,
   "metadata": {
    "colab": {},
    "colab_type": "code",
    "id": "oO8fOMA8ZO71",
    "outputId": "8769b15d-4ad2-4711-b10d-d6ea0010cc94"
   },
   "outputs": [
    {
     "name": "stdout",
     "output_type": "stream",
     "text": [
      "2\n",
      "7\n"
     ]
    },
    {
     "data": {
      "text/plain": [
       "(None, None)"
      ]
     },
     "execution_count": 39,
     "metadata": {
      "tags": []
     },
     "output_type": "execute_result"
    }
   ],
   "source": [
    "x.process(2), x.process(5)"
   ]
  },
  {
   "cell_type": "markdown",
   "metadata": {
    "colab_type": "text",
    "id": "kXzZtrqVZO74"
   },
   "source": [
    "## Generators"
   ]
  },
  {
   "cell_type": "code",
   "execution_count": 0,
   "metadata": {
    "colab": {},
    "colab_type": "code",
    "collapsed": true,
    "id": "cZsWxwZ4ZO75"
   },
   "outputs": [],
   "source": [
    "def get_messages():\n",
    "    messages = {'One message.', 'Another message.', 'Yet another message.'}\n",
    "    while messages:\n",
    "        yield messages.pop()"
   ]
  },
  {
   "cell_type": "code",
   "execution_count": 0,
   "metadata": {
    "colab": {},
    "colab_type": "code",
    "id": "ELN2Om5KZO79",
    "outputId": "421de3da-cb46-447f-eddc-b3fbcfe6414e"
   },
   "outputs": [
    {
     "data": {
      "text/plain": [
       "<generator object get_messages at 0x10c189d00>"
      ]
     },
     "execution_count": 41,
     "metadata": {
      "tags": []
     },
     "output_type": "execute_result"
    }
   ],
   "source": [
    "get_messages()"
   ]
  },
  {
   "cell_type": "code",
   "execution_count": 0,
   "metadata": {
    "colab": {},
    "colab_type": "code",
    "id": "YVJItCPxZO8A",
    "outputId": "748a3080-9a42-4bbb-f0d3-66e006fd8c03"
   },
   "outputs": [
    {
     "data": {
      "text/plain": [
       "['Another message.', 'Yet another message.', 'One message.']"
      ]
     },
     "execution_count": 42,
     "metadata": {
      "tags": []
     },
     "output_type": "execute_result"
    }
   ],
   "source": [
    "[i for i in get_messages()]"
   ]
  },
  {
   "cell_type": "markdown",
   "metadata": {
    "colab_type": "text",
    "collapsed": true,
    "id": "1fbYY80sZO8D"
   },
   "source": [
    "## Decorators"
   ]
  },
  {
   "cell_type": "code",
   "execution_count": 0,
   "metadata": {
    "colab": {},
    "colab_type": "code",
    "collapsed": true,
    "id": "0T0NmwVaZO8E"
   },
   "outputs": [],
   "source": [
    "# Is a bit like implementing syntactic sugar.\n",
    "\n",
    "def square_result(fn):\n",
    "    def square_inner(x):\n",
    "        return fn(x)**2\n",
    "    return square_inner"
   ]
  },
  {
   "cell_type": "code",
   "execution_count": 0,
   "metadata": {
    "colab": {},
    "colab_type": "code",
    "collapsed": true,
    "id": "wQJyLe1IZO8H"
   },
   "outputs": [],
   "source": [
    "@square_result\n",
    "def square(x):\n",
    "    return x"
   ]
  },
  {
   "cell_type": "code",
   "execution_count": 0,
   "metadata": {
    "colab": {},
    "colab_type": "code",
    "id": "nGpACHVuZO8K",
    "outputId": "98b9a6cf-7d38-4200-f658-3032a75ebb51"
   },
   "outputs": [
    {
     "data": {
      "text/plain": [
       "4"
      ]
     },
     "execution_count": 45,
     "metadata": {
      "tags": []
     },
     "output_type": "execute_result"
    }
   ],
   "source": [
    "square(2)"
   ]
  },
  {
   "cell_type": "code",
   "execution_count": 0,
   "metadata": {
    "colab": {},
    "colab_type": "code",
    "collapsed": true,
    "id": "KqpftPxPZO8M"
   },
   "outputs": [],
   "source": [
    "# A fancy way to do some 'caching' by using decorators\n",
    "the_cache = {}\n",
    "def cache(name):\n",
    "    the_cache[name] = {}\n",
    "    def cache_fn(fn):\n",
    "        def from_cache_or_call(*args):\n",
    "            return the_cache[name].setdefault(args, fn(*args))\n",
    "        return from_cache_or_call\n",
    "    return cache_fn"
   ]
  },
  {
   "cell_type": "code",
   "execution_count": 0,
   "metadata": {
    "colab": {},
    "colab_type": "code",
    "collapsed": true,
    "id": "GK7QpOpKZO8P"
   },
   "outputs": [],
   "source": [
    "@cache('cache_name')\n",
    "def expensive(x, y):\n",
    "    # do some exensive operation\n",
    "    return x**y"
   ]
  },
  {
   "cell_type": "code",
   "execution_count": 0,
   "metadata": {
    "colab": {},
    "colab_type": "code",
    "id": "uMAl71yyZO8S",
    "outputId": "98f23fbf-e373-4fd8-fdd7-a8f7b995cfb5"
   },
   "outputs": [
    {
     "data": {
      "text/plain": [
       "268435456"
      ]
     },
     "execution_count": 48,
     "metadata": {
      "tags": []
     },
     "output_type": "execute_result"
    }
   ],
   "source": [
    "expensive(128, 4)"
   ]
  },
  {
   "cell_type": "code",
   "execution_count": 0,
   "metadata": {
    "colab": {},
    "colab_type": "code",
    "id": "f3FlDh9nZO8V",
    "outputId": "6743a20e-38bb-4b4a-90a7-9619a77a62fb"
   },
   "outputs": [
    {
     "data": {
      "text/plain": [
       "{'cache_name': {(128, 4): 268435456}}"
      ]
     },
     "execution_count": 49,
     "metadata": {
      "tags": []
     },
     "output_type": "execute_result"
    }
   ],
   "source": [
    "the_cache"
   ]
  },
  {
   "cell_type": "code",
   "execution_count": 0,
   "metadata": {
    "colab": {},
    "colab_type": "code",
    "collapsed": true,
    "id": "or1mkd7NZO8Y"
   },
   "outputs": [],
   "source": [
    "the_cache['cache_name'][(128, 4)] -= 1"
   ]
  },
  {
   "cell_type": "code",
   "execution_count": 0,
   "metadata": {
    "colab": {},
    "colab_type": "code",
    "id": "Q5xYqwzfZO8b",
    "outputId": "f4ed71da-fc34-4ee3-cf39-3f01956dc032"
   },
   "outputs": [
    {
     "data": {
      "text/plain": [
       "268435455"
      ]
     },
     "execution_count": 51,
     "metadata": {
      "tags": []
     },
     "output_type": "execute_result"
    }
   ],
   "source": [
    "expensive(128, 4)"
   ]
  }
 ],
 "metadata": {
  "colab": {
   "name": "Module 1 - Intro to Python.ipynb",
   "provenance": []
  },
  "kernelspec": {
   "display_name": "Python 3",
   "language": "python",
   "name": "python3"
  },
  "language_info": {
   "codemirror_mode": {
    "name": "ipython",
    "version": 3
   },
   "file_extension": ".py",
   "mimetype": "text/x-python",
   "name": "python",
   "nbconvert_exporter": "python",
   "pygments_lexer": "ipython3",
   "version": "3.7.4"
  }
 },
 "nbformat": 4,
 "nbformat_minor": 1
}
